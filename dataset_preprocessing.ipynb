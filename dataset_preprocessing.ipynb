{
 "cells": [
  {
   "cell_type": "code",
   "execution_count": 104,
   "metadata": {},
   "outputs": [
    {
     "output_type": "stream",
     "name": "stdout",
     "text": "Unnamed: 0                                              title  \\\n0               0  Muslims BUSTED: They Stole Millions In Gov’t B...   \n1               1  Re: Why Did Attorney General Loretta Lynch Ple...   \n2               2  BREAKING: Weiner Cooperating With FBI On Hilla...   \n3               3  PIN DROP SPEECH BY FATHER OF DAUGHTER Kidnappe...   \n4               4  FANTASTIC! TRUMP'S 7 POINT PLAN To Reform Heal...   \n...           ...                                                ...   \n28706       15707  An eavesdropping Uber driver saved his 16-year...   \n28707       15708  Plane carrying six people returning from a Cav...   \n28708       15709  After helping a fraction of homeowners expecte...   \n28709       15710  Yes, this is real: Michigan just banned bannin...   \n28710       15711  What happened in Washington state after voters...   \n\n                                                 content      publication  \\\n0      Print They should pay all the back all the mon...  100percentfedup   \n1      Why Did Attorney General Loretta Lynch Plead T...  100percentfedup   \n2      Red State : \\nFox News Sunday reported this mo...  100percentfedup   \n3      Email Kayla Mueller was a prisoner and torture...  100percentfedup   \n4      Email HEALTHCARE REFORM TO MAKE AMERICA GREAT ...  100percentfedup   \n...                                                  ...              ...   \n28706           Uber driver Keith Avila picked up a p...  Washington Post   \n28707           Crews on Friday continued to search L...  Washington Post   \n28708       When the Obama administration announced a...  Washington Post   \n28709       This story has been updated. A new law in...  Washington Post   \n28710       The nation’s first recreational marijuana...  Washington Post   \n\n      label  \n0      fake  \n1      fake  \n2      fake  \n3      fake  \n4      fake  \n...     ...  \n28706  real  \n28707  real  \n28708  real  \n28709  real  \n28710  real  \n\n[28711 rows x 5 columns]\n"
    }
   ],
   "source": [
    "import pandas as pd \n",
    "from collections import Counter\n",
    "import numpy as np \n",
    "from sklearn.feature_extraction.text import TfidfVectorizer\n",
    "#use first column as index \n",
    "df = pd.read_csv(\"C:\\\\Users\\\\Eli\\\\Desktop\\\\news_dataset.csv\")\n",
    "#df\n",
    "df.dropna()\n",
    "print(df)"
   ]
  },
  {
   "cell_type": "code",
   "execution_count": 92,
   "metadata": {},
   "outputs": [
    {
     "output_type": "execute_result",
     "data": {
      "text/plain": "                                               title  \\\n0  Muslims BUSTED: They Stole Millions In Gov’t B...   \n1  Re: Why Did Attorney General Loretta Lynch Ple...   \n2  BREAKING: Weiner Cooperating With FBI On Hilla...   \n3  PIN DROP SPEECH BY FATHER OF DAUGHTER Kidnappe...   \n4  FANTASTIC! TRUMP'S 7 POINT PLAN To Reform Heal...   \n\n                                             content      publication label  \n0  Print They should pay all the back all the mon...  100percentfedup  fake  \n1  Why Did Attorney General Loretta Lynch Plead T...  100percentfedup  fake  \n2  Red State : \\nFox News Sunday reported this mo...  100percentfedup  fake  \n3  Email Kayla Mueller was a prisoner and torture...  100percentfedup  fake  \n4  Email HEALTHCARE REFORM TO MAKE AMERICA GREAT ...  100percentfedup  fake  ",
      "text/html": "<div>\n<style scoped>\n    .dataframe tbody tr th:only-of-type {\n        vertical-align: middle;\n    }\n\n    .dataframe tbody tr th {\n        vertical-align: top;\n    }\n\n    .dataframe thead th {\n        text-align: right;\n    }\n</style>\n<table border=\"1\" class=\"dataframe\">\n  <thead>\n    <tr style=\"text-align: right;\">\n      <th></th>\n      <th>title</th>\n      <th>content</th>\n      <th>publication</th>\n      <th>label</th>\n    </tr>\n  </thead>\n  <tbody>\n    <tr>\n      <th>0</th>\n      <td>Muslims BUSTED: They Stole Millions In Gov’t B...</td>\n      <td>Print They should pay all the back all the mon...</td>\n      <td>100percentfedup</td>\n      <td>fake</td>\n    </tr>\n    <tr>\n      <th>1</th>\n      <td>Re: Why Did Attorney General Loretta Lynch Ple...</td>\n      <td>Why Did Attorney General Loretta Lynch Plead T...</td>\n      <td>100percentfedup</td>\n      <td>fake</td>\n    </tr>\n    <tr>\n      <th>2</th>\n      <td>BREAKING: Weiner Cooperating With FBI On Hilla...</td>\n      <td>Red State : \\nFox News Sunday reported this mo...</td>\n      <td>100percentfedup</td>\n      <td>fake</td>\n    </tr>\n    <tr>\n      <th>3</th>\n      <td>PIN DROP SPEECH BY FATHER OF DAUGHTER Kidnappe...</td>\n      <td>Email Kayla Mueller was a prisoner and torture...</td>\n      <td>100percentfedup</td>\n      <td>fake</td>\n    </tr>\n    <tr>\n      <th>4</th>\n      <td>FANTASTIC! TRUMP'S 7 POINT PLAN To Reform Heal...</td>\n      <td>Email HEALTHCARE REFORM TO MAKE AMERICA GREAT ...</td>\n      <td>100percentfedup</td>\n      <td>fake</td>\n    </tr>\n  </tbody>\n</table>\n</div>"
     },
     "metadata": {},
     "execution_count": 92
    }
   ],
   "source": [
    "#drop unnamed column where dataset was indexed seperately for fake and real articles. Would previously return two items\n",
    "#instead of one\n",
    "df.drop(df.columns[df.columns.str.contains('unnamed',case = False)],axis = 1, inplace = True)\n",
    "\n",
    "df.head()"
   ]
  },
  {
   "cell_type": "code",
   "execution_count": 93,
   "metadata": {},
   "outputs": [],
   "source": [
    "#article preprocessing \n",
    "\n",
    "import nltk, re\n",
    "from nltk.corpus import wordnet\n",
    "from nltk.corpus import stopwords\n",
    "from nltk.tokenize import word_tokenize\n",
    "from nltk.stem import WordNetLemmatizer\n",
    "from collections import Counter\n",
    "#nltk.download('punkt')\n",
    "#nltk.download('stopwords')\n",
    "#nltk.download('wordnet')\n",
    "stop_words = stopwords.words('english')\n",
    "normalizer = WordNetLemmatizer()\n",
    "\n",
    "def get_part_of_speech(word):\n",
    "  probable_part_of_speech = wordnet.synsets(word)\n",
    "  pos_counts = Counter()\n",
    "  pos_counts[\"n\"] = len(  [ item for item in probable_part_of_speech if item.pos()==\"n\"]  )\n",
    "  pos_counts[\"v\"] = len(  [ item for item in probable_part_of_speech if item.pos()==\"v\"]  )\n",
    "  pos_counts[\"a\"] = len(  [ item for item in probable_part_of_speech if item.pos()==\"a\"]  )\n",
    "  pos_counts[\"r\"] = len(  [ item for item in probable_part_of_speech if item.pos()==\"r\"]  )\n",
    "  most_likely_part_of_speech = pos_counts.most_common(1)[0][0]\n",
    "  return most_likely_part_of_speech\n",
    "\n",
    "def preprocess_text(text):\n",
    "  cleaned = re.sub(r'\\W+', ' ', text).lower()\n",
    "  tokenized = word_tokenize(cleaned)\n",
    "  normalized = \" \".join([normalizer.lemmatize(token, get_part_of_speech(token)) for token in tokenized if not re.match(r'\\d+',token)])\n",
    "  return normalized"
   ]
  },
  {
   "cell_type": "code",
   "execution_count": 106,
   "metadata": {
    "tags": [
     "outputPrepend",
     "outputPrepend",
     "outputPrepend",
     "outputPrepend",
     "outputPrepend",
     "outputPrepend",
     "outputPrepend",
     "outputPrepend",
     "outputPrepend",
     "outputPrepend",
     "outputPrepend",
     "outputPrepend",
     "outputPrepend",
     "outputPrepend",
     "outputPrepend",
     "outputPrepend",
     "outputPrepend",
     "outputPrepend",
     "outputPrepend",
     "outputPrepend",
     "outputPrepend",
     "outputPrepend",
     "outputPrepend",
     "outputPrepend",
     "outputPrepend",
     "outputPrepend",
     "outputPrepend",
     "outputPrepend",
     "outputPrepend",
     "outputPrepend",
     "outputPrepend",
     "outputPrepend",
     "outputPrepend",
     "outputPrepend",
     "outputPrepend",
     "outputPrepend"
    ]
   },
   "outputs": [
    {
     "output_type": "stream",
     "name": "stdout",
     "text": "nan 0 \n\nnan 1 \n\nnan 2 \n\nnan 3 \n\nnan 4 \n\nnan 5 \n\nnan 6 \n\nnan 7 \n\nnan 8 \n\nnan 9 \n\nnan 10 \n\nnan 11 \n\nnan 12 \n\nnan 13 \n\nnan 14 \n\nnan 15 \n\nnan 16 \n\nnan 17 \n\nnan 18 \n\nnan 19 \n\nnan 20 \n\nnan 21 \n\nnan 22 \n\nnan 23 \n\nnan 24 \n\nnan 25 \n\nnan 26 \n\nnan 27 \n\nnan 28 \n\nnan 29 \n\nnan 30 \n\nnan 31 \n\nnan 32 \n\nnan 33 \n\nnan 34 \n\nnan 35 \n\nnan 36 \n\nnan 37 \n\nnan 38 \n\nnan 39 \n\nnan 40 \n\nnan 41 \n\nnan 42 \n\nnan 43 \n\nnan 44 \n\nnan 45 \n\n"
    }
   ],
   "source": [
    "#testing on first article in df\n",
    "counter = 0\n",
    "for item in (df.content):\n",
    "    #if counter < 50:\n",
    "        # df['content'][counter] = preprocess_text(item)\n",
    "        # counter += 1\n",
    "    counter += 1\n",
    "    if type(item) != str:\n",
    "        print(item,counter, '\\n')\n",
    "\n",
    "#print(df.content[45])"
   ]
  },
  {
   "cell_type": "code",
   "execution_count": null,
   "metadata": {},
   "outputs": [],
   "source": [
    "print(df.content[45])"
   ]
  }
 ],
 "metadata": {
  "file_extension": ".py",
  "kernelspec": {
   "display_name": "Python 3.5.6 64-bit ('ML': conda)",
   "language": "python",
   "name": "python35664bitmlcondaefee471b886e48b39ca448e167f3ceeb"
  },
  "language_info": {
   "codemirror_mode": {
    "name": "ipython",
    "version": 3
   },
   "file_extension": ".py",
   "mimetype": "text/x-python",
   "name": "python",
   "nbconvert_exporter": "python",
   "pygments_lexer": "ipython3",
   "version": "3.8.1-final"
  },
  "mimetype": "text/x-python",
  "name": "python",
  "npconvert_exporter": "python",
  "pygments_lexer": "ipython3",
  "version": 3
 },
 "nbformat": 4,
 "nbformat_minor": 2
}