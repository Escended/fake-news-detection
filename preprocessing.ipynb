{
 "nbformat": 4,
 "nbformat_minor": 2,
 "metadata": {
  "language_info": {
   "name": "python",
   "codemirror_mode": {
    "name": "ipython",
    "version": 3
   },
   "version": "3.7.6-final"
  },
  "orig_nbformat": 2,
  "file_extension": ".py",
  "mimetype": "text/x-python",
  "name": "python",
  "npconvert_exporter": "python",
  "pygments_lexer": "ipython3",
  "version": 3,
  "kernelspec": {
   "name": "python37664bitbasecondad7e1c8a1a4144f60ae6d1eeb25c035c1",
   "display_name": "Python 3.7.6 64-bit ('base': conda)"
  }
 },
 "cells": [
  {
   "cell_type": "code",
   "execution_count": 223,
   "metadata": {},
   "outputs": [],
   "source": [
    "import pandas as pd \n",
    "import nltk\n",
    "import string\n",
    "\n",
    "from bs4 import BeautifulSoup\n",
    "from nltk.corpus import stopwords\n",
    "from nltk.tokenize import RegexpTokenizer\n",
    "from nltk.stem import WordNetLemmatizer\n",
    "from nltk.stem.porter import PorterStemmer\n",
    "from nltk.tokenize import word_tokenize"
   ]
  },
  {
   "cell_type": "code",
   "execution_count": 224,
   "metadata": {},
   "outputs": [],
   "source": [
    "df = pd.read_csv(\"C:\\\\Users\\\\Eli\\\\Desktop\\\\train.csv\", index_col=0) #index_col=0)"
   ]
  },
  {
   "cell_type": "code",
   "execution_count": 225,
   "metadata": {},
   "outputs": [],
   "source": [
    "df = df.dropna()\n",
    "df.reset_index(drop=True, inplace= True)"
   ]
  },
  {
   "cell_type": "code",
   "execution_count": 226,
   "metadata": {},
   "outputs": [
    {
     "output_type": "stream",
     "name": "stdout",
     "text": "<class 'pandas.core.frame.DataFrame'>\nRangeIndex: 18285 entries, 0 to 18284\nData columns (total 4 columns):\n #   Column  Non-Null Count  Dtype \n---  ------  --------------  ----- \n 0   title   18285 non-null  object\n 1   author  18285 non-null  object\n 2   text    18285 non-null  object\n 3   label   18285 non-null  int64 \ndtypes: int64(1), object(3)\nmemory usage: 571.5+ KB\n"
    }
   ],
   "source": [
    "df.info()"
   ]
  },
  {
   "cell_type": "code",
   "execution_count": 227,
   "metadata": {},
   "outputs": [],
   "source": [
    "df['label'] = df['label'].replace({1:'Unreliable', 0:'reliable'}) "
   ]
  },
  {
   "cell_type": "code",
   "execution_count": 228,
   "metadata": {},
   "outputs": [],
   "source": [
    "#removing HTML data\n",
    "def remove_html(text):\n",
    "    soup = BeautifulSoup(text)\n",
    "    html_free = soup.get_text()\n",
    "    return html_free"
   ]
  },
  {
   "cell_type": "code",
   "execution_count": 200,
   "metadata": {},
   "outputs": [
    {
     "output_type": "execute_result",
     "data": {
      "text/plain": "0     House Dem Aide: We Didn’t Even See Comey’s Let...\n1     Ever get the feeling your life circles the rou...\n2     Why the Truth Might Get You Fired October 29, ...\n3     Videos 15 Civilians Killed In Single US Airstr...\n4     Print \\nAn Iranian woman has been sentenced to...\n5     In these trying times, Jackie Mason is the Voi...\n6     PARIS  —   France chose an idealistic, traditi...\n7     A week before Michael T. Flynn resigned as nat...\n8     Organizing for Action, the activist group that...\n9     The BBC produced spoof on the “Real Housewives...\n10    The mystery surrounding The Third Reich and Na...\n11    Clinton Campaign Demands FBI Affirm Trump's Ru...\n12    Yes, There Are Paid Government Trolls On Socia...\n13    Guillermo Barros Schelotto was not the first A...\n14    The scandal engulfing Wells Fargo toppled its ...\n15    A Caddo Nation tribal leader has just been fre...\n16    FBI Closes In On Hillary! Posted on Home » Hea...\n17    Wednesday after   Donald Trump’s press confere...\n18    Screenwriter Ryan Murphy, who has produced the...\n19    Sunday on MSNBC’s “AM Joy,” actor and director...\nName: text, dtype: object"
     },
     "metadata": {},
     "execution_count": 200
    }
   ],
   "source": [
    "df['text'] = df['text'].apply(lambda x: remove_html(x))\n",
    "df['text'].head(20)"
   ]
  },
  {
   "cell_type": "code",
   "execution_count": 229,
   "metadata": {},
   "outputs": [],
   "source": [
    "def remove_punctuation(text):\n",
    "    no_punctuation = \"\".join([c for c in text if c not in string.punctuation])\n",
    "    return no_punctuation"
   ]
  },
  {
   "cell_type": "code",
   "execution_count": 202,
   "metadata": {},
   "outputs": [],
   "source": [
    "df['text'] = df['text'].apply(lambda x: remove_punctuation(x))\n",
    ""
   ]
  },
  {
   "cell_type": "code",
   "execution_count": 230,
   "metadata": {},
   "outputs": [],
   "source": [
    "tokenizer = RegexpTokenizer(r'\\w+')"
   ]
  },
  {
   "cell_type": "code",
   "execution_count": 204,
   "metadata": {},
   "outputs": [],
   "source": [
    "df['text'] = df['text'].apply(lambda x: tokenizer.tokenize(x.lower()))\n",
    ""
   ]
  },
  {
   "cell_type": "code",
   "execution_count": 231,
   "metadata": {},
   "outputs": [],
   "source": [
    "def remove_stopwords(text):\n",
    "    words = [w for w in text if w not in stopwords.words('english')]\n",
    "    return words"
   ]
  },
  {
   "cell_type": "code",
   "execution_count": 206,
   "metadata": {},
   "outputs": [],
   "source": [
    "df['text'] = df['text'].apply(lambda x: remove_stopwords(x))\n"
   ]
  },
  {
   "cell_type": "code",
   "execution_count": 207,
   "metadata": {},
   "outputs": [
    {
     "output_type": "execute_result",
     "data": {
      "text/plain": "0        [house, dem, aide, even, see, comey, letter, j...\n1        [ever, get, feeling, life, circles, roundabout...\n2        [truth, might, get, fired, october, 29, 2016, ...\n3        [videos, 15, civilians, killed, single, us, ai...\n4        [print, iranian, woman, sentenced, six, years,...\n                               ...                        \n18280    [rapper, unloaded, black, celebrities, met, do...\n18281    [green, bay, packers, lost, washington, redski...\n18282    [macy, today, grew, union, several, great, nam...\n18283    [nato, russia, hold, parallel, exercises, balk...\n18284    [david, swanson, author, activist, journalist,...\nName: text, Length: 18285, dtype: object"
     },
     "metadata": {},
     "execution_count": 207
    }
   ],
   "source": [
    "df['text']"
   ]
  },
  {
   "cell_type": "code",
   "execution_count": 232,
   "metadata": {},
   "outputs": [],
   "source": [
    "stemmer = PorterStemmer()"
   ]
  },
  {
   "cell_type": "code",
   "execution_count": 233,
   "metadata": {},
   "outputs": [],
   "source": [
    "def word_stemmer(text):\n",
    "    stem_text = \" \".join([stemmer.stem(i) for i in text])\n",
    "    return stem_text "
   ]
  },
  {
   "cell_type": "code",
   "execution_count": 216,
   "metadata": {},
   "outputs": [],
   "source": [
    "df['text'] = df['text'].apply(lambda x: word_stemmer(x))\n",
    ""
   ]
  },
  {
   "cell_type": "code",
   "execution_count": 217,
   "metadata": {},
   "outputs": [
    {
     "output_type": "execute_result",
     "data": {
      "text/plain": "0        hous dem aid even see comey letter jason chaff...\n1        ever get feel life circl roundabout rather hea...\n2        truth might get fire octob 29 2016 tension int...\n3        video 15 civilian kill singl us airstrik ident...\n4        print iranian woman sentenc six year prison ir...\n                               ...                        \n18280    rapper unload black celebr met donald trump el...\n18281    green bay packer lost washington redskin week ...\n18282    maci today grew union sever great name america...\n18283    nato russia hold parallel exercis balkan 11022...\n18284    david swanson author activist journalist radio...\nName: text, Length: 18285, dtype: object"
     },
     "metadata": {},
     "execution_count": 217
    }
   ],
   "source": [
    "df['text']"
   ]
  },
  {
   "cell_type": "code",
   "execution_count": 135,
   "metadata": {},
   "outputs": [],
   "source": [
    "df.to_csv(\"C:\\\\Users\\\\Eli\\\\Desktop\\\\news_processed.csv\")"
   ]
  },
  {
   "cell_type": "code",
   "execution_count": 235,
   "metadata": {},
   "outputs": [],
   "source": [
    "def preprocess_text(x):\n",
    "    x = remove_html(x)\n",
    "    x = remove_punctuation(x)\n",
    "    x = tokenizer.tokenize(x.lower())\n",
    "    x = remove_stopwords(x)\n",
    "    x = word_stemmer(x)\n",
    "    return x"
   ]
  },
  {
   "cell_type": "code",
   "execution_count": 236,
   "metadata": {},
   "outputs": [],
   "source": [
    "df['text'] = df['text'].apply(lambda x: preprocess_text(x))"
   ]
  },
  {
   "cell_type": "code",
   "execution_count": 237,
   "metadata": {},
   "outputs": [
    {
     "output_type": "execute_result",
     "data": {
      "text/plain": "0        hous dem aid even see comey letter jason chaff...\n1        ever get feel life circl roundabout rather hea...\n2        truth might get fire octob 29 2016 tension int...\n3        video 15 civilian kill singl us airstrik ident...\n4        print iranian woman sentenc six year prison ir...\n                               ...                        \n18280    rapper unload black celebr met donald trump el...\n18281    green bay packer lost washington redskin week ...\n18282    maci today grew union sever great name america...\n18283    nato russia hold parallel exercis balkan 11022...\n18284    david swanson author activist journalist radio...\nName: text, Length: 18285, dtype: object"
     },
     "metadata": {},
     "execution_count": 237
    }
   ],
   "source": [
    "df['text']"
   ]
  },
  {
   "cell_type": "code",
   "execution_count": 213,
   "metadata": {},
   "outputs": [
    {
     "output_type": "stream",
     "name": "stdout",
     "text": "us presid donald trump said quarantin new york necessari state governor said would preposter mr trump said latest decis taken recommend white hous coronaviru task forc presid earlier said might impos quarantin new york part new jersey connecticut slow spread covid19 52000 case new york state half total confirm covid19 case entir us mr trump tweet instead quarantin strong travel advisori would issu new york new jersey connecticut center diseas control prevent cdc live updat trump uturn bori warn uk cdc publish statement urg resid three state refrain nonessenti domest travel 14 day agenc said advisori appli critic infrastructur servic provid includ healthcar profession food supplier imag copyright realdonaldtrumprealdonaldtrump report speak report earlier saturday situat new york mr trump said wed like see quarantin hotspot im think said would aim slow spread viru part us theyr problem florida lot new yorker go dont want said new york governor say new york governor andrew cuomo respond say quarantin state new york would preposter antiamerican said geograph restrict leav would lockdown imag copyrightepa imag caption new york governor express concern idea quarantin said new york alreadi implement quarantin measur ban major gather order peopl remain home would oppos lockdown effort would wuhan china wouldnt make sens told cnn ad would caus stock market crash way would make imposs us economi recov month year would paralys financi sector said told press brief earlier saturday dont know legal enforc medic point view dont know would accomplish tell dont even like sound mr cuomo also said would sue nearbi rhode island author continu target new yorker threaten punish fail quarantin imag copyright ryanwelchphotogryanwelchphotog report friday rhode island governor gina raimondo deploy nation guard troop stop car new york licenc plate remind state advic quarantin soldier go doortodoor coastal vacat commun ask resid recent visit new york citi simpl guid symptom avoid contact selfisol stress protect mental health map chart visual guid outbreak white hous said anyon leav new york citi selfisol 14 day what latest us 2000 virusrel fatal us death toll remain lower itali china viru hotspot new york new orlean detroit seattl saturday saw first death us infant test posit coronaviru babi die chicago press brief mr cuomo said new york postpon presidenti primari almost two month 23 june result outbreak also said apex crisi would occur next 14 21 day mr cuomo said state would soon requir 30000 respiratori ventil increas price 45000 36000 due demand ad mr trump approv construct four temporari hospit demand ventil also doubl southern state louisiana governor john bel edward said new orlean would run ventil 2 april possibl run hospit bed 7 april number new infect subsid flimsi theori go happen said presid trump order car manufactur detroit produc ventil media captioncoronaviru million american unemploy hospit new york citi rapidli run medic equip person protect gear wide mayor us citi said expect massiv shortag critic person safeti equip come week saturday mr trump watch usn comfort navi hospit ship 1000 bed aboard left new york virginia station manhattan pier deal overload patient new york expect came mr trump sign 22 trillion 18tr bailout bill pass congress friday largest fiscal stimulu us histori\n"
    }
   ],
   "source": [
    "print(preprocess_text('''US President Donald Trump has said quarantining New York \"will not be necessary\", after the state's governor said doing so would be \"preposterous\".\n",
    "\n",
    "Mr Trump said the latest decision was taken on the recommendation of the White House Coronavirus Task Force.\n",
    "\n",
    "The president had earlier said he might impose a quarantine on New York, and parts of New Jersey and Connecticut, to slow the spread of Covid-19.\n",
    "\n",
    "There are more than 52,000 cases in New York.\n",
    "\n",
    "The state has about half of the total confirmed Covid-19 cases in the entire US.\n",
    "\n",
    "Mr Trump tweeted that instead of quarantine, a \"strong travel advisory\" would be issued to New York, New Jersey and Connecticut by the Centers for Disease Control and Prevention (CDC).\n",
    "\n",
    "Live updates: Trump U-turn and Boris warning to UK\n",
    "The CDC then published a statement urging residents of those three states to \"refrain\" from all non-essential domestic travel for 14 days.\n",
    "\n",
    "The agency said the advisory did not apply to \"critical infrastructure\" service providers, including healthcare professionals and food suppliers.\n",
    "\n",
    "Image Copyright @realDonaldTrump@REALDONALDTRUMP\n",
    "Report\n",
    "Speaking to reporters earlier on Saturday about the situation in New York, Mr Trump said: \"We'd like to see [it] quarantined because it's a hotspot... I'm thinking about that.\"\n",
    "\n",
    "He said it would be aimed at slowing the spread of the virus to other parts of the US.\n",
    "\n",
    "\"They're having problems down in Florida. A lot of New Yorkers are going down. We don't want that,\" he said.\n",
    "\n",
    "What did New York's governor say?\n",
    "New York Governor Andrew Cuomo responded by saying that quarantining the state of New York would be \"preposterous\" and \"anti-American\".\n",
    "\n",
    "\"If you said we were geographically restricted from leaving, that would be a lockdown.\"\n",
    "\n",
    "Image copyrightEPA\n",
    "Image caption\n",
    "New York's governor expressed concern at the idea of a quarantine\n",
    "He said New York had already implemented \"quarantine\" measures, such as banning major gatherings and ordering people to remain at home, but that he would oppose any \"lockdown\" efforts.\n",
    "\n",
    "\"Then we would be Wuhan, China, and that wouldn't make any sense,\" he told CNN, adding that this would cause the stock market to crash in a way that would make it impossible for the US economy to \"recover for months, if not years\".\n",
    "\n",
    "\"You would paralyse the financial sector,\" he said.\n",
    "\n",
    "He told a press briefing earlier on Saturday: \"I don't know how that can be legally enforceable. And from a medical point of view, I don't know what you would be accomplishing.\n",
    "\n",
    "\"But I can tell you, I don't even like the sound of it.\"\n",
    "\n",
    "Mr Cuomo also said he would sue nearby Rhode Island if the authorities there continued targeting New Yorkers and threatening to punish them for failing to quarantine.\n",
    "\n",
    "Image Copyright @RyanWelchPhotog@RYANWELCHPHOTOG\n",
    "Report\n",
    "On Friday, Rhode Island Governor Gina Raimondo deployed National Guard troops to stop cars with a New York licence plate, to remind them of their state's advice that they quarantine.\n",
    "\n",
    "Soldiers are going door-to-door in coastal vacation communities to ask if any residents have recently visited New York City.\n",
    "\n",
    "A SIMPLE GUIDE: What are the symptoms?\n",
    "AVOIDING CONTACT: Should I self-isolate?\n",
    "STRESS: How to protect your mental health\n",
    "MAPS AND CHARTS: Visual guide to the outbreak\n",
    "The White House has said anyone leaving New York City should self-isolate for 14 days.\n",
    "\n",
    "What's the latest in the US?\n",
    "With more than 2,000 virus-related fatalities, the US death toll remains lower than those in Italy and China. But there are virus hotspots in New York, New Orleans, Detroit and Seattle.\n",
    "\n",
    "Saturday saw the first death in the US of an infant who had tested positive for coronavirus. The baby died in Chicago.\n",
    "\n",
    "In his press briefing, Mr Cuomo said New York was postponing its presidential primary by almost two months until 23 June as a result of the outbreak.\n",
    "\n",
    "He also said the apex of the crisis would occur in the next 14 to 21 days.\n",
    "\n",
    "Mr Cuomo said the state would soon require 30,000 respiratory ventilators, which had increased in price to $45,000 (£36,000) each due to demand.\n",
    "\n",
    "He added that Mr Trump had approved the construction of four temporary hospitals.\n",
    "\n",
    "Demand for ventilators has also doubled in the southern state of Louisiana. Governor John Bel Edwards said New Orleans would run out of ventilators by 2 April and possibly run out of hospital beds by 7 April if the number of new infections did not subside.\n",
    "\n",
    "\"It's not some flimsy theory. This is what is going to happen,\" he said.\n",
    "\n",
    "President Trump has ordered a car manufacturer in Detroit to produce more ventilators.\n",
    "\n",
    "\n",
    "Media captionCoronavirus: Millions of Americans unemployed\n",
    "Hospitals in New York City are rapidly running out of medical equipment and personal protective gear. More widely, the mayors of most US cities have said they expect massive shortages of critical personal safety equipment in the coming weeks.\n",
    "\n",
    "On Saturday, Mr Trump watched as the USNS Comfort, a navy hospital ship with 1,000 beds aboard, left for New York from Virginia. It will station itself at a Manhattan pier to deal with the overload of patients that New York expects.\n",
    "\n",
    "It came after Mr Trump signed a $2.2 trillion (£1.8tr) bailout bill passed by Congress on Friday, the largest fiscal stimulus in US history.'''))"
   ]
  },
  {
   "cell_type": "code",
   "execution_count": null,
   "metadata": {},
   "outputs": [],
   "source": []
  }
 ]
}