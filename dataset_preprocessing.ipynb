{
 "cells": [
  {
   "cell_type": "code",
   "execution_count": 132,
   "metadata": {},
   "outputs": [
    {
     "output_type": "stream",
     "name": "stdout",
     "text": "Unnamed: 0                                              title  \\\n0               0  Muslims BUSTED: They Stole Millions In Gov’t B...   \n1               1  Re: Why Did Attorney General Loretta Lynch Ple...   \n2               2  BREAKING: Weiner Cooperating With FBI On Hilla...   \n3               3  PIN DROP SPEECH BY FATHER OF DAUGHTER Kidnappe...   \n4               4  FANTASTIC! TRUMP'S 7 POINT PLAN To Reform Heal...   \n...           ...                                                ...   \n28706       15707  An eavesdropping Uber driver saved his 16-year...   \n28707       15708  Plane carrying six people returning from a Cav...   \n28708       15709  After helping a fraction of homeowners expecte...   \n28709       15710  Yes, this is real: Michigan just banned bannin...   \n28710       15711  What happened in Washington state after voters...   \n\n                                                 content      publication  \\\n0      Print They should pay all the back all the mon...  100percentfedup   \n1      Why Did Attorney General Loretta Lynch Plead T...  100percentfedup   \n2      Red State : \\nFox News Sunday reported this mo...  100percentfedup   \n3      Email Kayla Mueller was a prisoner and torture...  100percentfedup   \n4      Email HEALTHCARE REFORM TO MAKE AMERICA GREAT ...  100percentfedup   \n...                                                  ...              ...   \n28706           Uber driver Keith Avila picked up a p...  Washington Post   \n28707           Crews on Friday continued to search L...  Washington Post   \n28708       When the Obama administration announced a...  Washington Post   \n28709       This story has been updated. A new law in...  Washington Post   \n28710       The nation’s first recreational marijuana...  Washington Post   \n\n      label  \n0      fake  \n1      fake  \n2      fake  \n3      fake  \n4      fake  \n...     ...  \n28706  real  \n28707  real  \n28708  real  \n28709  real  \n28710  real  \n\n[27985 rows x 5 columns]\n"
    }
   ],
   "source": [
    "import pandas as pd \n",
    "from collections import Counter\n",
    "import numpy as np \n",
    "from sklearn.feature_extraction.text import TfidfVectorizer\n",
    "#use first column as index \n",
    "df = pd.read_csv(\"C:\\\\Users\\\\Eli\\\\Desktop\\\\news_dataset.csv\")\n",
    "df = df.dropna()\n",
    "\n",
    "print(df)"
   ]
  },
  {
   "cell_type": "code",
   "execution_count": 133,
   "metadata": {},
   "outputs": [
    {
     "output_type": "execute_result",
     "data": {
      "text/plain": "                                               title  \\\n0  Muslims BUSTED: They Stole Millions In Gov’t B...   \n1  Re: Why Did Attorney General Loretta Lynch Ple...   \n2  BREAKING: Weiner Cooperating With FBI On Hilla...   \n3  PIN DROP SPEECH BY FATHER OF DAUGHTER Kidnappe...   \n4  FANTASTIC! TRUMP'S 7 POINT PLAN To Reform Heal...   \n\n                                             content      publication label  \n0  Print They should pay all the back all the mon...  100percentfedup  fake  \n1  Why Did Attorney General Loretta Lynch Plead T...  100percentfedup  fake  \n2  Red State : \\nFox News Sunday reported this mo...  100percentfedup  fake  \n3  Email Kayla Mueller was a prisoner and torture...  100percentfedup  fake  \n4  Email HEALTHCARE REFORM TO MAKE AMERICA GREAT ...  100percentfedup  fake  ",
      "text/html": "<div>\n<style scoped>\n    .dataframe tbody tr th:only-of-type {\n        vertical-align: middle;\n    }\n\n    .dataframe tbody tr th {\n        vertical-align: top;\n    }\n\n    .dataframe thead th {\n        text-align: right;\n    }\n</style>\n<table border=\"1\" class=\"dataframe\">\n  <thead>\n    <tr style=\"text-align: right;\">\n      <th></th>\n      <th>title</th>\n      <th>content</th>\n      <th>publication</th>\n      <th>label</th>\n    </tr>\n  </thead>\n  <tbody>\n    <tr>\n      <th>0</th>\n      <td>Muslims BUSTED: They Stole Millions In Gov’t B...</td>\n      <td>Print They should pay all the back all the mon...</td>\n      <td>100percentfedup</td>\n      <td>fake</td>\n    </tr>\n    <tr>\n      <th>1</th>\n      <td>Re: Why Did Attorney General Loretta Lynch Ple...</td>\n      <td>Why Did Attorney General Loretta Lynch Plead T...</td>\n      <td>100percentfedup</td>\n      <td>fake</td>\n    </tr>\n    <tr>\n      <th>2</th>\n      <td>BREAKING: Weiner Cooperating With FBI On Hilla...</td>\n      <td>Red State : \\nFox News Sunday reported this mo...</td>\n      <td>100percentfedup</td>\n      <td>fake</td>\n    </tr>\n    <tr>\n      <th>3</th>\n      <td>PIN DROP SPEECH BY FATHER OF DAUGHTER Kidnappe...</td>\n      <td>Email Kayla Mueller was a prisoner and torture...</td>\n      <td>100percentfedup</td>\n      <td>fake</td>\n    </tr>\n    <tr>\n      <th>4</th>\n      <td>FANTASTIC! TRUMP'S 7 POINT PLAN To Reform Heal...</td>\n      <td>Email HEALTHCARE REFORM TO MAKE AMERICA GREAT ...</td>\n      <td>100percentfedup</td>\n      <td>fake</td>\n    </tr>\n  </tbody>\n</table>\n</div>"
     },
     "metadata": {},
     "execution_count": 133
    }
   ],
   "source": [
    "#drop unnamed column where dataset was indexed seperately for fake and real articles. Would previously return two items\n",
    "#instead of one\n",
    "df.drop(df.columns[df.columns.str.contains('unnamed',case = False)],axis = 1, inplace = True)\n",
    "#df.drop(df.columns[df.columns.str.contains('title',case = False)],axis = 1, inplace = True)\n",
    "df.head()"
   ]
  },
  {
   "cell_type": "code",
   "execution_count": 134,
   "metadata": {},
   "outputs": [],
   "source": [
    "#article preprocessing \n",
    "\n",
    "import nltk, re\n",
    "from nltk.corpus import wordnet\n",
    "from nltk.corpus import stopwords\n",
    "from nltk.tokenize import word_tokenize\n",
    "from nltk.stem import WordNetLemmatizer\n",
    "from collections import Counter\n",
    "#nltk.download('punkt')\n",
    "#nltk.download('stopwords')\n",
    "#nltk.download('wordnet')\n",
    "stop_words = stopwords.words('english')\n",
    "normalizer = WordNetLemmatizer()\n",
    "\n",
    "def get_part_of_speech(word):\n",
    "  probable_part_of_speech = wordnet.synsets(word)\n",
    "  pos_counts = Counter()\n",
    "  pos_counts[\"n\"] = len(  [ item for item in probable_part_of_speech if item.pos()==\"n\"]  )\n",
    "  pos_counts[\"v\"] = len(  [ item for item in probable_part_of_speech if item.pos()==\"v\"]  )\n",
    "  pos_counts[\"a\"] = len(  [ item for item in probable_part_of_speech if item.pos()==\"a\"]  )\n",
    "  pos_counts[\"r\"] = len(  [ item for item in probable_part_of_speech if item.pos()==\"r\"]  )\n",
    "  most_likely_part_of_speech = pos_counts.most_common(1)[0][0]\n",
    "  return most_likely_part_of_speech\n",
    "\n",
    "def preprocess_text(text):\n",
    "  cleaned = re.sub(r'\\W+', ' ', text).lower()\n",
    "  tokenized = word_tokenize(cleaned)\n",
    "  normalized = \" \".join([normalizer.lemmatize(token, get_part_of_speech(token)) for token in tokenized if not re.match(r'\\d+',token)])\n",
    "  return normalized"
   ]
  },
  {
   "cell_type": "code",
   "execution_count": 139,
   "metadata": {
    "tags": [
     "outputPrepend"
    ]
   },
   "outputs": [],
   "source": [
    "#testing on first article in df\n",
    "#df.dropna()\n",
    "counter = 0\n",
    "for item in (df.content):\n",
    "    #if counter < 50:\n",
    "    df['content'][counter] = preprocess_text(item)\n",
    "    counter += 1\n",
    "    #counter += 1\n",
    "    # if type(item) != str:\n",
    "    #     print(item, '\\n')\n",
    "\n",
    "#print(df.content[45])"
   ]
  },
  {
   "cell_type": "code",
   "execution_count": 142,
   "metadata": {},
   "outputs": [
    {
     "output_type": "stream",
     "name": "stdout",
     "text": "click here to learn more about alexandra s personalize essence psychic protection click here for more information on psychic protection implant removal series click here to listen to the irp and sa dna process read the testimonial click here to read what others be experience copyright by galactic connection all right reserve excerpt may be use provide that full and clear credit be give to alexandra meadors and www galacticconnection com with appropriate and specific direction to the original content unauthorized use and or duplication of any material on this website without express and write permission from it author and owner be strictly prohibit thank you privacy policy by subscribe to galacticconnection com you acknowledge that your name and e mail address will be add to our database a with all other personal information only work affiliate of galacticconnection com have access to this data we do not give galacticconnection com address to outside company nor will we ever rent or sell your email address any e mail you send to galacticconnection com be completely confidential therefore we will not add your name to our e mail list without your permission continue read galactic connection design development by aa at superluminal system sign up forour newsletter join our newsletter to receive exclusive update interview discount and more join u\n"
    }
   ],
   "source": [
    "print(df.content[3500])"
   ]
  }
 ],
 "metadata": {
  "file_extension": ".py",
  "kernelspec": {
   "display_name": "Python 3.5.6 64-bit ('ML': conda)",
   "language": "python",
   "name": "python35664bitmlcondaefee471b886e48b39ca448e167f3ceeb"
  },
  "language_info": {
   "codemirror_mode": {
    "name": "ipython",
    "version": 3
   },
   "file_extension": ".py",
   "mimetype": "text/x-python",
   "name": "python",
   "nbconvert_exporter": "python",
   "pygments_lexer": "ipython3",
   "version": "3.8.1-final"
  },
  "mimetype": "text/x-python",
  "name": "python",
  "npconvert_exporter": "python",
  "pygments_lexer": "ipython3",
  "version": 3
 },
 "nbformat": 4,
 "nbformat_minor": 2
}