{
 "cells": [
  {
   "cell_type": "markdown",
   "metadata": {},
   "source": [
    "# Preparing the dataset"
   ]
  },
  {
   "cell_type": "code",
   "execution_count": 1,
   "metadata": {},
   "outputs": [
    {
     "data": {
      "text/html": [
       "<div>\n",
       "<style scoped>\n",
       "    .dataframe tbody tr th:only-of-type {\n",
       "        vertical-align: middle;\n",
       "    }\n",
       "\n",
       "    .dataframe tbody tr th {\n",
       "        vertical-align: top;\n",
       "    }\n",
       "\n",
       "    .dataframe thead th {\n",
       "        text-align: right;\n",
       "    }\n",
       "</style>\n",
       "<table border=\"1\" class=\"dataframe\">\n",
       "  <thead>\n",
       "    <tr style=\"text-align: right;\">\n",
       "      <th></th>\n",
       "      <th>title</th>\n",
       "      <th>content</th>\n",
       "      <th>publication</th>\n",
       "      <th>label</th>\n",
       "    </tr>\n",
       "  </thead>\n",
       "  <tbody>\n",
       "    <tr>\n",
       "      <th>0</th>\n",
       "      <td>Muslims BUSTED: They Stole Millions In Gov’t B...</td>\n",
       "      <td>Print They should pay all the back all the mon...</td>\n",
       "      <td>100percentfedup</td>\n",
       "      <td>fake</td>\n",
       "    </tr>\n",
       "    <tr>\n",
       "      <th>1</th>\n",
       "      <td>Re: Why Did Attorney General Loretta Lynch Ple...</td>\n",
       "      <td>Why Did Attorney General Loretta Lynch Plead T...</td>\n",
       "      <td>100percentfedup</td>\n",
       "      <td>fake</td>\n",
       "    </tr>\n",
       "    <tr>\n",
       "      <th>2</th>\n",
       "      <td>BREAKING: Weiner Cooperating With FBI On Hilla...</td>\n",
       "      <td>Red State : \\nFox News Sunday reported this mo...</td>\n",
       "      <td>100percentfedup</td>\n",
       "      <td>fake</td>\n",
       "    </tr>\n",
       "    <tr>\n",
       "      <th>3</th>\n",
       "      <td>PIN DROP SPEECH BY FATHER OF DAUGHTER Kidnappe...</td>\n",
       "      <td>Email Kayla Mueller was a prisoner and torture...</td>\n",
       "      <td>100percentfedup</td>\n",
       "      <td>fake</td>\n",
       "    </tr>\n",
       "    <tr>\n",
       "      <th>4</th>\n",
       "      <td>FANTASTIC! TRUMP'S 7 POINT PLAN To Reform Heal...</td>\n",
       "      <td>Email HEALTHCARE REFORM TO MAKE AMERICA GREAT ...</td>\n",
       "      <td>100percentfedup</td>\n",
       "      <td>fake</td>\n",
       "    </tr>\n",
       "    <tr>\n",
       "      <th>...</th>\n",
       "      <td>...</td>\n",
       "      <td>...</td>\n",
       "      <td>...</td>\n",
       "      <td>...</td>\n",
       "    </tr>\n",
       "    <tr>\n",
       "      <th>15707</th>\n",
       "      <td>An eavesdropping Uber driver saved his 16-year...</td>\n",
       "      <td>Uber driver Keith Avila picked up a p...</td>\n",
       "      <td>Washington Post</td>\n",
       "      <td>real</td>\n",
       "    </tr>\n",
       "    <tr>\n",
       "      <th>15708</th>\n",
       "      <td>Plane carrying six people returning from a Cav...</td>\n",
       "      <td>Crews on Friday continued to search L...</td>\n",
       "      <td>Washington Post</td>\n",
       "      <td>real</td>\n",
       "    </tr>\n",
       "    <tr>\n",
       "      <th>15709</th>\n",
       "      <td>After helping a fraction of homeowners expecte...</td>\n",
       "      <td>When the Obama administration announced a...</td>\n",
       "      <td>Washington Post</td>\n",
       "      <td>real</td>\n",
       "    </tr>\n",
       "    <tr>\n",
       "      <th>15710</th>\n",
       "      <td>Yes, this is real: Michigan just banned bannin...</td>\n",
       "      <td>This story has been updated. A new law in...</td>\n",
       "      <td>Washington Post</td>\n",
       "      <td>real</td>\n",
       "    </tr>\n",
       "    <tr>\n",
       "      <th>15711</th>\n",
       "      <td>What happened in Washington state after voters...</td>\n",
       "      <td>The nation’s first recreational marijuana...</td>\n",
       "      <td>Washington Post</td>\n",
       "      <td>real</td>\n",
       "    </tr>\n",
       "  </tbody>\n",
       "</table>\n",
       "<p>28711 rows × 4 columns</p>\n",
       "</div>"
      ],
      "text/plain": [
       "                                                   title  \\\n",
       "0      Muslims BUSTED: They Stole Millions In Gov’t B...   \n",
       "1      Re: Why Did Attorney General Loretta Lynch Ple...   \n",
       "2      BREAKING: Weiner Cooperating With FBI On Hilla...   \n",
       "3      PIN DROP SPEECH BY FATHER OF DAUGHTER Kidnappe...   \n",
       "4      FANTASTIC! TRUMP'S 7 POINT PLAN To Reform Heal...   \n",
       "...                                                  ...   \n",
       "15707  An eavesdropping Uber driver saved his 16-year...   \n",
       "15708  Plane carrying six people returning from a Cav...   \n",
       "15709  After helping a fraction of homeowners expecte...   \n",
       "15710  Yes, this is real: Michigan just banned bannin...   \n",
       "15711  What happened in Washington state after voters...   \n",
       "\n",
       "                                                 content      publication  \\\n",
       "0      Print They should pay all the back all the mon...  100percentfedup   \n",
       "1      Why Did Attorney General Loretta Lynch Plead T...  100percentfedup   \n",
       "2      Red State : \\nFox News Sunday reported this mo...  100percentfedup   \n",
       "3      Email Kayla Mueller was a prisoner and torture...  100percentfedup   \n",
       "4      Email HEALTHCARE REFORM TO MAKE AMERICA GREAT ...  100percentfedup   \n",
       "...                                                  ...              ...   \n",
       "15707           Uber driver Keith Avila picked up a p...  Washington Post   \n",
       "15708           Crews on Friday continued to search L...  Washington Post   \n",
       "15709       When the Obama administration announced a...  Washington Post   \n",
       "15710       This story has been updated. A new law in...  Washington Post   \n",
       "15711       The nation’s first recreational marijuana...  Washington Post   \n",
       "\n",
       "      label  \n",
       "0      fake  \n",
       "1      fake  \n",
       "2      fake  \n",
       "3      fake  \n",
       "4      fake  \n",
       "...     ...  \n",
       "15707  real  \n",
       "15708  real  \n",
       "15709  real  \n",
       "15710  real  \n",
       "15711  real  \n",
       "\n",
       "[28711 rows x 4 columns]"
      ]
     },
     "execution_count": 1,
     "metadata": {},
     "output_type": "execute_result"
    }
   ],
   "source": [
    "import pandas as pd \n",
    "import logging\n",
    "from wordcloud import WordCloud, ImageColorGenerator, STOPWORDS\n",
    "import matplotlib.pyplot as plt\n",
    "import numpy as np\n",
    "# logging the time taken to do certain steps\n",
    "logging.basicConfig(format='%(asctime)s : %(levelname)s : %(message)s', level=logging.INFO)\n",
    "\n",
    "# grabbing the dataset\n",
    "df = pd.read_csv(\"C:\\\\Users\\\\Eli\\\\Desktop\\\\news_dataset.csv\", index_col=0)\n",
    "# taking a look at the state of the dataset\n",
    "df"
   ]
  },
  {
   "cell_type": "code",
   "execution_count": 3,
   "metadata": {
    "scrolled": true
   },
   "outputs": [
    {
     "name": "stdout",
     "output_type": "stream",
     "text": [
      "Fake total=12999, Real total=15712\n"
     ]
    }
   ],
   "source": [
    "print(\"Fake total={}, Real total={}\".format(len(df[df['label'].str.contains('fake')]),\n",
    "                                            len(df[df['label'].str.contains('real')])))"
   ]
  },
  {
   "cell_type": "markdown",
   "metadata": {},
   "source": [
    "### There is a total of 28711 rows however, the index resets when going from 'fake' to 'real' articles:"
   ]
  },
  {
   "cell_type": "code",
   "execution_count": 4,
   "metadata": {},
   "outputs": [
    {
     "name": "stdout",
     "output_type": "stream",
     "text": [
      "0        Print They should pay all the back all the mon...\n",
      "1        Why Did Attorney General Loretta Lynch Plead T...\n",
      "2        Red State : \\nFox News Sunday reported this mo...\n",
      "3        Email Kayla Mueller was a prisoner and torture...\n",
      "4        Email HEALTHCARE REFORM TO MAKE AMERICA GREAT ...\n",
      "                               ...                        \n",
      "15707             Uber driver Keith Avila picked up a p...\n",
      "15708             Crews on Friday continued to search L...\n",
      "15709         When the Obama administration announced a...\n",
      "15710         This story has been updated. A new law in...\n",
      "15711         The nation’s first recreational marijuana...\n",
      "Name: content, Length: 28711, dtype: object\n"
     ]
    }
   ],
   "source": [
    "print(df['content'])"
   ]
  },
  {
   "cell_type": "markdown",
   "metadata": {},
   "source": [
    "##### - Removing rows with missing data as they will not serve any purpose in a text classification problem.\n",
    "##### - Resetting the index of the dataset to solve the index problem. \n",
    "##### - Checking the number of articles remaining for each label to ensure that there isn't a big difference"
   ]
  },
  {
   "cell_type": "code",
   "execution_count": 5,
   "metadata": {},
   "outputs": [
    {
     "data": {
      "text/html": [
       "<div>\n",
       "<style scoped>\n",
       "    .dataframe tbody tr th:only-of-type {\n",
       "        vertical-align: middle;\n",
       "    }\n",
       "\n",
       "    .dataframe tbody tr th {\n",
       "        vertical-align: top;\n",
       "    }\n",
       "\n",
       "    .dataframe thead th {\n",
       "        text-align: right;\n",
       "    }\n",
       "</style>\n",
       "<table border=\"1\" class=\"dataframe\">\n",
       "  <thead>\n",
       "    <tr style=\"text-align: right;\">\n",
       "      <th></th>\n",
       "      <th>title</th>\n",
       "      <th>content</th>\n",
       "      <th>publication</th>\n",
       "      <th>label</th>\n",
       "    </tr>\n",
       "  </thead>\n",
       "  <tbody>\n",
       "    <tr>\n",
       "      <th>0</th>\n",
       "      <td>Muslims BUSTED: They Stole Millions In Gov’t B...</td>\n",
       "      <td>Print They should pay all the back all the mon...</td>\n",
       "      <td>100percentfedup</td>\n",
       "      <td>fake</td>\n",
       "    </tr>\n",
       "    <tr>\n",
       "      <th>1</th>\n",
       "      <td>Re: Why Did Attorney General Loretta Lynch Ple...</td>\n",
       "      <td>Why Did Attorney General Loretta Lynch Plead T...</td>\n",
       "      <td>100percentfedup</td>\n",
       "      <td>fake</td>\n",
       "    </tr>\n",
       "    <tr>\n",
       "      <th>2</th>\n",
       "      <td>BREAKING: Weiner Cooperating With FBI On Hilla...</td>\n",
       "      <td>Red State : \\nFox News Sunday reported this mo...</td>\n",
       "      <td>100percentfedup</td>\n",
       "      <td>fake</td>\n",
       "    </tr>\n",
       "    <tr>\n",
       "      <th>3</th>\n",
       "      <td>PIN DROP SPEECH BY FATHER OF DAUGHTER Kidnappe...</td>\n",
       "      <td>Email Kayla Mueller was a prisoner and torture...</td>\n",
       "      <td>100percentfedup</td>\n",
       "      <td>fake</td>\n",
       "    </tr>\n",
       "    <tr>\n",
       "      <th>4</th>\n",
       "      <td>FANTASTIC! TRUMP'S 7 POINT PLAN To Reform Heal...</td>\n",
       "      <td>Email HEALTHCARE REFORM TO MAKE AMERICA GREAT ...</td>\n",
       "      <td>100percentfedup</td>\n",
       "      <td>fake</td>\n",
       "    </tr>\n",
       "    <tr>\n",
       "      <th>...</th>\n",
       "      <td>...</td>\n",
       "      <td>...</td>\n",
       "      <td>...</td>\n",
       "      <td>...</td>\n",
       "    </tr>\n",
       "    <tr>\n",
       "      <th>27980</th>\n",
       "      <td>An eavesdropping Uber driver saved his 16-year...</td>\n",
       "      <td>Uber driver Keith Avila picked up a p...</td>\n",
       "      <td>Washington Post</td>\n",
       "      <td>real</td>\n",
       "    </tr>\n",
       "    <tr>\n",
       "      <th>27981</th>\n",
       "      <td>Plane carrying six people returning from a Cav...</td>\n",
       "      <td>Crews on Friday continued to search L...</td>\n",
       "      <td>Washington Post</td>\n",
       "      <td>real</td>\n",
       "    </tr>\n",
       "    <tr>\n",
       "      <th>27982</th>\n",
       "      <td>After helping a fraction of homeowners expecte...</td>\n",
       "      <td>When the Obama administration announced a...</td>\n",
       "      <td>Washington Post</td>\n",
       "      <td>real</td>\n",
       "    </tr>\n",
       "    <tr>\n",
       "      <th>27983</th>\n",
       "      <td>Yes, this is real: Michigan just banned bannin...</td>\n",
       "      <td>This story has been updated. A new law in...</td>\n",
       "      <td>Washington Post</td>\n",
       "      <td>real</td>\n",
       "    </tr>\n",
       "    <tr>\n",
       "      <th>27984</th>\n",
       "      <td>What happened in Washington state after voters...</td>\n",
       "      <td>The nation’s first recreational marijuana...</td>\n",
       "      <td>Washington Post</td>\n",
       "      <td>real</td>\n",
       "    </tr>\n",
       "  </tbody>\n",
       "</table>\n",
       "<p>27985 rows × 4 columns</p>\n",
       "</div>"
      ],
      "text/plain": [
       "                                                   title  \\\n",
       "0      Muslims BUSTED: They Stole Millions In Gov’t B...   \n",
       "1      Re: Why Did Attorney General Loretta Lynch Ple...   \n",
       "2      BREAKING: Weiner Cooperating With FBI On Hilla...   \n",
       "3      PIN DROP SPEECH BY FATHER OF DAUGHTER Kidnappe...   \n",
       "4      FANTASTIC! TRUMP'S 7 POINT PLAN To Reform Heal...   \n",
       "...                                                  ...   \n",
       "27980  An eavesdropping Uber driver saved his 16-year...   \n",
       "27981  Plane carrying six people returning from a Cav...   \n",
       "27982  After helping a fraction of homeowners expecte...   \n",
       "27983  Yes, this is real: Michigan just banned bannin...   \n",
       "27984  What happened in Washington state after voters...   \n",
       "\n",
       "                                                 content      publication  \\\n",
       "0      Print They should pay all the back all the mon...  100percentfedup   \n",
       "1      Why Did Attorney General Loretta Lynch Plead T...  100percentfedup   \n",
       "2      Red State : \\nFox News Sunday reported this mo...  100percentfedup   \n",
       "3      Email Kayla Mueller was a prisoner and torture...  100percentfedup   \n",
       "4      Email HEALTHCARE REFORM TO MAKE AMERICA GREAT ...  100percentfedup   \n",
       "...                                                  ...              ...   \n",
       "27980           Uber driver Keith Avila picked up a p...  Washington Post   \n",
       "27981           Crews on Friday continued to search L...  Washington Post   \n",
       "27982       When the Obama administration announced a...  Washington Post   \n",
       "27983       This story has been updated. A new law in...  Washington Post   \n",
       "27984       The nation’s first recreational marijuana...  Washington Post   \n",
       "\n",
       "      label  \n",
       "0      fake  \n",
       "1      fake  \n",
       "2      fake  \n",
       "3      fake  \n",
       "4      fake  \n",
       "...     ...  \n",
       "27980  real  \n",
       "27981  real  \n",
       "27982  real  \n",
       "27983  real  \n",
       "27984  real  \n",
       "\n",
       "[27985 rows x 4 columns]"
      ]
     },
     "execution_count": 5,
     "metadata": {},
     "output_type": "execute_result"
    }
   ],
   "source": [
    "#drop NaN values\n",
    "df = df.dropna()\n",
    "#reset index column after removing NaN values\n",
    "df.reset_index(drop=True, inplace= True)\n",
    "df"
   ]
  },
  {
   "cell_type": "code",
   "execution_count": 6,
   "metadata": {},
   "outputs": [
    {
     "name": "stdout",
     "output_type": "stream",
     "text": [
      "Fake total=12273, Real total=15712\n"
     ]
    }
   ],
   "source": [
    "print(\"Fake total={}, Real total={}\".format(len(df[df['label'].str.contains('fake')]),\n",
    "                                            len(df[df['label'].str.contains('real')])))"
   ]
  },
  {
   "cell_type": "markdown",
   "metadata": {},
   "source": [
    "#### - Elementary visualization of the dataset to see if any differences emerge when comparing 'fake' and 'real labels "
   ]
  },
  {
   "cell_type": "code",
   "execution_count": 7,
   "metadata": {},
   "outputs": [
    {
     "data": {
      "image/png": "[encoded data removed]",
      "text/plain": [
       "<Figure size 432x288 with 1 Axes>"
      ]
     },
     "metadata": {
      "needs_background": "light"
     },
     "output_type": "display_data"
    }
   ],
   "source": [
    "# visualizing the difference in number of articles \n",
    "fig = df['label'].value_counts().plot(kind='barh', color=\"green\")\n",
    "fig.figure.savefig(\"barh.png\")"
   ]
  },
  {
   "cell_type": "code",
   "execution_count": 8,
   "metadata": {},
   "outputs": [
    {
     "data": {
      "image/png": "[encoded data removed]",
      "text/plain": [
       "<Figure size 432x288 with 1 Axes>"
      ]
     },
     "metadata": {
      "needs_background": "light"
     },
     "output_type": "display_data"
    },
    {
     "name": "stdout",
     "output_type": "stream",
     "text": [
      "Top 60 Words in the articles labelled as 'Fake'\n"
     ]
    },
    {
     "data": {
      "text/plain": [
       "<wordcloud.wordcloud.WordCloud at 0x1edb325e108>"
      ]
     },
     "execution_count": 8,
     "metadata": {},
     "output_type": "execute_result"
    }
   ],
   "source": [
    "stopwords = set(STOPWORDS)\n",
    "# adding terms that obfuscated the wordcloud \n",
    "stopwords.add(\"wa\")\n",
    "stopwords.add(\"hi\")\n",
    "stopwords.add(\"ha\")\n",
    "#all the articles up to 12273\n",
    "text = \" \".join(content for content in df['content'][:12273])\n",
    "text = text.lower()\n",
    "wordcloud = WordCloud(stopwords = stopwords,max_words=60, background_color=\"white\").generate(text)\n",
    "plt.imshow(wordcloud, interpolation='bilinear')\n",
    "plt.axis(\"off\")\n",
    "plt.show()\n",
    "print(\"Top 60 Words in the articles labelled as 'Fake'\")\n",
    "wordcloud.to_file(\"wordClouds/first_fake.png\")"
   ]
  },
  {
   "cell_type": "code",
   "execution_count": 9,
   "metadata": {},
   "outputs": [
    {
     "data": {
      "image/png": "[encoded data removed]",
      "text/plain": [
       "<Figure size 432x288 with 1 Axes>"
      ]
     },
     "metadata": {
      "needs_background": "light"
     },
     "output_type": "display_data"
    },
    {
     "name": "stdout",
     "output_type": "stream",
     "text": [
      "Top 60 Words in the articles labelled as 'Real'\n"
     ]
    },
    {
     "data": {
      "text/plain": [
       "<wordcloud.wordcloud.WordCloud at 0x1edb3fe5348>"
      ]
     },
     "execution_count": 9,
     "metadata": {},
     "output_type": "execute_result"
    }
   ],
   "source": [
    "text_real = \" \".join(content for content in df['content'][12274:])\n",
    "text_real = text.lower()\n",
    "wordcloud = WordCloud(stopwords = stopwords,max_words=60, background_color=\"white\").generate(text_real)\n",
    "plt.imshow(wordcloud, interpolation='bilinear')\n",
    "plt.axis(\"off\")\n",
    "plt.show()\n",
    "print(\"Top 60 Words in the articles labelled as 'Real'\")\n",
    "wordcloud.to_file(\"wordClouds/first_real.png\")"
   ]
  },
  {
   "cell_type": "code",
   "execution_count": 10,
   "metadata": {},
   "outputs": [
    {
     "data": {
      "text/plain": [
       "'Red State : \\nFox News Sunday reported this morning that Anthony Weiner is cooperating with the FBI, which has re-opened (yes, lefties: “re-opened”) the investigation into Hillary Clinton’s classified emails. Watch as Chris Wallace reports the breaking news during the panel segment near the end of the show: \\nAnd the news is breaking while we’re on the air. Our colleague Bret Baier has just sent us an e-mail saying he has two sources who say that Anthony Weiner, who also had co-ownership of that laptop with his estranged wife Huma Abedin, is cooperating with the FBI investigation, had given them the laptop, so therefore they didn’t need a warrant to get in to see the contents of said laptop. Pretty interesting development. \\nTargets of federal investigations will often cooperate, hoping that they will get consideration from a judge at sentencing. Given Weiner’s well-known penchant for lying, it’s hard to believe that a prosecutor would give Weiner a deal based on an agreement to testify, unless his testimony were very strongly corroborated by hard evidence. But cooperation can take many forms — and, as Wallace indicated on this morning’s show, one of those forms could be signing a consent form to allow   the contents of devices that they could probably get a warrant for anyway. We’ll see if Weiner’s cooperation extends beyond that. More Related'"
      ]
     },
     "execution_count": 10,
     "metadata": {},
     "output_type": "execute_result"
    }
   ],
   "source": [
    "# taking a peak at an individual article.\n",
    "df['content'][2]"
   ]
  },
  {
   "cell_type": "markdown",
   "metadata": {},
   "source": [
    "# Preprocessing each article"
   ]
  },
  {
   "cell_type": "code",
   "execution_count": 11,
   "metadata": {},
   "outputs": [],
   "source": [
    "#text preprocessing imports\n",
    "import nltk\n",
    "import string\n",
    "\n",
    "from bs4 import BeautifulSoup\n",
    "from nltk.corpus import stopwords\n",
    "from nltk.tokenize import RegexpTokenizer\n",
    "from nltk.stem import WordNetLemmatizer\n",
    "from nltk.stem.porter import PorterStemmer\n",
    "from nltk.tokenize import word_tokenize"
   ]
  },
  {
   "cell_type": "code",
   "execution_count": 12,
   "metadata": {},
   "outputs": [],
   "source": [
    "#Remove HTML data after the text was scraped \n",
    "def remove_html(text):\n",
    "    soup = BeautifulSoup(text)\n",
    "    html_free = soup.get_text()\n",
    "    return html_free"
   ]
  },
  {
   "cell_type": "code",
   "execution_count": 13,
   "metadata": {},
   "outputs": [],
   "source": [
    "#remove punctuation that we dont want to have tokenized\n",
    "def remove_punctuation(text):\n",
    "    no_punctuation = \"\".join([c for c in text if c not in string.punctuation])\n",
    "    return no_punctuation"
   ]
  },
  {
   "cell_type": "code",
   "execution_count": 14,
   "metadata": {},
   "outputs": [],
   "source": [
    "#tokenize each row using regex tokenizer, creating a list of words at every white space '\\w' \n",
    "tokenizer = RegexpTokenizer(r'\\w+')"
   ]
  },
  {
   "cell_type": "code",
   "execution_count": 15,
   "metadata": {},
   "outputs": [],
   "source": [
    "#remove stopwords such as 'this' and 'in' as these would be the most common words when extracting features \n",
    "def remove_stopwords(text):\n",
    "    words = [w for w in text if w not in stopwords.words('english')]\n",
    "    return words"
   ]
  },
  {
   "cell_type": "code",
   "execution_count": 16,
   "metadata": {},
   "outputs": [],
   "source": [
    "stemmer = PorterStemmer()"
   ]
  },
  {
   "cell_type": "code",
   "execution_count": 17,
   "metadata": {},
   "outputs": [],
   "source": [
    "#normalize each word by removing the commoner morphological and inflexional endings\n",
    "def word_stemmer(text):\n",
    "    stem_text = \" \".join([stemmer.stem(i) for i in text])\n",
    "    return stem_text"
   ]
  },
  {
   "cell_type": "code",
   "execution_count": 18,
   "metadata": {},
   "outputs": [],
   "source": [
    "#group all the functions into one function call that we can use on individual paragraphs later and to preprocess the dataset\n",
    "def preprocess_text(x):\n",
    "    x = remove_html(x)\n",
    "    x = remove_punctuation(x)\n",
    "    x = tokenizer.tokenize(x.lower())\n",
    "    x = remove_stopwords(x)\n",
    "    x = word_stemmer(x)\n",
    "    return x"
   ]
  },
  {
   "cell_type": "code",
   "execution_count": null,
   "metadata": {},
   "outputs": [],
   "source": [
    "#preprocess the entire 'content' column\n",
    "logging.info('Preprocessing initiated...')\n",
    "df['content'] = df['content'].apply(lambda x: preprocess_text(x))\n",
    "logging.info('Preprocessing complete.')"
   ]
  },
  {
   "cell_type": "code",
   "execution_count": 19,
   "metadata": {},
   "outputs": [
    {
     "data": {
      "text/plain": [
       "'Red State : \\nFox News Sunday reported this morning that Anthony Weiner is cooperating with the FBI, which has re-opened (yes, lefties: “re-opened”) the investigation into Hillary Clinton’s classified emails. Watch as Chris Wallace reports the breaking news during the panel segment near the end of the show: \\nAnd the news is breaking while we’re on the air. Our colleague Bret Baier has just sent us an e-mail saying he has two sources who say that Anthony Weiner, who also had co-ownership of that laptop with his estranged wife Huma Abedin, is cooperating with the FBI investigation, had given them the laptop, so therefore they didn’t need a warrant to get in to see the contents of said laptop. Pretty interesting development. \\nTargets of federal investigations will often cooperate, hoping that they will get consideration from a judge at sentencing. Given Weiner’s well-known penchant for lying, it’s hard to believe that a prosecutor would give Weiner a deal based on an agreement to testify, unless his testimony were very strongly corroborated by hard evidence. But cooperation can take many forms — and, as Wallace indicated on this morning’s show, one of those forms could be signing a consent form to allow   the contents of devices that they could probably get a warrant for anyway. We’ll see if Weiner’s cooperation extends beyond that. More Related'"
      ]
     },
     "execution_count": 19,
     "metadata": {},
     "output_type": "execute_result"
    }
   ],
   "source": [
    "# ensuring that preprocessing worked\n",
    "df['content'][2]"
   ]
  },
  {
   "cell_type": "code",
   "execution_count": null,
   "metadata": {},
   "outputs": [],
   "source": [
    "#save the processed dataset onto a new file for later use.\n",
    "df.to_csv(\"C:\\\\Users\\\\Eli\\\\Desktop\\\\cleaned_dataset.csv\")"
   ]
  },
  {
   "cell_type": "markdown",
   "metadata": {},
   "source": [
    "#### - If you have a dataset and do not want to preprocess it, you can use the code from here. All you need is to redirect the pd.read_csv to your own dataset."
   ]
  },
  {
   "cell_type": "code",
   "execution_count": 94,
   "metadata": {},
   "outputs": [
    {
     "data": {
      "text/plain": [
       "0        print pay back money plu interest entir famili...\n",
       "1        attorney gener loretta lynch plead fifth barra...\n",
       "2        red state fox news sunday report morn anthoni ...\n",
       "3        email kayla mueller prison tortur isi chanc re...\n",
       "4        email healthcar reform make america great sinc...\n",
       "                               ...                        \n",
       "27870    uber driver keith avila pick passeng look like...\n",
       "27871    crew friday continu search lake eri plane carr...\n",
       "27872    obama administr announc massiv effort help dis...\n",
       "27873    stori updat new law michigan prohibit local go...\n",
       "27874    nation first recreat marijuana shop open nearl...\n",
       "Name: content, Length: 27875, dtype: object"
      ]
     },
     "execution_count": 94,
     "metadata": {},
     "output_type": "execute_result"
    }
   ],
   "source": [
    "df = pd.read_csv(\"C:\\\\Users\\\\Eli\\\\Desktop\\\\processed_news_dataset.csv\", index_col=0)\n",
    "df = df.dropna()\n",
    "#reset index column after removing NaN values\n",
    "df.reset_index(drop=True, inplace= True)\n",
    "df['content']"
   ]
  },
  {
   "cell_type": "code",
   "execution_count": 75,
   "metadata": {},
   "outputs": [],
   "source": [
    "# machine learning imports\n",
    "#from sklearn.metrics import precision_recall_fscore_support\n",
    "from sklearn.model_selection import train_test_split\n",
    "from sklearn.linear_model import LogisticRegression\n",
    "from sklearn.naive_bayes import MultinomialNB\n",
    "from sklearn.ensemble import RandomForestClassifier\n",
    "from sklearn.feature_extraction.text import CountVectorizer,TfidfVectorizer\n",
    "from sklearn.metrics import f1_score, accuracy_score, recall_score, precision_score\n",
    "from xgboost import XGBClassifier\n",
    "from sklearn.model_selection import cross_val_score\n",
    "from sklearn.metrics import confusion_matrix\n",
    "import seaborn as sns"
   ]
  },
  {
   "cell_type": "code",
   "execution_count": 98,
   "metadata": {},
   "outputs": [
    {
     "name": "stdout",
     "output_type": "stream",
     "text": [
      "(6969, 4)\n"
     ]
    }
   ],
   "source": [
    "# train/test split\n",
    "training_data, testing_data = train_test_split(df, random_state = 42,)\n",
    "\n",
    "# get labels from the 'label' column\n",
    "y_train=training_data['label'].values\n",
    "y_test=testing_data['label'].values\n",
    "print(testing_data.shape)"
   ]
  },
  {
   "cell_type": "code",
   "execution_count": 23,
   "metadata": {},
   "outputs": [],
   "source": [
    "def collect_predictions(y_test, y_preds):\n",
    "    \"\"\"Collect all predictions and ground truth\"\"\"\n",
    "    \n",
    "    pred_gold_list=[ [ [y_test[idx] ], pred] for idx, pred in enumerate(y_preds)]\n",
    "    return pred_gold_list"
   ]
  },
  {
   "cell_type": "code",
   "execution_count": 24,
   "metadata": {},
   "outputs": [],
   "source": [
    "def compute_accuracy(eval_items:list):\n",
    "    \"\"\"Compute accuracies by comparing the label in true_vals vs label in pred_vals,\n",
    "    if correct, incriment correct. The calculate by diving correct by number of items evaluated\"\"\"\n",
    "    correct=0\n",
    "    for item in eval_items:\n",
    "        true_vals=item[0]\n",
    "        pred_vals=set(item[1])\n",
    "        \n",
    "        for label in true_vals:\n",
    "            if label in pred_vals:\n",
    "                correct+=1\n",
    "                break\n",
    "\n",
    "    accuracy=correct/float(len(eval_items))\n",
    "    #print(correct, total)\n",
    "    return accuracy"
   ]
  },
  {
   "cell_type": "code",
   "execution_count": 129,
   "metadata": {},
   "outputs": [],
   "source": [
    "def extract_features(df, field, training_data, testing_data, type=\"binary\"):\n",
    "    \"\"\"Extract features using different language models\"\"\"\n",
    "    \n",
    "    logging.info(\"Extracting features and vectorizing...\")\n",
    "    \n",
    "    if \"counts\" in type:\n",
    "        \n",
    "        # count vectorizer (Bag-of-words language model)\n",
    "        cv= CountVectorizer(binary=False,max_df= 0.95,min_df=0.01, ngram_range=(1,3))\n",
    "        cv.fit_transform(training_data[field].values)\n",
    "        # train/test split the dataset\n",
    "        train_feature_set=cv.transform(training_data[field].values)\n",
    "        test_feature_set=cv.transform(testing_data[field].values)\n",
    "        \n",
    "        return train_feature_set,test_feature_set,cv\n",
    "    \n",
    "    else:    \n",
    "        \n",
    "        # TF-IDF vectorizer\n",
    "        tfidf_vectorizer=TfidfVectorizer(use_idf=True,max_df=0.95,min_df=0.01, ngram_range=(1,3))\n",
    "        tfidf_vectorizer.fit_transform(training_data[field].values)\n",
    "        # transform the training and the test sets\n",
    "        train_feature_set=tfidf_vectorizer.transform(training_data[field].values)\n",
    "        test_feature_set=tfidf_vectorizer.transform(testing_data[field].values)\n",
    "        \n",
    "        return train_feature_set,test_feature_set,tfidf_vectorizer\n"
   ]
  },
  {
   "cell_type": "code",
   "execution_count": 130,
   "metadata": {},
   "outputs": [
    {
     "data": {
      "text/plain": [
       "<20906x5100 sparse matrix of type '<class 'numpy.float64'>'\n",
       "\twith 5100897 stored elements in Compressed Sparse Row format>"
      ]
     },
     "execution_count": 130,
     "metadata": {},
     "output_type": "execute_result"
    }
   ],
   "source": [
    "# testing the vectorization \n",
    "# test_cv= CountVectorizer(binary=False, max_df=0.95, min_df=0.01, ngram_range=(1,2))\n",
    "test_cv= TfidfVectorizer(use_idf=True, ngram_range=(1,3), max_df=0.95, min_df=0.01)\n",
    "test_cv.fit_transform(training_data['content'].values)"
   ]
  },
  {
   "cell_type": "code",
   "execution_count": 127,
   "metadata": {},
   "outputs": [
    {
     "name": "stdout",
     "output_type": "stream",
     "text": [
      "Frequency: \n",
      " [('trump', 78817), ('said', 69793), ('one', 45089), ('peopl', 43388), ('would', 42699)]\n"
     ]
    }
   ],
   "source": [
    "top_n = 5\n",
    "#top 5 words using bag-of-words\n",
    "vectorizer = CountVectorizer(binary=False, max_df=0.95, min_df=0.01)\n",
    "X_val = vectorizer.fit_transform(training_data['content'].values)\n",
    "feature_array = vectorizer.get_feature_names()\n",
    "print('Frequency: \\n', sorted(list(zip(vectorizer.get_feature_names(), \n",
    "                                         X_val.sum(0).getA1())),\n",
    "                            key=lambda x: x[1], reverse=True)[:top_n])\n"
   ]
  },
  {
   "cell_type": "code",
   "execution_count": 128,
   "metadata": {},
   "outputs": [
    {
     "name": "stdout",
     "output_type": "stream",
     "text": [
      "tf_idf scores: \n",
      " [('version', 864.4570283836413), ('contin', 706.7254521196006), ('sharp', 515.8517135921269), ('roger', 486.6578001824379), ('fight', 471.2180329467801)]\n"
     ]
    }
   ],
   "source": [
    "# top 5 tf-idf terms \n",
    "vectorizertfidf = TfidfVectorizer(use_idf=True,max_df=0.95,min_df=0.01, ngram_range=(1,3))\n",
    "XV = vectorizertfidf.fit_transform(training_data['content'].values)\n",
    "feature_array = vectorizertfidf.get_feature_names()\n",
    "print('tf_idf scores: \\n', sorted(list(zip(vectorizer.get_feature_names(), \n",
    "                                             XV.sum(0).getA1())), \n",
    "                                 key=lambda x: x[1], reverse=True)[:top_n])"
   ]
  },
  {
   "cell_type": "code",
   "execution_count": 30,
   "metadata": {},
   "outputs": [],
   "source": [
    "def get_prediction(model, X_test):\n",
    "    \"\"\"Get prediction by comparing probabilities for each label,\n",
    "    this is then stored in a list built using list comprehension.\"\"\"\n",
    "    # get probabilities\n",
    "    probabilities = model.predict_proba(X_test)\n",
    "\n",
    "    # get label\n",
    "    best_n = np.argsort(probabilities, axis=1)[:,-1:]\n",
    "    \n",
    "    # get label prediction\n",
    "    predictions=[[model.classes_[predicted_class] for predicted_class in prediction] for prediction in best_n]\n",
    "    # rebuild predictions using list comprehension \n",
    "    predictions=[ item[::-1] for item in predictions]\n",
    "    \n",
    "    return predictions"
   ]
  },
  {
   "cell_type": "code",
   "execution_count": 69,
   "metadata": {},
   "outputs": [],
   "source": [
    "def train_lr(df, field=\"content\", feature_rep=\"counts\"):\n",
    "    \n",
    "    logging.info(\"Initiating...\")\n",
    "    \n",
    "\n",
    "    # get features\n",
    "    X_train, X_test, feature_transformer=extract_features(df, field, training_data, testing_data, type=feature_rep)\n",
    "    # start linear regression\n",
    "    logging.info(\"Fitting Logistical Regression Model...\")\n",
    "    lr = LogisticRegression(solver='saga', random_state=42, C=5, penalty='l2', max_iter=5000)\n",
    "    model_lr=lr.fit(X_train, y_train)\n",
    "\n",
    "    # get prediction\n",
    "    prediction=get_prediction(model_lr, X_test)\n",
    "    \n",
    "    # store predicted values into a list of lists\n",
    "    eval_items=collect_predictions(y_test, prediction)\n",
    "    \n",
    "    # cross-validate accuracies\n",
    "    scores = cross_val_score(model_lr, X_train, y_train, cv=10)\n",
    "    print('Cross-Validation Accuracy Scores: ', scores)\n",
    "    \n",
    "    # collect all accuracies\n",
    "    logging.info(\"Starting evaluation...\")\n",
    "    accuracy=compute_accuracy(eval_items)\n",
    "    \n",
    "    # calculate all metrics\n",
    "    _accuracy = accuracy_score(y_test, prediction)\n",
    "    precision = precision_score(y_test, prediction, average='macro')\n",
    "    recall = recall_score(y_test, prediction, average='macro')\n",
    "    f1 = f1_score(y_test, prediction, average='macro')\n",
    "    #precision, recall, fscore, support = precision_recall_fscore_support(y_test, prediction, average='micro')\n",
    "    \n",
    "    logging.info(\"Done training and evaluation.\")\n",
    "    \n",
    "    cf = confusion_matrix(y_test, prediction)\n",
    "    print('Confusion Matrix: \\n',cf)\n",
    "    \n",
    "    return model_lr, feature_transformer, accuracy, _accuracy, precision, recall, f1, scores"
   ]
  },
  {
   "cell_type": "code",
   "execution_count": 32,
   "metadata": {},
   "outputs": [],
   "source": [
    "def train_nb(df, field, feature_rep):\n",
    "    \"\"\"Train a naive bayes model\"\"\"\n",
    "    logging.info(\"Initiating...\")\n",
    "    \n",
    "    # extract features \n",
    "    X_train, X_test, feature_transformer=extract_features(df, field, training_data, testing_data, type=feature_rep)\n",
    "\n",
    "    # start naive bayes model\n",
    "    logging.info(\"Fitting Naive Bayes Model...\")\n",
    "    nb = MultinomialNB()\n",
    "    model_nb=nb.fit(X_train, y_train)\n",
    " \n",
    "    # get prediction\n",
    "    prediction=get_prediction(model_nb, X_test)\n",
    "    \n",
    "    # turn predicted items into a list\n",
    "    eval_items=collect_predictions(y_test, prediction)\n",
    "    # cross-validate accuracy\n",
    "    scores = cross_val_score(model_nb, X_train, y_train, cv=10)\n",
    "    print('Cross-Validation Accuracy Scores: ', scores)\n",
    "    \n",
    "    # collect all accuracies\n",
    "    logging.info(\"Starting evaluation...\")\n",
    "    accuracy=compute_accuracy(eval_items)\n",
    "    \n",
    "    # compute metrics using sklearn\n",
    "    _accuracy = accuracy_score(y_test, prediction)\n",
    "    precision = precision_score(y_test, prediction, average='macro')\n",
    "    recall = recall_score(y_test, prediction, average='macro')\n",
    "    f1 = f1_score(y_test, prediction, average='macro')\n",
    "    \n",
    "    logging.info(\"Done training and evaluation.\")\n",
    "    \n",
    "    return model_nb, feature_transformer, accuracy, _accuracy, precision, recall, f1, scores\n"
   ]
  },
  {
   "cell_type": "code",
   "execution_count": 87,
   "metadata": {},
   "outputs": [],
   "source": [
    "def train_xgb(df,field, feature_rep):\n",
    "    \"\"\"Train a XGBClassifier model\"\"\"\n",
    "    logging.info(\"Initiating...\")\n",
    "\n",
    "    # extract features \n",
    "    X_train, X_test, feature_transformer=extract_features(df, field, training_data, testing_data, type=feature_rep)\n",
    "\n",
    "    # start naive bayes model\n",
    "    logging.info(\"Fitting XGBClassifier Model...\")\n",
    "    XGB = XGBClassifier(max_depth=10, min_child_weight =6,subsample=0.9, colsample=0.9, learning_rate=0.300000012)\n",
    "    model_XGB=XGB.fit(X_train, y_train)\n",
    "\n",
    "    # get prediction\n",
    "    prediction=get_prediction(model_XGB, X_test)\n",
    "    \n",
    "    # turn predicted items and ground truths into a list\n",
    "    eval_items=collect_predictions(y_test, prediction)\n",
    "    \n",
    "    # cross-validate accuracy \n",
    "    scores = cross_val_score(model_XGB, X_train, y_train, cv=10)\n",
    "    print('Cross-Validation Accuracy Scores: ', scores)    \n",
    "    \n",
    "    # collect all accuracies\n",
    "    logging.info(\"Starting evaluation...\")\n",
    "    accuracy=compute_accuracy(eval_items)\n",
    "    \n",
    "    # calculate all metrics\n",
    "    _accuracy = accuracy_score(y_test, prediction)\n",
    "    precision = precision_score(y_test, prediction, average='macro')\n",
    "    recall = recall_score(y_test, prediction, average='macro')\n",
    "    f1 = f1_score(y_test, prediction, average='macro')  \n",
    "    \n",
    "    logging.info(\"Done training and evaluation.\")\n",
    "    \n",
    "    # build confusion matrix\n",
    "    cf = confusion_matrix(y_test, prediction)\n",
    "    print('Confusion Matrix: \\n',cf)\n",
    "    \n",
    "    group_names = ['True Neg','False Pos','False Neg','True Pos']\n",
    "    group_counts = [\"{0:0.0f}\".format(value) for value in cf.flatten()]\n",
    "    group_percentages = [\"{0:.2%}\".format(value) for value in cf.flatten()/np.sum(cf)]\n",
    "    labels = [f\"{v1}\\n{v2}\\n{v3}\" for v1, v2, v3 in zip(group_names, group_counts, group_percentages)]\n",
    "    labels = np.asarray(labels).reshape(2,2)\n",
    "    sns_plot = sns.heatmap(cf, annot=labels, fmt='', cmap='Greens')\n",
    "    fig = sns_plot.get_figure()\n",
    "    fig.savefig(\"heatmap.png\") \n",
    "    \n",
    "    \n",
    "    return model_XGB, feature_transformer, accuracy, _accuracy, precision, recall, f1, scores"
   ]
  },
  {
   "cell_type": "code",
   "execution_count": 34,
   "metadata": {},
   "outputs": [],
   "source": [
    "def train_rfc(df, field, feature_rep):\n",
    "    \"\"\"Train a Random Forest Classifier model\"\"\"\n",
    "    logging.info(\"Initiating...\")\n",
    "\n",
    "    # extract features \n",
    "    X_train, X_test, feature_transformer=extract_features(df, field, training_data, testing_data, type=feature_rep)\n",
    "\n",
    "    # start random forest model\n",
    "    logging.info(\"Fitting Random Forest Model...\")\n",
    "    rfc = RandomForestClassifier(criterion = 'entropy', n_estimators=1000, random_state=42, max_depth=50, n_jobs=-1)\n",
    "    model_rfc=rfc.fit(X_train, y_train)\n",
    "\n",
    "    # get prediction\n",
    "    prediction=get_prediction(model_rfc, X_test)\n",
    "    \n",
    "    # turn predicted items and ground truths into a list\n",
    "    eval_items=collect_predictions(y_test, prediction)\n",
    "    \n",
    "    # cross-validate accuracies \n",
    "    scores = cross_val_score(model_rfc, X_train, y_train, cv=10)\n",
    "    print('Cross-Validation Accuracy Scores: ', scores)    \n",
    "    \n",
    "    # collect all accuracies\n",
    "    logging.info(\"Starting evaluation...\")\n",
    "    accuracy=compute_accuracy(eval_items)\n",
    "    \n",
    "    # calculate all metrics\n",
    "    _accuracy = accuracy_score(y_test, prediction)\n",
    "    precision = precision_score(y_test, prediction, average='macro')\n",
    "    recall = recall_score(y_test, prediction, average='macro')\n",
    "    f1 = f1_score(y_test, prediction, average='macro')  \n",
    "    \n",
    "    logging.info(\"Done training and evaluation.\")\n",
    "    \n",
    "    return model_rfc, feature_transformer, accuracy, _accuracy, precision, recall, f1, scores"
   ]
  },
  {
   "cell_type": "markdown",
   "metadata": {},
   "source": [
    "# Evaluating the different models \n",
    "\n",
    "#### Training Logistic Regression Classifier using TF-IDF and Bag-of-words models "
   ]
  },
  {
   "cell_type": "code",
   "execution_count": 124,
   "metadata": {
    "scrolled": true
   },
   "outputs": [
    {
     "name": "stderr",
     "output_type": "stream",
     "text": [
      "2020-05-18 20:48:46,253 : INFO : Initiating...\n",
      "2020-05-18 20:48:46,254 : INFO : Extracting features and vectorizing...\n",
      "2020-05-18 20:50:13,125 : INFO : Fitting Logistical Regression Model...\n",
      "2020-05-18 20:51:04,980 : INFO : Starting evaluation...\n",
      "2020-05-18 20:51:05,088 : INFO : Done training and evaluation.\n"
     ]
    },
    {
     "name": "stdout",
     "output_type": "stream",
     "text": [
      "Cross-Validation Accuracy Scores:  [0.94404591 0.94978479 0.94739359 0.95217599 0.94069823 0.94404591\n",
      " 0.94210526 0.94066986 0.94880383 0.94736842]\n",
      "Confusion Matrix: \n",
      " [[2846  229]\n",
      " [ 121 3773]]\n",
      "Model Scores: \n",
      "Accuracy=0.9497775864542976, Recall=0.9472275044784346, F1=0.9488729602005818, Precision=0.9509983380402822\n"
     ]
    }
   ],
   "source": [
    "#Training Logistic regression model using tfidf vectorizer\n",
    "model_tfidf_lr, transformer_tfidf_lr, accuracy_tfidf_lr, _acc_tfidf_lr, pre_tfidf_lr, re_tfidf_lr, f1_tfidf_lr, scores=train_lr(df,\n",
    "                                                                                                                        'content',\n",
    "                                                                                                                        'tfidf')\n",
    "#print(\"\\nAccuracy= {}\".format(accuracy_tfidf_lr))\n",
    "print(\"Model Scores: \\nAccuracy={}, Recall={}, F1={}, Precision={}\".format(_acc_tfidf_lr,\n",
    "                                                                           re_tfidf_lr,\n",
    "                                                                           f1_tfidf_lr,\n",
    "                                                                           pre_tfidf_lr))"
   ]
  },
  {
   "cell_type": "code",
   "execution_count": 113,
   "metadata": {},
   "outputs": [
    {
     "name": "stderr",
     "output_type": "stream",
     "text": [
      "2020-05-18 12:53:53,459 : INFO : Initiating...\n",
      "2020-05-18 12:53:53,460 : INFO : Extracting features and vectorizing...\n",
      "2020-05-18 12:55:12,877 : INFO : Fitting Logistical Regression Model...\n",
      "2020-05-18 13:25:03,601 : INFO : Starting evaluation...\n",
      "2020-05-18 13:25:03,708 : INFO : Done training and evaluation.\n"
     ]
    },
    {
     "name": "stdout",
     "output_type": "stream",
     "text": [
      "Cross-Validation Accuracy Scores:  [0.92204687 0.91582975 0.91296031 0.92109039 0.91248207 0.92300335\n",
      " 0.91578947 0.90861244 0.91866029 0.91578947]\n",
      "Confusion Matrix: \n",
      " [[2737  338]\n",
      " [ 210 3684]]\n",
      "Model Scores: \n",
      "Accuracy=0.9213660496484432, Recall=0.9180760895436382, F1=0.9198867249259033, Precision=0.9223516502466835\n"
     ]
    }
   ],
   "source": [
    "#Training Logistic regression model using counts vectorizer\n",
    "model_counts_lr, transformer_counts_lr, accuracy_counts_lr, _acc_counts_lr, pre_counts_lr, re_counts_lr, f1_counts_lr, scores1=train_lr(df,\n",
    "                                                                                                                               'content',\n",
    "                                                                                                                               'counts')\n",
    "#print(\"\\nAccuracy={}\".format(accuracy_counts_lr))\n",
    "print(\"Model Scores: \\nAccuracy={}, Recall={}, F1={}, Precision={}\".format(_acc_counts_lr,\n",
    "                                                                           re_counts_lr,\n",
    "                                                                           f1_counts_lr,\n",
    "                                                                           pre_counts_lr))"
   ]
  },
  {
   "cell_type": "markdown",
   "metadata": {},
   "source": [
    "#### Training Naive Bayes Classifier using TF-IDF and Bag-of-words models"
   ]
  },
  {
   "cell_type": "code",
   "execution_count": 110,
   "metadata": {},
   "outputs": [
    {
     "name": "stderr",
     "output_type": "stream",
     "text": [
      "2020-05-18 11:32:19,793 : INFO : Initiating...\n",
      "2020-05-18 11:32:19,794 : INFO : Extracting features and vectorizing...\n",
      "2020-05-18 11:33:39,160 : INFO : Fitting Naive Bayes Model...\n",
      "2020-05-18 11:33:39,932 : INFO : Starting evaluation...\n",
      "2020-05-18 11:33:40,052 : INFO : Done training and evaluation.\n"
     ]
    },
    {
     "name": "stdout",
     "output_type": "stream",
     "text": [
      "Cross-Validation Accuracy Scores:  [0.84791966 0.86561454 0.8579627  0.85987566 0.84409374 0.85270206\n",
      " 0.8569378  0.85167464 0.85789474 0.85645933]\n",
      "Model Scores: \n",
      "Accuracy=0.8603816903429473, Recall=0.8550920114748143, F1=0.8573619445099174, Precision=0.8610541748186191\n"
     ]
    }
   ],
   "source": [
    "#Training Naive Bayes model using tfidf vectorizer\n",
    "model_tfidf_nb, transformer_tfidf_nb, accuracy_tfidf_nb, _acc_tfidf_nb, pre_tfidf_nb, re_tfidf_nb, f1_tfidf_nb, scores2=train_nb(df,\n",
    "                                                                                                                        'content',\n",
    "                                                                                                                        'tfidf')\n",
    "#print(\"\\nAccuracy={}\".format(accuracy_tfidf_nb))\n",
    "print(\"Model Scores: \\nAccuracy={}, Recall={}, F1={}, Precision={}\".format(_acc_tfidf_nb,\n",
    "                                                                           re_tfidf_nb,\n",
    "                                                                           f1_tfidf_nb,\n",
    "                                                                           pre_tfidf_nb))"
   ]
  },
  {
   "cell_type": "code",
   "execution_count": 55,
   "metadata": {},
   "outputs": [
    {
     "name": "stderr",
     "output_type": "stream",
     "text": [
      "2020-05-17 18:43:36,552 : INFO : Initiating...\n",
      "2020-05-17 18:43:36,552 : INFO : Extracting features and vectorizing...\n",
      "2020-05-17 18:43:48,769 : INFO : Fitting Naive Bayes Model...\n",
      "2020-05-17 18:43:49,488 : INFO : Starting evaluation...\n",
      "2020-05-17 18:43:49,611 : INFO : Done training and evaluation.\n"
     ]
    },
    {
     "name": "stdout",
     "output_type": "stream",
     "text": [
      "Cross-Validation Accuracy Scores:  [0.83835485 0.8483979  0.84122429 0.84648494 0.82592061 0.83309421\n",
      " 0.83492823 0.82057416 0.83684211 0.8291866 ]\n",
      "Model Scores: \n",
      "Accuracy=0.8379968431625772, Recall=0.839082225724128, F1=0.8314019066230725, Precision=0.8340706482296714\n"
     ]
    }
   ],
   "source": [
    "#Training Naive Bayes model using counts vectorizer\n",
    "model_counts_nb, transformer_counts_nb, accuracy_counts_nb, _acc_counts_nb, re_counts_nb, f1_counts_nb, pre_counts_nb, scores3=train_nb(df,\n",
    "                                                                                                                               'content',\n",
    "                                                                                                                               'counts')\n",
    "#print(\"\\nAccuracy={}\".format(accuracy_counts_nb))\n",
    "print(\"Model Scores: \\nAccuracy={}, Recall={}, F1={}, Precision={}\".format(_acc_counts_nb,\n",
    "                                                                           re_counts_nb,\n",
    "                                                                           f1_counts_nb,\n",
    "                                                                           pre_counts_nb))"
   ]
  },
  {
   "cell_type": "markdown",
   "metadata": {},
   "source": [
    "#### Training XGBoost Classifier using TF-IDF and Bag-of-words models"
   ]
  },
  {
   "cell_type": "code",
   "execution_count": 114,
   "metadata": {},
   "outputs": [
    {
     "name": "stderr",
     "output_type": "stream",
     "text": [
      "2020-05-18 17:12:45,733 : INFO : Initiating...\n",
      "2020-05-18 17:12:45,734 : INFO : Extracting features and vectorizing...\n",
      "2020-05-18 17:14:05,895 : INFO : Fitting XGBClassifier Model...\n",
      "2020-05-18 17:18:05,206 : INFO : Starting evaluation...\n",
      "2020-05-18 17:18:05,358 : INFO : Done training and evaluation.\n"
     ]
    },
    {
     "name": "stdout",
     "output_type": "stream",
     "text": [
      "Cross-Validation Accuracy Scores:  [0.94500239 0.94548063 0.93735055 0.93830703 0.94165471 0.93352463\n",
      " 0.94066986 0.9492823  0.93397129 0.94497608]\n",
      "Confusion Matrix: \n",
      " [[2870  205]\n",
      " [ 180 3714]]\n",
      "Model Scores: \n",
      "Accuracy=0.9447553450997274, Recall=0.9443371719951978, F1=0.9435541859270673, Precision=0.9439330054305096\n"
     ]
    },
    {
     "data": {
      "image/png": "[encoded data removed]",
      "text/plain": [
       "<Figure size 432x288 with 2 Axes>"
      ]
     },
     "metadata": {
      "needs_background": "light"
     },
     "output_type": "display_data"
    }
   ],
   "source": [
    "#Training XGB model using tfidf vectorizer\n",
    "model_tfidf_XGB, transformer_tfidf_XGB, accuracy_tfidf_XGB, _acc_tfidf_XGB, pre_tfidf_XGB, re_tfidf_XGB, f1_tfidf_XGB, scores4=train_xgb(df,\n",
    "                                                                                                                            'content',\n",
    "                                                                                                                            'tfidf')\n",
    "#print(\"\\nAccuracy={}\".format(accuracy_tfidf_XGB))\n",
    "print(\"Model Scores: \\nAccuracy={}, Recall={}, F1={}, Precision={}\".format(_acc_tfidf_XGB,\n",
    "                                                                           pre_tfidf_XGB,\n",
    "                                                                           re_tfidf_XGB,\n",
    "                                                                           f1_tfidf_XGB))"
   ]
  },
  {
   "cell_type": "code",
   "execution_count": 115,
   "metadata": {},
   "outputs": [
    {
     "name": "stderr",
     "output_type": "stream",
     "text": [
      "2020-05-18 17:18:12,169 : INFO : Initiating...\n",
      "2020-05-18 17:18:12,170 : INFO : Extracting features and vectorizing...\n",
      "2020-05-18 17:19:33,298 : INFO : Fitting XGBClassifier Model...\n",
      "2020-05-18 17:21:48,781 : INFO : Starting evaluation...\n",
      "2020-05-18 17:21:48,935 : INFO : Done training and evaluation.\n"
     ]
    },
    {
     "name": "stdout",
     "output_type": "stream",
     "text": [
      "Cross-Validation Accuracy Scores:  [0.94452415 0.94213295 0.93926351 0.94308943 0.94117647 0.93495935\n",
      " 0.94497608 0.94832536 0.9430622  0.94545455]\n",
      "Confusion Matrix: \n",
      " [[2889  186]\n",
      " [ 192 3702]]\n",
      "Model Scores: \n",
      "Accuracy=0.9457597933706414, Recall=0.9449215322105617, F1=0.9451027847720695, Precision=0.9450114298854306\n"
     ]
    },
    {
     "data": {
      "image/png": "[encoded data removed]",
      "text/plain": [
       "<Figure size 432x288 with 2 Axes>"
      ]
     },
     "metadata": {
      "needs_background": "light"
     },
     "output_type": "display_data"
    }
   ],
   "source": [
    "#Training XGB model using counts vectorizer\n",
    "model_counts_XGB, transformer_counts_XGB, accuracy_counts_XGB, _acc_counts_XGB, re_counts_XGB, f1_counts_XGB, pre_counts_XGB, scores5=train_xgb(df,\n",
    "                                                                                                                                       'content',\n",
    "                                                                                                                                       'counts')\n",
    "#print(\"\\nAccuracy={}\".format(accuracy_counts_XGB))\n",
    "print(\"Model Scores: \\nAccuracy={}, Recall={}, F1={}, Precision={}\".format(_acc_counts_XGB,\n",
    "                                                                           re_counts_XGB,\n",
    "                                                                           f1_counts_XGB,\n",
    "                                                                           pre_counts_XGB))"
   ]
  },
  {
   "cell_type": "markdown",
   "metadata": {},
   "source": [
    "##### Training Random Forest Classifier using TF-IDF and Bag-of-words models"
   ]
  },
  {
   "cell_type": "code",
   "execution_count": 45,
   "metadata": {},
   "outputs": [
    {
     "name": "stderr",
     "output_type": "stream",
     "text": [
      "2020-05-17 16:17:08,745 : INFO : Initiating...\n",
      "2020-05-17 16:17:08,745 : INFO : Extracting features and vectorizing...\n",
      "2020-05-17 16:17:20,848 : INFO : Fitting Random Forest Model...\n",
      "2020-05-17 16:27:11,422 : INFO : Starting evaluation...\n",
      "2020-05-17 16:27:11,530 : INFO : Done training and evaluation.\n"
     ]
    },
    {
     "name": "stdout",
     "output_type": "stream",
     "text": [
      "Cross-Validation Accuracy Scores:  [0.89335246 0.8986131  0.88809182 0.89956958 0.90196078 0.88809182\n",
      " 0.90047847 0.90334928 0.89473684 0.90095694]\n",
      "Model Scores: \n",
      "Accuracy=0.9025685177213374, Recall=0.9079888334521264, F1=0.8958177057887682, Precision=0.8999185613757575\n"
     ]
    }
   ],
   "source": [
    "#Training rfc model using tfidf vectorizer\n",
    "model_tfidf_rfc, transformer_tfidf_rfc, accuracy_tfidf_rfc, _acc_tfidf_rfc, pre_tfidf_rfc, re_tfidf_rfc, f1_tfidf_rfc, scores6=train_rfc(df,\n",
    "                                                                                                                                'content',\n",
    "                                                                                                                                'tfidf')\n",
    "#print(\"\\nAccuracy={}\".format(accuracy_tfidf_rfc))\n",
    "print(\"Model Scores: \\nAccuracy={}, Recall={}, F1={}, Precision={}\".format(_acc_tfidf_rfc,\n",
    "                                                                           pre_tfidf_rfc,\n",
    "                                                                           re_tfidf_rfc,\n",
    "                                                                           f1_tfidf_rfc))"
   ]
  },
  {
   "cell_type": "code",
   "execution_count": 35,
   "metadata": {},
   "outputs": [
    {
     "name": "stderr",
     "output_type": "stream",
     "text": [
      "2020-05-17 16:51:31,443 : INFO : Initiating...\n",
      "2020-05-17 16:51:31,443 : INFO : Extracting features and vectorizing...\n",
      "2020-05-17 16:51:43,462 : INFO : Fitting Random Forest Model...\n",
      "2020-05-17 17:01:07,965 : INFO : Starting evaluation...\n",
      "2020-05-17 17:01:08,084 : INFO : Done training and evaluation.\n"
     ]
    },
    {
     "name": "stdout",
     "output_type": "stream",
     "text": [
      "Cross-Validation Accuracy Scores:  [0.89096126 0.8914395  0.87517934 0.89813486 0.89813486 0.8890483\n",
      " 0.89186603 0.90382775 0.8923445  0.89138756]\n",
      "Model Scores: \n",
      "Accuracy=0.8963983354857225, Recall=0.9019015962719749, F1=0.8893730191539204, Precision=0.8935241066857718\n"
     ]
    }
   ],
   "source": [
    "#Training rfc model using counts vectorizer\n",
    "model_counts_rfc, transformer_counts_rfc, accuracy_counts_rfc, _acc_counts_rfc, re_counts_rfc, f1_counts_rfc, pre_counts_rfc, scores7=train_rfc(df,'content', 'counts')\n",
    "print(\"Model Scores: \\nAccuracy={}, Recall={}, F1={}, Precision={}\".format(_acc_counts_rfc,\n",
    "                                                                           re_counts_rfc,\n",
    "                                                                           f1_counts_rfc,\n",
    "                                                                           pre_counts_rfc))"
   ]
  },
  {
   "cell_type": "markdown",
   "metadata": {},
   "source": [
    "# Testing on unseen text using the model with highest accuracy."
   ]
  },
  {
   "cell_type": "code",
   "execution_count": 42,
   "metadata": {},
   "outputs": [
    {
     "data": {
      "text/plain": [
       "[['real']]"
      ]
     },
     "execution_count": 42,
     "metadata": {},
     "output_type": "execute_result"
    }
   ],
   "source": [
    "\n",
    "test_features=transformer_tfidf_XGB.transform([preprocess_text('''Donald Trump said Monday that US officials expect the number of coronavirus cases in the United States to \"spike\" around Easter Sunday, a reversal from his talk of opening much of the country by 12 April.\n",
    "A day after Speaker Nancy Pelosi called Mr Trump's early response to warnings the virus was headed to the United States \"deadly,\" the president called the California Democrat a \"sick puppy.\"\n",
    "\n",
    "\"She's got a lot of problems, in my opinion,\" he said without providing details of those alleged issues. \"There's something wrong with the woman.\"\n",
    "\n",
    "The president then slammed San Francisco, where Ms Pelosi lives, calling it a \"slum\" and saying the federal government might take control of the region to address its alleged problems.\n",
    "\n",
    "Trump calls Pelosi a 'sick puppy' for attacking him\n",
    "The president appeared in full campaign mode as he cannot hold his signature rallies, contending \"Sleepy Joe wouldn't even know what was going on.\" That was a dig at former Vice President Joe Biden, the presumptive Democratic presidential nominee whom Mr Trump contends is mentally feeble.\n",
    "\n",
    "The \"Fox & Friends\" co-hosts were in campaign mode, as well, asking Mr Trump about high approval ratings for New York Governor Andrew Cuomo over his handling of the virus outbreak there. The president responded that Mr Cuomo has only been able to respond to the outbreak in the manner he has because of federal help that he green-lit. He also said he would \"love\" to run against the New York governor in a presidential general election.\n",
    "\n",
    "In yet another stunning moment of his term, Mr Trump appeared to claim the United States should have a more confrontational relationship with Germany and a closer one with Russia because the then-Soviet Union lost \"50 million people\" fighting on the side of the United States – against then-Nazi Germany. \"No one talks about that,\" he said, leaving out the US-Soviet Cold War that followed that world war.\n",
    "\n",
    "He told the conservative news network's morning show he would be speaking to Russian President Vladimir Putin following the \"Fox & Friends\" interview. Mr Trump has been criticised for at times appearing to carry out Mr Putin's whims, even though his administration has put sanctions on Russians over its 2016 election meddling.''')])\n",
    "get_prediction(model_tfidf_XGB,test_features)"
   ]
  },
  {
   "cell_type": "code",
   "execution_count": 71,
   "metadata": {},
   "outputs": [
    {
     "data": {
      "text/plain": [
       "[['fake']]"
      ]
     },
     "execution_count": 71,
     "metadata": {},
     "output_type": "execute_result"
    }
   ],
   "source": [
    "test_features=transformer_counts_XGB.transform([preprocess_text('''Writing in the Mail today, he warmed up by blasting Wonder Woman star Gal Gadot for her much-criticised, \"tone deaf\" version of Imagine that was supposed to lift people's spirits but left many cringing.\n",
    "\n",
    "But he soon moved on to weightier targets, saying 47-year-old Idris had a place on his \"idiot\" list despite having contracted coronavirus himself - because he exposed the fact that A-listers were getting tested while NHS staff couldn't.\n",
    "\n",
    "Piers later attacked High School Musical's Vanessa Hudgens, who called the virus a \"bunch of bulls**t\", saying she was in \"urgent need of shutting the f*** up\".\n",
    "\n",
    "His ire then turned on singer Sam Smith, who earned a place on Piers' list thanks to a series of pictures they shared of a \"meltdown\" in self-isolation .''')])\n",
    "get_prediction(model_counts_XGB,test_features)"
   ]
  },
  {
   "cell_type": "code",
   "execution_count": 43,
   "metadata": {},
   "outputs": [],
   "source": [
    "import pickle\n",
    "from sklearn.preprocessing import FunctionTransformer\n",
    "model_path=\"C:\\\\Users\\\\Eli\\\\Documents\\\\GitHub\\\\fake-news-detection\\\\models\\\\model_tfidf_nb.pkl\"\n",
    "transformer_path=\"C:\\\\Users\\\\Eli\\\\Documents\\\\GitHub\\\\fake-news-detection\\\\models\\\\transformer_tfidf_nb.pkl\"\n",
    "\n",
    "# store both the transformer to encode a piece of text and the model itself to make predictions \n",
    "pickle.dump(model_tfidf_XGB,open(model_path, 'wb'))\n",
    "pickle.dump(transformer_tfidf_XGB,open(transformer_path,'wb'))"
   ]
  },
  {
   "cell_type": "code",
   "execution_count": 52,
   "metadata": {},
   "outputs": [
    {
     "data": {
      "text/plain": [
       "[['fake']]"
      ]
     },
     "execution_count": 52,
     "metadata": {},
     "output_type": "execute_result"
    }
   ],
   "source": [
    "# test that the model pickled successfully\n",
    "loaded_model = pickle.load(open('C:\\\\Users\\\\Eli\\\\Documents\\\\GitHub\\\\fake-news-detection\\\\models\\\\model_tfidf_nb.pkl', 'rb'))\n",
    "loaded_transformer = pickle.load(open('C:\\\\Users\\\\Eli\\\\Documents\\\\GitHub\\\\fake-news-detection\\\\models\\\\transformer_tfidf_nb.pkl', 'rb'))\n",
    "\n",
    "test_features=loaded_transformer.transform([\"iating against career officials.\"])\n",
    "get_prediction(loaded_model,test_features)"
   ]
  },
  {
   "cell_type": "code",
   "execution_count": 53,
   "metadata": {},
   "outputs": [
    {
     "name": "stdout",
     "output_type": "stream",
     "text": [
      "XGBClassifier(base_score=0.5, booster=None, colsample=0.9, colsample_bylevel=1,\n",
      "              colsample_bynode=1, colsample_bytree=1, gamma=0, gpu_id=-1,\n",
      "              importance_type='gain', interaction_constraints=None,\n",
      "              learning_rate=0.300000012, max_delta_step=0, max_depth=10,\n",
      "              min_child_weight=6, missing=nan, monotone_constraints=None,\n",
      "              n_estimators=100, n_jobs=0, num_parallel_tree=1,\n",
      "              objective='binary:logistic', random_state=0, reg_alpha=0,\n",
      "              reg_lambda=1, scale_pos_weight=1, subsample=0.9, tree_method=None,\n",
      "              validate_parameters=False, verbosity=None)\n"
     ]
    }
   ],
   "source": [
    "print(loaded_model)"
   ]
  }
 ],
 "metadata": {
  "kernelspec": {
   "display_name": "Python 3.7.6 64-bit ('base': conda)",
   "language": "python",
   "name": "python37664bitbasecondad7e1c8a1a4144f60ae6d1eeb25c035c1"
  },
  "language_info": {
   "codemirror_mode": {
    "name": "ipython",
    "version": 3
   },
   "file_extension": ".py",
   "mimetype": "text/x-python",
   "name": "python",
   "nbconvert_exporter": "python",
   "pygments_lexer": "ipython3",
   "version": "3.7.6"
  }
 },
 "nbformat": 4,
 "nbformat_minor": 4
}
