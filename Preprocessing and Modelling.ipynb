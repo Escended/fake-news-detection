{
 "cells": [
  {
   "cell_type": "code",
   "execution_count": 1,
   "metadata": {},
   "outputs": [
    {
     "data": {
      "text/html": [
       "<div>\n",
       "<style scoped>\n",
       "    .dataframe tbody tr th:only-of-type {\n",
       "        vertical-align: middle;\n",
       "    }\n",
       "\n",
       "    .dataframe tbody tr th {\n",
       "        vertical-align: top;\n",
       "    }\n",
       "\n",
       "    .dataframe thead th {\n",
       "        text-align: right;\n",
       "    }\n",
       "</style>\n",
       "<table border=\"1\" class=\"dataframe\">\n",
       "  <thead>\n",
       "    <tr style=\"text-align: right;\">\n",
       "      <th></th>\n",
       "      <th>title</th>\n",
       "      <th>content</th>\n",
       "      <th>publication</th>\n",
       "      <th>label</th>\n",
       "    </tr>\n",
       "  </thead>\n",
       "  <tbody>\n",
       "    <tr>\n",
       "      <th>0</th>\n",
       "      <td>Muslims BUSTED: They Stole Millions In Gov’t B...</td>\n",
       "      <td>Print They should pay all the back all the mon...</td>\n",
       "      <td>100percentfedup</td>\n",
       "      <td>fake</td>\n",
       "    </tr>\n",
       "    <tr>\n",
       "      <th>1</th>\n",
       "      <td>Re: Why Did Attorney General Loretta Lynch Ple...</td>\n",
       "      <td>Why Did Attorney General Loretta Lynch Plead T...</td>\n",
       "      <td>100percentfedup</td>\n",
       "      <td>fake</td>\n",
       "    </tr>\n",
       "    <tr>\n",
       "      <th>2</th>\n",
       "      <td>BREAKING: Weiner Cooperating With FBI On Hilla...</td>\n",
       "      <td>Red State : \\nFox News Sunday reported this mo...</td>\n",
       "      <td>100percentfedup</td>\n",
       "      <td>fake</td>\n",
       "    </tr>\n",
       "    <tr>\n",
       "      <th>3</th>\n",
       "      <td>PIN DROP SPEECH BY FATHER OF DAUGHTER Kidnappe...</td>\n",
       "      <td>Email Kayla Mueller was a prisoner and torture...</td>\n",
       "      <td>100percentfedup</td>\n",
       "      <td>fake</td>\n",
       "    </tr>\n",
       "    <tr>\n",
       "      <th>4</th>\n",
       "      <td>FANTASTIC! TRUMP'S 7 POINT PLAN To Reform Heal...</td>\n",
       "      <td>Email HEALTHCARE REFORM TO MAKE AMERICA GREAT ...</td>\n",
       "      <td>100percentfedup</td>\n",
       "      <td>fake</td>\n",
       "    </tr>\n",
       "    <tr>\n",
       "      <th>...</th>\n",
       "      <td>...</td>\n",
       "      <td>...</td>\n",
       "      <td>...</td>\n",
       "      <td>...</td>\n",
       "    </tr>\n",
       "    <tr>\n",
       "      <th>15707</th>\n",
       "      <td>An eavesdropping Uber driver saved his 16-year...</td>\n",
       "      <td>Uber driver Keith Avila picked up a p...</td>\n",
       "      <td>Washington Post</td>\n",
       "      <td>real</td>\n",
       "    </tr>\n",
       "    <tr>\n",
       "      <th>15708</th>\n",
       "      <td>Plane carrying six people returning from a Cav...</td>\n",
       "      <td>Crews on Friday continued to search L...</td>\n",
       "      <td>Washington Post</td>\n",
       "      <td>real</td>\n",
       "    </tr>\n",
       "    <tr>\n",
       "      <th>15709</th>\n",
       "      <td>After helping a fraction of homeowners expecte...</td>\n",
       "      <td>When the Obama administration announced a...</td>\n",
       "      <td>Washington Post</td>\n",
       "      <td>real</td>\n",
       "    </tr>\n",
       "    <tr>\n",
       "      <th>15710</th>\n",
       "      <td>Yes, this is real: Michigan just banned bannin...</td>\n",
       "      <td>This story has been updated. A new law in...</td>\n",
       "      <td>Washington Post</td>\n",
       "      <td>real</td>\n",
       "    </tr>\n",
       "    <tr>\n",
       "      <th>15711</th>\n",
       "      <td>What happened in Washington state after voters...</td>\n",
       "      <td>The nation’s first recreational marijuana...</td>\n",
       "      <td>Washington Post</td>\n",
       "      <td>real</td>\n",
       "    </tr>\n",
       "  </tbody>\n",
       "</table>\n",
       "<p>28711 rows × 4 columns</p>\n",
       "</div>"
      ],
      "text/plain": [
       "                                                   title  \\\n",
       "0      Muslims BUSTED: They Stole Millions In Gov’t B...   \n",
       "1      Re: Why Did Attorney General Loretta Lynch Ple...   \n",
       "2      BREAKING: Weiner Cooperating With FBI On Hilla...   \n",
       "3      PIN DROP SPEECH BY FATHER OF DAUGHTER Kidnappe...   \n",
       "4      FANTASTIC! TRUMP'S 7 POINT PLAN To Reform Heal...   \n",
       "...                                                  ...   \n",
       "15707  An eavesdropping Uber driver saved his 16-year...   \n",
       "15708  Plane carrying six people returning from a Cav...   \n",
       "15709  After helping a fraction of homeowners expecte...   \n",
       "15710  Yes, this is real: Michigan just banned bannin...   \n",
       "15711  What happened in Washington state after voters...   \n",
       "\n",
       "                                                 content      publication  \\\n",
       "0      Print They should pay all the back all the mon...  100percentfedup   \n",
       "1      Why Did Attorney General Loretta Lynch Plead T...  100percentfedup   \n",
       "2      Red State : \\nFox News Sunday reported this mo...  100percentfedup   \n",
       "3      Email Kayla Mueller was a prisoner and torture...  100percentfedup   \n",
       "4      Email HEALTHCARE REFORM TO MAKE AMERICA GREAT ...  100percentfedup   \n",
       "...                                                  ...              ...   \n",
       "15707           Uber driver Keith Avila picked up a p...  Washington Post   \n",
       "15708           Crews on Friday continued to search L...  Washington Post   \n",
       "15709       When the Obama administration announced a...  Washington Post   \n",
       "15710       This story has been updated. A new law in...  Washington Post   \n",
       "15711       The nation’s first recreational marijuana...  Washington Post   \n",
       "\n",
       "      label  \n",
       "0      fake  \n",
       "1      fake  \n",
       "2      fake  \n",
       "3      fake  \n",
       "4      fake  \n",
       "...     ...  \n",
       "15707  real  \n",
       "15708  real  \n",
       "15709  real  \n",
       "15710  real  \n",
       "15711  real  \n",
       "\n",
       "[28711 rows x 4 columns]"
      ]
     },
     "execution_count": 1,
     "metadata": {},
     "output_type": "execute_result"
    }
   ],
   "source": [
    "import pandas as pd \n",
    "import logging\n",
    "from wordcloud import WordCloud, ImageColorGenerator, STOPWORDS\n",
    "import matplotlib.pyplot as plt\n",
    "import numpy as np\n",
    "\n",
    "logging.basicConfig(format='%(asctime)s : %(levelname)s : %(message)s', level=logging.INFO)\n",
    "\n",
    "df = pd.read_csv(\"C:\\\\Users\\\\Eli\\\\Desktop\\\\news_dataset.csv\", index_col=0)\n",
    "df"
   ]
  },
  {
   "cell_type": "code",
   "execution_count": 2,
   "metadata": {},
   "outputs": [
    {
     "data": {
      "text/plain": [
       "12999"
      ]
     },
     "execution_count": 2,
     "metadata": {},
     "output_type": "execute_result"
    }
   ],
   "source": [
    "len(df[df['label'].str.contains('fake')])"
   ]
  },
  {
   "cell_type": "code",
   "execution_count": 3,
   "metadata": {},
   "outputs": [
    {
     "data": {
      "text/plain": [
       "15712"
      ]
     },
     "execution_count": 3,
     "metadata": {},
     "output_type": "execute_result"
    }
   ],
   "source": [
    "len(df[df['label'].str.contains('real')])"
   ]
  },
  {
   "cell_type": "code",
   "execution_count": 4,
   "metadata": {},
   "outputs": [
    {
     "name": "stdout",
     "output_type": "stream",
     "text": [
      "0        Print They should pay all the back all the mon...\n",
      "1        Why Did Attorney General Loretta Lynch Plead T...\n",
      "2        Red State : \\nFox News Sunday reported this mo...\n",
      "3        Email Kayla Mueller was a prisoner and torture...\n",
      "4        Email HEALTHCARE REFORM TO MAKE AMERICA GREAT ...\n",
      "                               ...                        \n",
      "15707             Uber driver Keith Avila picked up a p...\n",
      "15708             Crews on Friday continued to search L...\n",
      "15709         When the Obama administration announced a...\n",
      "15710         This story has been updated. A new law in...\n",
      "15711         The nation’s first recreational marijuana...\n",
      "Name: content, Length: 28711, dtype: object\n"
     ]
    }
   ],
   "source": [
    "print(df['content'])"
   ]
  },
  {
   "cell_type": "code",
   "execution_count": 5,
   "metadata": {},
   "outputs": [
    {
     "data": {
      "text/html": [
       "<div>\n",
       "<style scoped>\n",
       "    .dataframe tbody tr th:only-of-type {\n",
       "        vertical-align: middle;\n",
       "    }\n",
       "\n",
       "    .dataframe tbody tr th {\n",
       "        vertical-align: top;\n",
       "    }\n",
       "\n",
       "    .dataframe thead th {\n",
       "        text-align: right;\n",
       "    }\n",
       "</style>\n",
       "<table border=\"1\" class=\"dataframe\">\n",
       "  <thead>\n",
       "    <tr style=\"text-align: right;\">\n",
       "      <th></th>\n",
       "      <th>title</th>\n",
       "      <th>content</th>\n",
       "      <th>publication</th>\n",
       "      <th>label</th>\n",
       "    </tr>\n",
       "  </thead>\n",
       "  <tbody>\n",
       "    <tr>\n",
       "      <th>0</th>\n",
       "      <td>Muslims BUSTED: They Stole Millions In Gov’t B...</td>\n",
       "      <td>Print They should pay all the back all the mon...</td>\n",
       "      <td>100percentfedup</td>\n",
       "      <td>fake</td>\n",
       "    </tr>\n",
       "    <tr>\n",
       "      <th>1</th>\n",
       "      <td>Re: Why Did Attorney General Loretta Lynch Ple...</td>\n",
       "      <td>Why Did Attorney General Loretta Lynch Plead T...</td>\n",
       "      <td>100percentfedup</td>\n",
       "      <td>fake</td>\n",
       "    </tr>\n",
       "    <tr>\n",
       "      <th>2</th>\n",
       "      <td>BREAKING: Weiner Cooperating With FBI On Hilla...</td>\n",
       "      <td>Red State : \\nFox News Sunday reported this mo...</td>\n",
       "      <td>100percentfedup</td>\n",
       "      <td>fake</td>\n",
       "    </tr>\n",
       "    <tr>\n",
       "      <th>3</th>\n",
       "      <td>PIN DROP SPEECH BY FATHER OF DAUGHTER Kidnappe...</td>\n",
       "      <td>Email Kayla Mueller was a prisoner and torture...</td>\n",
       "      <td>100percentfedup</td>\n",
       "      <td>fake</td>\n",
       "    </tr>\n",
       "    <tr>\n",
       "      <th>4</th>\n",
       "      <td>FANTASTIC! TRUMP'S 7 POINT PLAN To Reform Heal...</td>\n",
       "      <td>Email HEALTHCARE REFORM TO MAKE AMERICA GREAT ...</td>\n",
       "      <td>100percentfedup</td>\n",
       "      <td>fake</td>\n",
       "    </tr>\n",
       "    <tr>\n",
       "      <th>...</th>\n",
       "      <td>...</td>\n",
       "      <td>...</td>\n",
       "      <td>...</td>\n",
       "      <td>...</td>\n",
       "    </tr>\n",
       "    <tr>\n",
       "      <th>27980</th>\n",
       "      <td>An eavesdropping Uber driver saved his 16-year...</td>\n",
       "      <td>Uber driver Keith Avila picked up a p...</td>\n",
       "      <td>Washington Post</td>\n",
       "      <td>real</td>\n",
       "    </tr>\n",
       "    <tr>\n",
       "      <th>27981</th>\n",
       "      <td>Plane carrying six people returning from a Cav...</td>\n",
       "      <td>Crews on Friday continued to search L...</td>\n",
       "      <td>Washington Post</td>\n",
       "      <td>real</td>\n",
       "    </tr>\n",
       "    <tr>\n",
       "      <th>27982</th>\n",
       "      <td>After helping a fraction of homeowners expecte...</td>\n",
       "      <td>When the Obama administration announced a...</td>\n",
       "      <td>Washington Post</td>\n",
       "      <td>real</td>\n",
       "    </tr>\n",
       "    <tr>\n",
       "      <th>27983</th>\n",
       "      <td>Yes, this is real: Michigan just banned bannin...</td>\n",
       "      <td>This story has been updated. A new law in...</td>\n",
       "      <td>Washington Post</td>\n",
       "      <td>real</td>\n",
       "    </tr>\n",
       "    <tr>\n",
       "      <th>27984</th>\n",
       "      <td>What happened in Washington state after voters...</td>\n",
       "      <td>The nation’s first recreational marijuana...</td>\n",
       "      <td>Washington Post</td>\n",
       "      <td>real</td>\n",
       "    </tr>\n",
       "  </tbody>\n",
       "</table>\n",
       "<p>27985 rows × 4 columns</p>\n",
       "</div>"
      ],
      "text/plain": [
       "                                                   title  \\\n",
       "0      Muslims BUSTED: They Stole Millions In Gov’t B...   \n",
       "1      Re: Why Did Attorney General Loretta Lynch Ple...   \n",
       "2      BREAKING: Weiner Cooperating With FBI On Hilla...   \n",
       "3      PIN DROP SPEECH BY FATHER OF DAUGHTER Kidnappe...   \n",
       "4      FANTASTIC! TRUMP'S 7 POINT PLAN To Reform Heal...   \n",
       "...                                                  ...   \n",
       "27980  An eavesdropping Uber driver saved his 16-year...   \n",
       "27981  Plane carrying six people returning from a Cav...   \n",
       "27982  After helping a fraction of homeowners expecte...   \n",
       "27983  Yes, this is real: Michigan just banned bannin...   \n",
       "27984  What happened in Washington state after voters...   \n",
       "\n",
       "                                                 content      publication  \\\n",
       "0      Print They should pay all the back all the mon...  100percentfedup   \n",
       "1      Why Did Attorney General Loretta Lynch Plead T...  100percentfedup   \n",
       "2      Red State : \\nFox News Sunday reported this mo...  100percentfedup   \n",
       "3      Email Kayla Mueller was a prisoner and torture...  100percentfedup   \n",
       "4      Email HEALTHCARE REFORM TO MAKE AMERICA GREAT ...  100percentfedup   \n",
       "...                                                  ...              ...   \n",
       "27980           Uber driver Keith Avila picked up a p...  Washington Post   \n",
       "27981           Crews on Friday continued to search L...  Washington Post   \n",
       "27982       When the Obama administration announced a...  Washington Post   \n",
       "27983       This story has been updated. A new law in...  Washington Post   \n",
       "27984       The nation’s first recreational marijuana...  Washington Post   \n",
       "\n",
       "      label  \n",
       "0      fake  \n",
       "1      fake  \n",
       "2      fake  \n",
       "3      fake  \n",
       "4      fake  \n",
       "...     ...  \n",
       "27980  real  \n",
       "27981  real  \n",
       "27982  real  \n",
       "27983  real  \n",
       "27984  real  \n",
       "\n",
       "[27985 rows x 4 columns]"
      ]
     },
     "execution_count": 5,
     "metadata": {},
     "output_type": "execute_result"
    }
   ],
   "source": [
    "#drop NaN values\n",
    "df = df.dropna()\n",
    "#reset index column after removing NaN values\n",
    "df.reset_index(drop=True, inplace= True)\n",
    "df"
   ]
  },
  {
   "cell_type": "code",
   "execution_count": 6,
   "metadata": {},
   "outputs": [
    {
     "data": {
      "text/plain": [
       "12273"
      ]
     },
     "execution_count": 6,
     "metadata": {},
     "output_type": "execute_result"
    }
   ],
   "source": [
    "len(df[df['label'].str.contains('fake')])"
   ]
  },
  {
   "cell_type": "code",
   "execution_count": 7,
   "metadata": {},
   "outputs": [
    {
     "data": {
      "text/plain": [
       "15712"
      ]
     },
     "execution_count": 7,
     "metadata": {},
     "output_type": "execute_result"
    }
   ],
   "source": [
    "len(df[df['label'].str.contains('real')])"
   ]
  },
  {
   "cell_type": "code",
   "execution_count": 9,
   "metadata": {},
   "outputs": [
    {
     "data": {
      "image/png": "[encoded data removed]",
      "text/plain": [
       "<Figure size 432x288 with 1 Axes>"
      ]
     },
     "metadata": {
      "needs_background": "light"
     },
     "output_type": "display_data"
    },
    {
     "name": "stdout",
     "output_type": "stream",
     "text": [
      "Top 60 Words in the articles labelled as 'Fake'\n"
     ]
    },
    {
     "data": {
      "text/plain": [
       "<wordcloud.wordcloud.WordCloud at 0x182e6ff0c88>"
      ]
     },
     "execution_count": 9,
     "metadata": {},
     "output_type": "execute_result"
    }
   ],
   "source": [
    "stopwords = set(STOPWORDS)\n",
    "stopwords.add(\"wa\")\n",
    "stopwords.add(\"hi\")\n",
    "stopwords.add(\"ha\")\n",
    "text = \" \".join(content for content in df['content'][:12273])\n",
    "text = text.lower()\n",
    "wordcloud = WordCloud(stopwords = stopwords,max_words=60, background_color=\"white\").generate(text)\n",
    "plt.imshow(wordcloud, interpolation='bilinear')\n",
    "plt.axis(\"off\")\n",
    "plt.show()\n",
    "print(\"Top 60 Words in the articles labelled as 'Fake'\")\n",
    "wordcloud.to_file(\"wordClouds/first_fake.png\")"
   ]
  },
  {
   "cell_type": "code",
   "execution_count": 10,
   "metadata": {},
   "outputs": [
    {
     "data": {
      "image/png": "[encoded data removed]",
      "text/plain": [
       "<Figure size 432x288 with 1 Axes>"
      ]
     },
     "metadata": {
      "needs_background": "light"
     },
     "output_type": "display_data"
    },
    {
     "name": "stdout",
     "output_type": "stream",
     "text": [
      "Top 60 Words in the articles labelled as 'Real'\n"
     ]
    },
    {
     "data": {
      "text/plain": [
       "<wordcloud.wordcloud.WordCloud at 0x18283dd2e88>"
      ]
     },
     "execution_count": 10,
     "metadata": {},
     "output_type": "execute_result"
    }
   ],
   "source": [
    "text_real = \" \".join(content for content in df['content'][12274:])\n",
    "text_real = text.lower()\n",
    "wordcloud = WordCloud(stopwords = stopwords,max_words=60, background_color=\"white\").generate(text_real)\n",
    "plt.imshow(wordcloud, interpolation='bilinear')\n",
    "plt.axis(\"off\")\n",
    "plt.show()\n",
    "print(\"Top 60 Words in the articles labelled as 'Real'\")\n",
    "wordcloud.to_file(\"wordClouds/first_real.png\")"
   ]
  },
  {
   "cell_type": "code",
   "execution_count": 11,
   "metadata": {},
   "outputs": [
    {
     "data": {
      "image/png": "[encoded data removed]",
      "text/plain": [
       "<Figure size 432x288 with 1 Axes>"
      ]
     },
     "metadata": {
      "needs_background": "light"
     },
     "output_type": "display_data"
    }
   ],
   "source": [
    "fig = df['label'].value_counts().plot(kind='barh', color=\"green\")\n",
    "fig.figure.savefig(\"barh.png\")"
   ]
  },
  {
   "cell_type": "code",
   "execution_count": 12,
   "metadata": {},
   "outputs": [
    {
     "data": {
      "text/plain": [
       "'Red State : \\nFox News Sunday reported this morning that Anthony Weiner is cooperating with the FBI, which has re-opened (yes, lefties: “re-opened”) the investigation into Hillary Clinton’s classified emails. Watch as Chris Wallace reports the breaking news during the panel segment near the end of the show: \\nAnd the news is breaking while we’re on the air. Our colleague Bret Baier has just sent us an e-mail saying he has two sources who say that Anthony Weiner, who also had co-ownership of that laptop with his estranged wife Huma Abedin, is cooperating with the FBI investigation, had given them the laptop, so therefore they didn’t need a warrant to get in to see the contents of said laptop. Pretty interesting development. \\nTargets of federal investigations will often cooperate, hoping that they will get consideration from a judge at sentencing. Given Weiner’s well-known penchant for lying, it’s hard to believe that a prosecutor would give Weiner a deal based on an agreement to testify, unless his testimony were very strongly corroborated by hard evidence. But cooperation can take many forms — and, as Wallace indicated on this morning’s show, one of those forms could be signing a consent form to allow   the contents of devices that they could probably get a warrant for anyway. We’ll see if Weiner’s cooperation extends beyond that. More Related'"
      ]
     },
     "execution_count": 12,
     "metadata": {},
     "output_type": "execute_result"
    }
   ],
   "source": [
    "df['content'][2]"
   ]
  },
  {
   "cell_type": "code",
   "execution_count": 8,
   "metadata": {},
   "outputs": [],
   "source": [
    "#text preprocessing imports\n",
    "import nltk\n",
    "import string\n",
    "\n",
    "from bs4 import BeautifulSoup\n",
    "from nltk.corpus import stopwords\n",
    "from nltk.tokenize import RegexpTokenizer\n",
    "from nltk.stem import WordNetLemmatizer\n",
    "from nltk.stem.porter import PorterStemmer\n",
    "from nltk.tokenize import word_tokenize"
   ]
  },
  {
   "cell_type": "code",
   "execution_count": 14,
   "metadata": {},
   "outputs": [],
   "source": [
    "#Remove HTML data after the text was scraped \n",
    "def remove_html(text):\n",
    "    soup = BeautifulSoup(text)\n",
    "    html_free = soup.get_text()\n",
    "    return html_free"
   ]
  },
  {
   "cell_type": "code",
   "execution_count": 15,
   "metadata": {},
   "outputs": [],
   "source": [
    "#remove punctuation that we dont want to have tokenized\n",
    "def remove_punctuation(text):\n",
    "    no_punctuation = \"\".join([c for c in text if c not in string.punctuation])\n",
    "    return no_punctuation"
   ]
  },
  {
   "cell_type": "code",
   "execution_count": 16,
   "metadata": {},
   "outputs": [],
   "source": [
    "#tokenize each row using regex tokenizer, creating a list of words at every white space '\\w' \n",
    "tokenizer = RegexpTokenizer(r'\\w+')"
   ]
  },
  {
   "cell_type": "code",
   "execution_count": 17,
   "metadata": {},
   "outputs": [],
   "source": [
    "#remove stopwords such as 'this' and 'in' as these would be the most common words when extracting features \n",
    "def remove_stopwords(text):\n",
    "    words = [w for w in text if w not in stopwords.words('english')]\n",
    "    return words"
   ]
  },
  {
   "cell_type": "code",
   "execution_count": 18,
   "metadata": {},
   "outputs": [],
   "source": [
    "stemmer = PorterStemmer()"
   ]
  },
  {
   "cell_type": "code",
   "execution_count": 19,
   "metadata": {},
   "outputs": [],
   "source": [
    "#normalize each word by removing the commoner morphological and inflexional endings\n",
    "def word_stemmer(text):\n",
    "    stem_text = \" \".join([stemmer.stem(i) for i in text])\n",
    "    return stem_text"
   ]
  },
  {
   "cell_type": "code",
   "execution_count": 20,
   "metadata": {},
   "outputs": [],
   "source": [
    "#group all the functions into one function call that we can use on individual paragraphs later and to preprocess the dataset\n",
    "def preprocess_text(x):\n",
    "    x = remove_html(x)\n",
    "    x = remove_punctuation(x)\n",
    "    x = tokenizer.tokenize(x.lower())\n",
    "    x = remove_stopwords(x)\n",
    "    x = word_stemmer(x)\n",
    "    return x"
   ]
  },
  {
   "cell_type": "code",
   "execution_count": null,
   "metadata": {},
   "outputs": [],
   "source": [
    "#preprocess the entire 'content' column\n",
    "logging.info('Preprocessing initiated...')\n",
    "df['content'] = df['content'].apply(lambda x: preprocess_text(x))\n",
    "logging.info('Preprocessing complete.')"
   ]
  },
  {
   "cell_type": "code",
   "execution_count": 21,
   "metadata": {},
   "outputs": [
    {
     "data": {
      "text/plain": [
       "0        Print They should pay all the back all the mon...\n",
       "1        Why Did Attorney General Loretta Lynch Plead T...\n",
       "2        Red State : \\nFox News Sunday reported this mo...\n",
       "3        Email Kayla Mueller was a prisoner and torture...\n",
       "4        Email HEALTHCARE REFORM TO MAKE AMERICA GREAT ...\n",
       "                               ...                        \n",
       "27980             Uber driver Keith Avila picked up a p...\n",
       "27981             Crews on Friday continued to search L...\n",
       "27982         When the Obama administration announced a...\n",
       "27983         This story has been updated. A new law in...\n",
       "27984         The nation’s first recreational marijuana...\n",
       "Name: content, Length: 27985, dtype: object"
      ]
     },
     "execution_count": 21,
     "metadata": {},
     "output_type": "execute_result"
    }
   ],
   "source": [
    "df['content']"
   ]
  },
  {
   "cell_type": "code",
   "execution_count": null,
   "metadata": {},
   "outputs": [],
   "source": [
    "#save the processed dataset onto a new file for later use.\n",
    "df.to_csv(\"C:\\\\Users\\\\Eli\\\\Desktop\\\\cleaned_dataset.csv\")"
   ]
  },
  {
   "cell_type": "code",
   "execution_count": 9,
   "metadata": {},
   "outputs": [
    {
     "data": {
      "text/html": [
       "<div>\n",
       "<style scoped>\n",
       "    .dataframe tbody tr th:only-of-type {\n",
       "        vertical-align: middle;\n",
       "    }\n",
       "\n",
       "    .dataframe tbody tr th {\n",
       "        vertical-align: top;\n",
       "    }\n",
       "\n",
       "    .dataframe thead th {\n",
       "        text-align: right;\n",
       "    }\n",
       "</style>\n",
       "<table border=\"1\" class=\"dataframe\">\n",
       "  <thead>\n",
       "    <tr style=\"text-align: right;\">\n",
       "      <th></th>\n",
       "      <th>title</th>\n",
       "      <th>content</th>\n",
       "      <th>publication</th>\n",
       "      <th>label</th>\n",
       "    </tr>\n",
       "  </thead>\n",
       "  <tbody>\n",
       "    <tr>\n",
       "      <th>0</th>\n",
       "      <td>Muslims BUSTED: They Stole Millions In Gov’t B...</td>\n",
       "      <td>print pay back money plu interest entir famili...</td>\n",
       "      <td>100percentfedup</td>\n",
       "      <td>fake</td>\n",
       "    </tr>\n",
       "    <tr>\n",
       "      <th>1</th>\n",
       "      <td>Re: Why Did Attorney General Loretta Lynch Ple...</td>\n",
       "      <td>attorney gener loretta lynch plead fifth barra...</td>\n",
       "      <td>100percentfedup</td>\n",
       "      <td>fake</td>\n",
       "    </tr>\n",
       "    <tr>\n",
       "      <th>2</th>\n",
       "      <td>BREAKING: Weiner Cooperating With FBI On Hilla...</td>\n",
       "      <td>red state fox news sunday report morn anthoni ...</td>\n",
       "      <td>100percentfedup</td>\n",
       "      <td>fake</td>\n",
       "    </tr>\n",
       "    <tr>\n",
       "      <th>3</th>\n",
       "      <td>PIN DROP SPEECH BY FATHER OF DAUGHTER Kidnappe...</td>\n",
       "      <td>email kayla mueller prison tortur isi chanc re...</td>\n",
       "      <td>100percentfedup</td>\n",
       "      <td>fake</td>\n",
       "    </tr>\n",
       "    <tr>\n",
       "      <th>4</th>\n",
       "      <td>FANTASTIC! TRUMP'S 7 POINT PLAN To Reform Heal...</td>\n",
       "      <td>email healthcar reform make america great sinc...</td>\n",
       "      <td>100percentfedup</td>\n",
       "      <td>fake</td>\n",
       "    </tr>\n",
       "    <tr>\n",
       "      <th>...</th>\n",
       "      <td>...</td>\n",
       "      <td>...</td>\n",
       "      <td>...</td>\n",
       "      <td>...</td>\n",
       "    </tr>\n",
       "    <tr>\n",
       "      <th>27870</th>\n",
       "      <td>An eavesdropping Uber driver saved his 16-year...</td>\n",
       "      <td>uber driver keith avila pick passeng look like...</td>\n",
       "      <td>Washington Post</td>\n",
       "      <td>real</td>\n",
       "    </tr>\n",
       "    <tr>\n",
       "      <th>27871</th>\n",
       "      <td>Plane carrying six people returning from a Cav...</td>\n",
       "      <td>crew friday continu search lake eri plane carr...</td>\n",
       "      <td>Washington Post</td>\n",
       "      <td>real</td>\n",
       "    </tr>\n",
       "    <tr>\n",
       "      <th>27872</th>\n",
       "      <td>After helping a fraction of homeowners expecte...</td>\n",
       "      <td>obama administr announc massiv effort help dis...</td>\n",
       "      <td>Washington Post</td>\n",
       "      <td>real</td>\n",
       "    </tr>\n",
       "    <tr>\n",
       "      <th>27873</th>\n",
       "      <td>Yes, this is real: Michigan just banned bannin...</td>\n",
       "      <td>stori updat new law michigan prohibit local go...</td>\n",
       "      <td>Washington Post</td>\n",
       "      <td>real</td>\n",
       "    </tr>\n",
       "    <tr>\n",
       "      <th>27874</th>\n",
       "      <td>What happened in Washington state after voters...</td>\n",
       "      <td>nation first recreat marijuana shop open nearl...</td>\n",
       "      <td>Washington Post</td>\n",
       "      <td>real</td>\n",
       "    </tr>\n",
       "  </tbody>\n",
       "</table>\n",
       "<p>27875 rows × 4 columns</p>\n",
       "</div>"
      ],
      "text/plain": [
       "                                                   title  \\\n",
       "0      Muslims BUSTED: They Stole Millions In Gov’t B...   \n",
       "1      Re: Why Did Attorney General Loretta Lynch Ple...   \n",
       "2      BREAKING: Weiner Cooperating With FBI On Hilla...   \n",
       "3      PIN DROP SPEECH BY FATHER OF DAUGHTER Kidnappe...   \n",
       "4      FANTASTIC! TRUMP'S 7 POINT PLAN To Reform Heal...   \n",
       "...                                                  ...   \n",
       "27870  An eavesdropping Uber driver saved his 16-year...   \n",
       "27871  Plane carrying six people returning from a Cav...   \n",
       "27872  After helping a fraction of homeowners expecte...   \n",
       "27873  Yes, this is real: Michigan just banned bannin...   \n",
       "27874  What happened in Washington state after voters...   \n",
       "\n",
       "                                                 content      publication  \\\n",
       "0      print pay back money plu interest entir famili...  100percentfedup   \n",
       "1      attorney gener loretta lynch plead fifth barra...  100percentfedup   \n",
       "2      red state fox news sunday report morn anthoni ...  100percentfedup   \n",
       "3      email kayla mueller prison tortur isi chanc re...  100percentfedup   \n",
       "4      email healthcar reform make america great sinc...  100percentfedup   \n",
       "...                                                  ...              ...   \n",
       "27870  uber driver keith avila pick passeng look like...  Washington Post   \n",
       "27871  crew friday continu search lake eri plane carr...  Washington Post   \n",
       "27872  obama administr announc massiv effort help dis...  Washington Post   \n",
       "27873  stori updat new law michigan prohibit local go...  Washington Post   \n",
       "27874  nation first recreat marijuana shop open nearl...  Washington Post   \n",
       "\n",
       "      label  \n",
       "0      fake  \n",
       "1      fake  \n",
       "2      fake  \n",
       "3      fake  \n",
       "4      fake  \n",
       "...     ...  \n",
       "27870  real  \n",
       "27871  real  \n",
       "27872  real  \n",
       "27873  real  \n",
       "27874  real  \n",
       "\n",
       "[27875 rows x 4 columns]"
      ]
     },
     "execution_count": 9,
     "metadata": {},
     "output_type": "execute_result"
    }
   ],
   "source": [
    "\n",
    "df = pd.read_csv(\"C:\\\\Users\\\\Eli\\\\Desktop\\\\processed_news_dataset.csv\", index_col=0)\n",
    "df = df.dropna()\n",
    "#reset index column after removing NaN values\n",
    "df.reset_index(drop=True, inplace= True)\n",
    "df"
   ]
  },
  {
   "cell_type": "code",
   "execution_count": 10,
   "metadata": {},
   "outputs": [
    {
     "data": {
      "text/plain": [
       "'red state fox news sunday report morn anthoni weiner cooper fbi reopen ye lefti reopen investig hillari clinton classifi email watch chri wallac report break news panel segment near end show news break air colleagu bret baier sent us email say two sourc say anthoni weiner also coownership laptop estrang wife huma abedin cooper fbi investig given laptop therefor need warrant get see content said laptop pretti interest develop target feder investig often cooper hope get consider judg sentenc given weiner wellknown penchant lie hard believ prosecutor would give weiner deal base agreement testifi unless testimoni strongli corrobor hard evid cooper take mani form wallac indic morn show one form could sign consent form allow content devic could probabl get warrant anyway see weiner cooper extend beyond relat'"
      ]
     },
     "execution_count": 10,
     "metadata": {},
     "output_type": "execute_result"
    }
   ],
   "source": [
    "df['content'][2]"
   ]
  },
  {
   "cell_type": "code",
   "execution_count": 11,
   "metadata": {},
   "outputs": [
    {
     "name": "stderr",
     "output_type": "stream",
     "text": [
      "2020-05-13 12:29:18,426 : INFO : Note: NumExpr detected 12 cores but \"NUMEXPR_MAX_THREADS\" not set, so enforcing safe limit of 8.\n",
      "2020-05-13 12:29:18,426 : INFO : NumExpr defaulting to 8 threads.\n"
     ]
    }
   ],
   "source": [
    "# machine learning imports\n",
    "from sklearn.metrics import precision_recall_fscore_support\n",
    "from sklearn.model_selection import train_test_split\n",
    "from sklearn.linear_model import LogisticRegression\n",
    "from sklearn.naive_bayes import MultinomialNB\n",
    "from sklearn.ensemble import RandomForestClassifier\n",
    "from sklearn.feature_extraction.text import CountVectorizer,TfidfVectorizer\n",
    "#from sklearn.metrics import f1_score, accuracy_score, recall_score, precision_score\n",
    "from xgboost import XGBClassifier"
   ]
  },
  {
   "cell_type": "code",
   "execution_count": 12,
   "metadata": {},
   "outputs": [],
   "source": [
    "# train/test split\n",
    "training_data, testing_data = train_test_split(df, random_state = 42,)\n",
    "\n",
    "# get labels from the 'label' column\n",
    "y_train=training_data['label'].values\n",
    "y_test=testing_data['label'].values\n",
    "     "
   ]
  },
  {
   "cell_type": "code",
   "execution_count": 13,
   "metadata": {},
   "outputs": [],
   "source": [
    "def collect_predictions(y_test, y_preds):\n",
    "    \"\"\"Collect all predictions and ground truth\"\"\"\n",
    "    \n",
    "    pred_gold_list=[ [ [y_test[idx] ], pred] for idx, pred in enumerate(y_preds)]\n",
    "    return pred_gold_list"
   ]
  },
  {
   "cell_type": "code",
   "execution_count": 14,
   "metadata": {},
   "outputs": [],
   "source": [
    "def compute_accuracy(eval_items:list):\n",
    "    correct=0\n",
    "    total=0\n",
    "    \n",
    "    for item in eval_items:\n",
    "        true_vals=item[0]\n",
    "        pred_vals=set(item[1])\n",
    "        \n",
    "        for label in true_vals:\n",
    "            if label in pred_vals:\n",
    "                correct+=1\n",
    "                break\n",
    "\n",
    "    accuracy=correct/float(len(eval_items))\n",
    "    #print(correct, total)\n",
    "    return accuracy"
   ]
  },
  {
   "cell_type": "code",
   "execution_count": 15,
   "metadata": {},
   "outputs": [],
   "source": [
    "def extract_features(df, field, training_data, testing_data, type=\"binary\"):\n",
    "    \"\"\"Extract features using different language models\"\"\"\n",
    "    \n",
    "    logging.info(\"Extracting features and vectorizing...\")\n",
    "    \n",
    "    if \"counts\" in type:\n",
    "        \n",
    "        # count vectorizer (Bag-of-words language model)\n",
    "        cv= CountVectorizer(binary=False, max_df=0.95, min_df=0.01)\n",
    "        cv.fit_transform(training_data[field].values)\n",
    "        # train/test split the dataset\n",
    "        train_feature_set=cv.transform(training_data[field].values)\n",
    "        test_feature_set=cv.transform(testing_data[field].values)\n",
    "        \n",
    "        return train_feature_set,test_feature_set,cv\n",
    "    \n",
    "    else:    \n",
    "        \n",
    "        # TF-IDF vectorizer\n",
    "        tfidf_vectorizer=TfidfVectorizer(use_idf=True, max_df=0.95, min_df=0.01)\n",
    "        tfidf_vectorizer.fit_transform(training_data[field].values)\n",
    "        # train/test split the dataset\n",
    "        train_feature_set=tfidf_vectorizer.transform(training_data[field].values)\n",
    "        test_feature_set=tfidf_vectorizer.transform(testing_data[field].values)\n",
    "        \n",
    "        return train_feature_set,test_feature_set,tfidf_vectorizer\n"
   ]
  },
  {
   "cell_type": "code",
   "execution_count": 16,
   "metadata": {},
   "outputs": [
    {
     "data": {
      "text/plain": [
       "<20906x4048 sparse matrix of type '<class 'numpy.int64'>'\n",
       "\twith 4674155 stored elements in Compressed Sparse Row format>"
      ]
     },
     "execution_count": 16,
     "metadata": {},
     "output_type": "execute_result"
    }
   ],
   "source": [
    "# testing the vectorization \n",
    "test_cv= CountVectorizer(binary=False, max_df=0.95, min_df=0.01)\n",
    "test_cv.fit_transform(training_data['content'].values)"
   ]
  },
  {
   "cell_type": "code",
   "execution_count": 17,
   "metadata": {},
   "outputs": [
    {
     "name": "stdout",
     "output_type": "stream",
     "text": [
      "Frequency: \n",
      " [('trump', 78817), ('said', 69793), ('one', 45089), ('peopl', 43388), ('would', 42699)]\n"
     ]
    }
   ],
   "source": [
    "top_n = 5\n",
    "vectorizer = CountVectorizer(binary=False, max_df=0.95, min_df=0.01)\n",
    "X = vectorizer.fit_transform(training_data['content'].values)\n",
    "feature_array = vectorizer.get_feature_names()\n",
    "print('Frequency: \\n', sorted(list(zip(vectorizer.get_feature_names(), \n",
    "                                         X.sum(0).getA1())),\n",
    "                            key=lambda x: x[1], reverse=True)[:top_n])\n"
   ]
  },
  {
   "cell_type": "code",
   "execution_count": 18,
   "metadata": {},
   "outputs": [
    {
     "name": "stdout",
     "output_type": "stream",
     "text": [
      "tf_idf scores: \n",
      " [('pursuit', 223.32843311473266), ('10', 108.24064678429666), ('band', 95.7133350401454), ('proxi', 83.03786877860527), ('photo', 77.27455286252369)]\n"
     ]
    }
   ],
   "source": [
    "vectorizertfidf = TfidfVectorizer(stop_words='english')\n",
    "XV = vectorizertfidf.fit_transform(training_data['content'].values)\n",
    "feature_array = vectorizertfidf.get_feature_names()\n",
    "print('tf_idf scores: \\n', sorted(list(zip(vectorizer.get_feature_names(), \n",
    "                                             XV.sum(0).getA1())), \n",
    "                                 key=lambda x: x[1], reverse=True)[:top_n])"
   ]
  },
  {
   "cell_type": "code",
   "execution_count": 20,
   "metadata": {},
   "outputs": [
    {
     "name": "stdout",
     "output_type": "stream",
     "text": [
      "idf values: \n",
      " [('said', 1.4726761598247475), ('time', 1.5287789074819602), ('year', 1.5357016048358345), ('like', 1.5603574413780334), ('peopl', 1.5640499598400894)]\n"
     ]
    }
   ],
   "source": [
    "print('idf values: \\n', sorted(list(zip(feature_array,vectorizertfidf.idf_,)),\n",
    "       key = lambda x: x[1], reverse=False)[:top_n])"
   ]
  },
  {
   "cell_type": "code",
   "execution_count": 21,
   "metadata": {},
   "outputs": [],
   "source": [
    "def get_label_prediction(model, X_test):\n",
    "    \n",
    "    # get probabilities\n",
    "    probabilities = model.predict_proba(X_test)\n",
    "\n",
    "    # get best fitting class label\n",
    "    best_n = np.argsort(probabilities, axis=1)[:,-1:]\n",
    "    \n",
    "    # get label prediction\n",
    "    predictions=[[model.classes_[predicted_class] for predicted_class in prediction] for prediction in best_n]\n",
    "    # rebuild predictions using list comprehension \n",
    "    predictions=[ item[::-1] for item in predictions]\n",
    "    \n",
    "    return predictions"
   ]
  },
  {
   "cell_type": "code",
   "execution_count": 22,
   "metadata": {},
   "outputs": [],
   "source": [
    "def train_model_lr(df, field=\"content\", feature_rep=\"counts\"):\n",
    "    \n",
    "    logging.info(\"Initiating...\")\n",
    "    \n",
    "\n",
    "    # get features\n",
    "    X_train, X_test, feature_transformer=extract_features(df, field, training_data, testing_data, type=feature_rep)\n",
    "    # start linear regression\n",
    "    logging.info(\"Fitting Logistical Regression Model...\")\n",
    "    lr = LogisticRegression(solver='saga', random_state=42, C=5, penalty='l2', max_iter=5000)\n",
    "    model=lr.fit(X_train, y_train)\n",
    "\n",
    "    # get prediction\n",
    "    prediction=get_label_prediction(model, X_test)\n",
    "    \n",
    "    # store predicted values into a list of lists\n",
    "    eval_items=collect_predictions(y_test, prediction)\n",
    "    \n",
    "    # collect all accuracies\n",
    "    logging.info(\"Starting evaluation...\")\n",
    "    accuracy=compute_accuracy(eval_items)\n",
    "    \n",
    "    logging.info(\"Done training and evaluation.\")\n",
    "    \n",
    "    return model, feature_transformer, accuracy"
   ]
  },
  {
   "cell_type": "code",
   "execution_count": 23,
   "metadata": {},
   "outputs": [],
   "source": [
    "def train_model_nb(df, field, feature_rep):\n",
    "    \"\"\"Train a naive bayes model\"\"\"\n",
    "    logging.info(\"Initiating...\")\n",
    "    \n",
    "    # extract features \n",
    "    X_train, X_test, feature_transformer=extract_features(df, field, training_data, testing_data, type=feature_rep)\n",
    "\n",
    "    # start naive bayes model\n",
    "    logging.info(\"Fitting Naive Bayes Model...\")\n",
    "    nb = MultinomialNB()\n",
    "    model_nb=nb.fit(X_train, y_train)\n",
    " \n",
    "    # get prediction\n",
    "    prediction=get_label_prediction(model_nb, X_test)\n",
    "    \n",
    "    # turn predicted items into a list\n",
    "    eval_items=collect_predictions(y_test, prediction)\n",
    "    \n",
    "    # collect all accuracies\n",
    "    logging.info(\"Starting evaluation...\")\n",
    "    accuracy=compute_accuracy(eval_items)\n",
    "    \n",
    "    logging.info(\"Done training and evaluation.\")\n",
    "    \n",
    "    return model_nb, feature_transformer, accuracy\n"
   ]
  },
  {
   "cell_type": "code",
   "execution_count": 24,
   "metadata": {},
   "outputs": [],
   "source": [
    "def train_model_xgb(df,field, feature_rep):\n",
    "    \"\"\"Train a XGBClassifier model\"\"\"\n",
    "    logging.info(\"Initiating...\")\n",
    "\n",
    "    # extract features \n",
    "    X_train, X_test, feature_transformer=extract_features(df, field, training_data, testing_data, type=feature_rep)\n",
    "\n",
    "    # start naive bayes model\n",
    "    logging.info(\"Fitting XGBClassifier Model...\")\n",
    "    XGB = XGBClassifier()\n",
    "    model_XGB=XGB.fit(X_train, y_train)\n",
    "\n",
    "    # get prediction\n",
    "    prediction=get_label_prediction(model_XGB, X_test)\n",
    "    \n",
    "    # turn predicted items and ground truths into a list\n",
    "    eval_items=collect_predictions(y_test, prediction)\n",
    "    \n",
    "    # collect all accuracies\n",
    "    logging.info(\"Starting evaluation...\")\n",
    "    accuracy=compute_accuracy(eval_items)\n",
    "    \n",
    "    logging.info(\"Done training and evaluation.\")\n",
    "    \n",
    "    return model_XGB, feature_transformer, accuracy"
   ]
  },
  {
   "cell_type": "code",
   "execution_count": 57,
   "metadata": {},
   "outputs": [],
   "source": [
    "def train_model_rf(df, field, feature_rep):\n",
    "    \"\"\"Train a Random Forest Classifier model\"\"\"\n",
    "    logging.info(\"Initiating...\")\n",
    "\n",
    "    # extract features \n",
    "    X_train, X_test, feature_transformer=extract_features(df, field, training_data, testing_data, type=feature_rep)\n",
    "\n",
    "    # start random forest model\n",
    "    logging.info(\"Fitting Random Forest Model...\")\n",
    "    rfc = RandomForestClassifier(criterion = 'entropy', n_estimators=1000, random_state=42, max_depth=50, n_jobs=-1)\n",
    "    model_rfc=rfc.fit(X_train, y_train)\n",
    "\n",
    "    # get prediction\n",
    "    prediction=get_label_prediction(model_rfc, X_test)\n",
    "    \n",
    "    # turn predicted items and ground truths into a list\n",
    "    eval_items=collect_predictions(y_test, prediction)\n",
    "    \n",
    "    # collect all accuracies\n",
    "    logging.info(\"Starting evaluation...\")\n",
    "    accuracy=compute_accuracy(eval_items)\n",
    "    \n",
    "    logging.info(\"Done training and evaluation.\")\n",
    "    \n",
    "    return model_rfc, feature_transformer, accuracy"
   ]
  },
  {
   "cell_type": "code",
   "execution_count": 44,
   "metadata": {},
   "outputs": [
    {
     "name": "stderr",
     "output_type": "stream",
     "text": [
      "2020-05-12 16:55:21,748 : INFO : Initiating...\n",
      "2020-05-12 16:55:21,749 : INFO : Extracting features and vectorizing...\n",
      "2020-05-12 16:55:34,188 : INFO : Fitting Logistical Regression Model...\n",
      "2020-05-12 16:55:35,389 : INFO : Starting evaluation...\n",
      "2020-05-12 16:55:35,391 : INFO : Done training and evaluation.\n"
     ]
    },
    {
     "name": "stdout",
     "output_type": "stream",
     "text": [
      "\n",
      "Accuracy=0.9216530348687043\n"
     ]
    }
   ],
   "source": [
    "#Training Logistic regression model using tfidf vectorizer\n",
    "model_tfidf_lr, transformer_tfidf_lr, accuracy_tfidf_lr=train_model_lr(df, 'content', 'tfidf')\n",
    "print(\"\\nAccuracy= {}\".format(accuracy_tfidf_lr))"
   ]
  },
  {
   "cell_type": "code",
   "execution_count": 53,
   "metadata": {},
   "outputs": [
    {
     "name": "stderr",
     "output_type": "stream",
     "text": [
      "2020-05-10 03:57:39,240 : INFO : Initiating...\n",
      "2020-05-10 03:57:39,240 : INFO : Extracting features and vectorizing...\n",
      "2020-05-10 03:57:51,447 : INFO : Fitting Logistical Regression Model...\n",
      "2020-05-10 04:00:46,432 : INFO : Starting evaluation...\n",
      "2020-05-10 04:00:46,434 : INFO : Done training and evaluation.\n"
     ]
    },
    {
     "name": "stdout",
     "output_type": "stream",
     "text": [
      "\n",
      "Accuracy=0.916630793514134\n"
     ]
    }
   ],
   "source": [
    "#Training Logistic regression model using counts vectorizer\n",
    "model_counts_lr, transformer_counts_lr, accuracy_counts_lr=train_model_lr(df, 'content', 'counts')\n",
    "print(\"\\nAccuracy={}\".format(accuracy_counts_lr))"
   ]
  },
  {
   "cell_type": "code",
   "execution_count": 55,
   "metadata": {},
   "outputs": [
    {
     "name": "stderr",
     "output_type": "stream",
     "text": [
      "2020-05-10 04:03:50,128 : INFO : Initiating...\n",
      "2020-05-10 04:03:50,128 : INFO : Extracting features and vectorizing...\n",
      "2020-05-10 04:04:02,652 : INFO : Fitting Naive Bayes Model...\n",
      "2020-05-10 04:04:02,727 : INFO : Starting evaluation...\n",
      "2020-05-10 04:04:02,729 : INFO : Done training and evaluation.\n"
     ]
    },
    {
     "name": "stdout",
     "output_type": "stream",
     "text": [
      "\n",
      "Accuracy=0.8388577988233606\n"
     ]
    }
   ],
   "source": [
    "#Training Naive Bayes model using tfidf vectorizer\n",
    "model_tfidf_nb, transformer_tfidf_nb, accuracy_tfidf_nb=train_model_nb(df, 'content', 'tfidf')\n",
    "print(\"\\nAccuracy={0}\".format(accuracy_tfidf_nb))"
   ]
  },
  {
   "cell_type": "code",
   "execution_count": 56,
   "metadata": {},
   "outputs": [
    {
     "name": "stderr",
     "output_type": "stream",
     "text": [
      "2020-05-10 04:04:02,739 : INFO : Initiating...\n",
      "2020-05-10 04:04:02,739 : INFO : Extracting features and vectorizing...\n",
      "2020-05-10 04:04:15,052 : INFO : Fitting Naive Bayes Model...\n",
      "2020-05-10 04:04:15,112 : INFO : Starting evaluation...\n",
      "2020-05-10 04:04:15,115 : INFO : Done training and evaluation.\n"
     ]
    },
    {
     "name": "stdout",
     "output_type": "stream",
     "text": [
      "\n",
      "Accuracy=0.8379968431625772\n"
     ]
    }
   ],
   "source": [
    "#Training Naive Bayes model using counts vectorizer\n",
    "model_counts_nb, transformer_counts_nb, accuracy_counts_nb=train_model_nb(df, 'content', 'counts')\n",
    "print(\"\\nAccuracy={0}\".format(accuracy_counts_nb))"
   ]
  },
  {
   "cell_type": "code",
   "execution_count": 57,
   "metadata": {},
   "outputs": [
    {
     "name": "stderr",
     "output_type": "stream",
     "text": [
      "2020-05-10 04:04:15,125 : INFO : Initiating...\n",
      "2020-05-10 04:04:15,125 : INFO : Extracting features and vectorizing...\n",
      "2020-05-10 04:04:27,435 : INFO : Fitting XGBClassifier Model...\n",
      "2020-05-10 04:04:44,939 : INFO : Starting evaluation...\n",
      "2020-05-10 04:04:44,944 : INFO : Done training and evaluation.\n"
     ]
    },
    {
     "name": "stdout",
     "output_type": "stream",
     "text": [
      "\n",
      "Accuracy=0.9403070741856795\n"
     ]
    }
   ],
   "source": [
    "#Training XGB model using tfidf vectorizer\n",
    "model_tfidf_XGB, transformer_tfidf_XGB, accuracy_tfidf_XGB=train_model_xgb(df, 'content', 'tfidf')\n",
    "print(\"\\nAccuracy={0}\".format(accuracy_tfidf_XGB))"
   ]
  },
  {
   "cell_type": "code",
   "execution_count": 48,
   "metadata": {},
   "outputs": [
    {
     "name": "stderr",
     "output_type": "stream",
     "text": [
      "2020-05-12 18:12:27,037 : INFO : Initiating...\n",
      "2020-05-12 18:12:27,038 : INFO : Extracting features and vectorizing...\n",
      "2020-05-12 18:12:39,113 : INFO : Fitting XGBClassifier Model...\n",
      "2020-05-12 18:12:47,170 : INFO : Starting evaluation...\n",
      "2020-05-12 18:12:47,175 : INFO : Done training and evaluation.\n"
     ]
    },
    {
     "name": "stdout",
     "output_type": "stream",
     "text": [
      "\n",
      "Accuracy=0.9430334337781604\n"
     ]
    }
   ],
   "source": [
    "#Training XGB model using counts vectorizer\n",
    "model_counts_XGB, transformer_counts_XGB, accuracy_counts_XGB=train_model_xgb(df, 'content', 'counts')\n",
    "print(\"\\nAccuracy={0}\".format(accuracy_counts_XGB))"
   ]
  },
  {
   "cell_type": "code",
   "execution_count": 58,
   "metadata": {},
   "outputs": [
    {
     "name": "stderr",
     "output_type": "stream",
     "text": [
      "2020-05-13 14:07:52,332 : INFO : Initiating...\n",
      "2020-05-13 14:07:52,332 : INFO : Extracting features and vectorizing...\n",
      "2020-05-13 14:08:04,871 : INFO : Fitting Random Forest Model...\n",
      "2020-05-13 14:09:08,714 : INFO : Starting evaluation...\n",
      "2020-05-13 14:09:08,716 : INFO : Done training and evaluation.\n"
     ]
    },
    {
     "name": "stdout",
     "output_type": "stream",
     "text": [
      "\n",
      "Accuracy=0.9025685177213374\n"
     ]
    }
   ],
   "source": [
    "#Training rfc model using tfidf vectorizer\n",
    "model_tfidf_rfc, transformer_tfidf_rfc, accuracy_tfidf_rfc=train_model_rf(df, 'content', 'tfidf')\n",
    "print(\"\\nAccuracy={0}\".format(accuracy_tfidf_rfc))"
   ]
  },
  {
   "cell_type": "code",
   "execution_count": 59,
   "metadata": {},
   "outputs": [
    {
     "name": "stderr",
     "output_type": "stream",
     "text": [
      "2020-05-13 14:09:08,976 : INFO : Initiating...\n",
      "2020-05-13 14:09:08,976 : INFO : Extracting features and vectorizing...\n",
      "2020-05-13 14:09:22,153 : INFO : Fitting Random Forest Model...\n",
      "2020-05-13 14:10:23,127 : INFO : Starting evaluation...\n",
      "2020-05-13 14:10:23,130 : INFO : Done training and evaluation.\n"
     ]
    },
    {
     "name": "stdout",
     "output_type": "stream",
     "text": [
      "\n",
      "Accuracy=0.8963983354857225\n"
     ]
    }
   ],
   "source": [
    "#Training rfc model using counts vectorizer\n",
    "model_counts_rfc, transformer_counts_rfc, accuracy_counts_rfc=train_model_rf(df, 'content', 'counts')\n",
    "print(\"\\nAccuracy={0}\".format(accuracy_counts_rfc))"
   ]
  },
  {
   "cell_type": "code",
   "execution_count": 59,
   "metadata": {},
   "outputs": [
    {
     "data": {
      "text/plain": [
       "[['real']]"
      ]
     },
     "execution_count": 59,
     "metadata": {},
     "output_type": "execute_result"
    }
   ],
   "source": [
    "\n",
    "test_features=transformer_tfidf_lr.transform([preprocess_text('''Donald Trump said Monday that US officials expect the number of coronavirus cases in the United States to \"spike\" around Easter Sunday, a reversal from his talk of opening much of the country by 12 April.\n",
    "A day after Speaker Nancy Pelosi called Mr Trump's early response to warnings the virus was headed to the United States \"deadly,\" the president called the California Democrat a \"sick puppy.\"\n",
    "\n",
    "\"She's got a lot of problems, in my opinion,\" he said without providing details of those alleged issues. \"There's something wrong with the woman.\"\n",
    "\n",
    "The president then slammed San Francisco, where Ms Pelosi lives, calling it a \"slum\" and saying the federal government might take control of the region to address its alleged problems.\n",
    "\n",
    "Trump calls Pelosi a 'sick puppy' for attacking him\n",
    "The president appeared in full campaign mode as he cannot hold his signature rallies, contending \"Sleepy Joe wouldn't even know what was going on.\" That was a dig at former Vice President Joe Biden, the presumptive Democratic presidential nominee whom Mr Trump contends is mentally feeble.\n",
    "\n",
    "The \"Fox & Friends\" co-hosts were in campaign mode, as well, asking Mr Trump about high approval ratings for New York Governor Andrew Cuomo over his handling of the virus outbreak there. The president responded that Mr Cuomo has only been able to respond to the outbreak in the manner he has because of federal help that he green-lit. He also said he would \"love\" to run against the New York governor in a presidential general election.\n",
    "\n",
    "In yet another stunning moment of his term, Mr Trump appeared to claim the United States should have a more confrontational relationship with Germany and a closer one with Russia because the then-Soviet Union lost \"50 million people\" fighting on the side of the United States – against then-Nazi Germany. \"No one talks about that,\" he said, leaving out the US-Soviet Cold War that followed that world war.\n",
    "\n",
    "He told the conservative news network's morning show he would be speaking to Russian President Vladimir Putin following the \"Fox & Friends\" interview. Mr Trump has been criticised for at times appearing to carry out Mr Putin's whims, even though his administration has put sanctions on Russians over its 2016 election meddling.''')])\n",
    "get_label_prediction(model_tfidf_lr,test_features)"
   ]
  },
  {
   "cell_type": "code",
   "execution_count": 60,
   "metadata": {},
   "outputs": [
    {
     "data": {
      "text/plain": [
       "[['fake']]"
      ]
     },
     "execution_count": 60,
     "metadata": {},
     "output_type": "execute_result"
    }
   ],
   "source": [
    "test_features=transformer_counts_lr.transform([preprocess_text('''Writing in the Mail today, he warmed up by blasting Wonder Woman star Gal Gadot for her much-criticised, \"tone deaf\" version of Imagine that was supposed to lift people's spirits but left many cringing.\n",
    "\n",
    "But he soon moved on to weightier targets, saying 47-year-old Idris had a place on his \"idiot\" list despite having contracted coronavirus himself - because he exposed the fact that A-listers were getting tested while NHS staff couldn't.\n",
    "\n",
    "Piers later attacked High School Musical's Vanessa Hudgens, who called the virus a \"bunch of bulls**t\", saying she was in \"urgent need of shutting the f*** up\".\n",
    "\n",
    "His ire then turned on singer Sam Smith, who earned a place on Piers' list thanks to a series of pictures they shared of a \"meltdown\" in self-isolation .''')])\n",
    "get_label_prediction(model_counts_lr,test_features)"
   ]
  },
  {
   "cell_type": "code",
   "execution_count": 61,
   "metadata": {},
   "outputs": [],
   "source": [
    "import pickle\n",
    "from sklearn.preprocessing import FunctionTransformer\n",
    "model_path=\"C:\\\\Users\\\\Eli\\\\Documents\\\\GitHub\\\\fake-news-detection\\\\models\\\\model_tfidf_nb.pkl\"\n",
    "transformer_path=\"C:\\\\Users\\\\Eli\\\\Documents\\\\GitHub\\\\fake-news-detection\\\\models\\\\transformer_tfidf_nb.pkl\"\n",
    "\n",
    "# store both the transformer to encode a piece of text and the model itself to make predictions \n",
    "pickle.dump(model_tfidf_lr,open(model_path, 'wb'))\n",
    "pickle.dump(transformer_tfidf_lr,open(transformer_path,'wb'))"
   ]
  },
  {
   "cell_type": "code",
   "execution_count": 62,
   "metadata": {},
   "outputs": [
    {
     "data": {
      "text/plain": [
       "[['real']]"
      ]
     },
     "execution_count": 62,
     "metadata": {},
     "output_type": "execute_result"
    }
   ],
   "source": [
    "# test that the model pickled successfully\n",
    "loaded_model = pickle.load(open('C:\\\\Users\\\\Eli\\\\Documents\\\\GitHub\\\\fake-news-detection\\\\models\\\\model_tfidf_nb.pkl', 'rb'))\n",
    "loaded_transformer = pickle.load(open('C:\\\\Users\\\\Eli\\\\Documents\\\\GitHub\\\\fake-news-detection\\\\models\\\\transformer_tfidf_nb.pkl', 'rb'))\n",
    "\n",
    "test_features=loaded_transformer.transform([\"President Trump AND THE impeachment story !!!\"])\n",
    "get_label_prediction(loaded_model,test_features)"
   ]
  },
  {
   "cell_type": "code",
   "execution_count": 63,
   "metadata": {},
   "outputs": [
    {
     "name": "stdout",
     "output_type": "stream",
     "text": [
      "LogisticRegression(C=5, class_weight=None, dual=False, fit_intercept=True,\n",
      "                   intercept_scaling=1, l1_ratio=None, max_iter=5000,\n",
      "                   multi_class='auto', n_jobs=None, penalty='l2',\n",
      "                   random_state=42, solver='saga', tol=0.0001, verbose=0,\n",
      "                   warm_start=False)\n"
     ]
    }
   ],
   "source": [
    "print(loaded_model)"
   ]
  }
 ],
 "metadata": {
  "kernelspec": {
   "display_name": "Python 3.7.6 64-bit ('base': conda)",
   "language": "python",
   "name": "python37664bitbasecondad7e1c8a1a4144f60ae6d1eeb25c035c1"
  },
  "language_info": {
   "codemirror_mode": {
    "name": "ipython",
    "version": 3
   },
   "file_extension": ".py",
   "mimetype": "text/x-python",
   "name": "python",
   "nbconvert_exporter": "python",
   "pygments_lexer": "ipython3",
   "version": "3.7.6"
  }
 },
 "nbformat": 4,
 "nbformat_minor": 4
}
