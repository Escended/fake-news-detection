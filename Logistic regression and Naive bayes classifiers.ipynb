{
 "nbformat": 4,
 "nbformat_minor": 2,
 "metadata": {
  "language_info": {
   "name": "python",
   "codemirror_mode": {
    "name": "ipython",
    "version": 3
   },
   "version": "3.5.6-final"
  },
  "orig_nbformat": 2,
  "file_extension": ".py",
  "mimetype": "text/x-python",
  "name": "python",
  "npconvert_exporter": "python",
  "pygments_lexer": "ipython3",
  "version": 3,
  "kernelspec": {
   "name": "python35664bitmlcondaefee471b886e48b39ca448e167f3ceeb",
   "display_name": "Python 3.5.6 64-bit ('ML': conda)"
  }
 },
 "cells": [
  {
   "cell_type": "code",
   "execution_count": 42,
   "metadata": {},
   "outputs": [],
   "source": [
    "import pandas as pd\n",
    "import numpy as np\n",
    "import matplotlib.pyplot as plt\n",
    "%matplotlib inline\n",
    "from collections import Counter\n",
    "import nltk\n",
    "from wordcloud import WordCloud\n",
    "from sklearn.feature_extraction.text import TfidfVectorizer\n",
    "from sklearn.model_selection import train_test_split\n",
    "from sklearn.metrics import f1_score, accuracy_score, recall_score, precision_score"
   ]
  },
  {
   "cell_type": "code",
   "execution_count": 50,
   "metadata": {},
   "outputs": [
    {
     "output_type": "execute_result",
     "data": {
      "text/plain": "       Unnamed: 0                                              title  \\\n0               0    muslim bust they steal million in gov t benefit   \n1               1  re why do attorney general loretta lynch plead...   \n2               2  break weiner cooperate with fbi on hillary ema...   \n3               3  pin drop speech by father of daughter kidnap a...   \n4               4  fantastic trump s point plan to reform healthc...   \n...           ...                                                ...   \n27980       28706  An eavesdropping Uber driver saved his 16-year...   \n27981       28707  Plane carrying six people returning from a Cav...   \n27982       28708  After helping a fraction of homeowners expecte...   \n27983       28709  Yes, this is real: Michigan just banned bannin...   \n27984       28710  What happened in Washington state after voters...   \n\n                                                 content      publication  \\\n0      print they should pay all the back all the mon...  100percentfedup   \n1      why do attorney general loretta lynch plead th...  100percentfedup   \n2      red state fox news sunday report this morning ...  100percentfedup   \n3      email kayla mueller be a prisoner and torture ...  100percentfedup   \n4      email healthcare reform to make america great ...  100percentfedup   \n...                                                  ...              ...   \n27980           Uber driver Keith Avila picked up a p...  Washington Post   \n27981           Crews on Friday continued to search L...  Washington Post   \n27982       When the Obama administration announced a...  Washington Post   \n27983       This story has been updated. A new law in...  Washington Post   \n27984       The nation’s first recreational marijuana...  Washington Post   \n\n      label  \n0      fake  \n1      fake  \n2      fake  \n3      fake  \n4      fake  \n...     ...  \n27980  real  \n27981  real  \n27982  real  \n27983  real  \n27984  real  \n\n[27985 rows x 5 columns]",
      "text/html": "<div>\n<style scoped>\n    .dataframe tbody tr th:only-of-type {\n        vertical-align: middle;\n    }\n\n    .dataframe tbody tr th {\n        vertical-align: top;\n    }\n\n    .dataframe thead th {\n        text-align: right;\n    }\n</style>\n<table border=\"1\" class=\"dataframe\">\n  <thead>\n    <tr style=\"text-align: right;\">\n      <th></th>\n      <th>Unnamed: 0</th>\n      <th>title</th>\n      <th>content</th>\n      <th>publication</th>\n      <th>label</th>\n    </tr>\n  </thead>\n  <tbody>\n    <tr>\n      <th>0</th>\n      <td>0</td>\n      <td>muslim bust they steal million in gov t benefit</td>\n      <td>print they should pay all the back all the mon...</td>\n      <td>100percentfedup</td>\n      <td>fake</td>\n    </tr>\n    <tr>\n      <th>1</th>\n      <td>1</td>\n      <td>re why do attorney general loretta lynch plead...</td>\n      <td>why do attorney general loretta lynch plead th...</td>\n      <td>100percentfedup</td>\n      <td>fake</td>\n    </tr>\n    <tr>\n      <th>2</th>\n      <td>2</td>\n      <td>break weiner cooperate with fbi on hillary ema...</td>\n      <td>red state fox news sunday report this morning ...</td>\n      <td>100percentfedup</td>\n      <td>fake</td>\n    </tr>\n    <tr>\n      <th>3</th>\n      <td>3</td>\n      <td>pin drop speech by father of daughter kidnap a...</td>\n      <td>email kayla mueller be a prisoner and torture ...</td>\n      <td>100percentfedup</td>\n      <td>fake</td>\n    </tr>\n    <tr>\n      <th>4</th>\n      <td>4</td>\n      <td>fantastic trump s point plan to reform healthc...</td>\n      <td>email healthcare reform to make america great ...</td>\n      <td>100percentfedup</td>\n      <td>fake</td>\n    </tr>\n    <tr>\n      <th>...</th>\n      <td>...</td>\n      <td>...</td>\n      <td>...</td>\n      <td>...</td>\n      <td>...</td>\n    </tr>\n    <tr>\n      <th>27980</th>\n      <td>28706</td>\n      <td>An eavesdropping Uber driver saved his 16-year...</td>\n      <td>Uber driver Keith Avila picked up a p...</td>\n      <td>Washington Post</td>\n      <td>real</td>\n    </tr>\n    <tr>\n      <th>27981</th>\n      <td>28707</td>\n      <td>Plane carrying six people returning from a Cav...</td>\n      <td>Crews on Friday continued to search L...</td>\n      <td>Washington Post</td>\n      <td>real</td>\n    </tr>\n    <tr>\n      <th>27982</th>\n      <td>28708</td>\n      <td>After helping a fraction of homeowners expecte...</td>\n      <td>When the Obama administration announced a...</td>\n      <td>Washington Post</td>\n      <td>real</td>\n    </tr>\n    <tr>\n      <th>27983</th>\n      <td>28709</td>\n      <td>Yes, this is real: Michigan just banned bannin...</td>\n      <td>This story has been updated. A new law in...</td>\n      <td>Washington Post</td>\n      <td>real</td>\n    </tr>\n    <tr>\n      <th>27984</th>\n      <td>28710</td>\n      <td>What happened in Washington state after voters...</td>\n      <td>The nation’s first recreational marijuana...</td>\n      <td>Washington Post</td>\n      <td>real</td>\n    </tr>\n  </tbody>\n</table>\n<p>27985 rows × 5 columns</p>\n</div>"
     },
     "metadata": {},
     "execution_count": 50
    }
   ],
   "source": [
    "df = pd.read_csv(\"C:\\\\Users\\\\Eli\\\\Desktop\\\\news_dataset_processed.csv\")\n",
    "df"
   ]
  },
  {
   "cell_type": "code",
   "execution_count": 93,
   "metadata": {},
   "outputs": [
    {
     "output_type": "execute_result",
     "data": {
      "text/plain": "                                               title  \\\n0    muslim bust they steal million in gov t benefit   \n1  re why do attorney general loretta lynch plead...   \n2  break weiner cooperate with fbi on hillary ema...   \n3  pin drop speech by father of daughter kidnap a...   \n4  fantastic trump s point plan to reform healthc...   \n\n                                             content      publication  label  \n0  print they should pay all the back all the mon...  100percentfedup      1  \n1  why do attorney general loretta lynch plead th...  100percentfedup      1  \n2  red state fox news sunday report this morning ...  100percentfedup      1  \n3  email kayla mueller be a prisoner and torture ...  100percentfedup      1  \n4  email healthcare reform to make america great ...  100percentfedup      1  ",
      "text/html": "<div>\n<style scoped>\n    .dataframe tbody tr th:only-of-type {\n        vertical-align: middle;\n    }\n\n    .dataframe tbody tr th {\n        vertical-align: top;\n    }\n\n    .dataframe thead th {\n        text-align: right;\n    }\n</style>\n<table border=\"1\" class=\"dataframe\">\n  <thead>\n    <tr style=\"text-align: right;\">\n      <th></th>\n      <th>title</th>\n      <th>content</th>\n      <th>publication</th>\n      <th>label</th>\n    </tr>\n  </thead>\n  <tbody>\n    <tr>\n      <th>0</th>\n      <td>muslim bust they steal million in gov t benefit</td>\n      <td>print they should pay all the back all the mon...</td>\n      <td>100percentfedup</td>\n      <td>1</td>\n    </tr>\n    <tr>\n      <th>1</th>\n      <td>re why do attorney general loretta lynch plead...</td>\n      <td>why do attorney general loretta lynch plead th...</td>\n      <td>100percentfedup</td>\n      <td>1</td>\n    </tr>\n    <tr>\n      <th>2</th>\n      <td>break weiner cooperate with fbi on hillary ema...</td>\n      <td>red state fox news sunday report this morning ...</td>\n      <td>100percentfedup</td>\n      <td>1</td>\n    </tr>\n    <tr>\n      <th>3</th>\n      <td>pin drop speech by father of daughter kidnap a...</td>\n      <td>email kayla mueller be a prisoner and torture ...</td>\n      <td>100percentfedup</td>\n      <td>1</td>\n    </tr>\n    <tr>\n      <th>4</th>\n      <td>fantastic trump s point plan to reform healthc...</td>\n      <td>email healthcare reform to make america great ...</td>\n      <td>100percentfedup</td>\n      <td>1</td>\n    </tr>\n  </tbody>\n</table>\n</div>"
     },
     "metadata": {},
     "execution_count": 93
    }
   ],
   "source": [
    "df.head()"
   ]
  },
  {
   "cell_type": "code",
   "execution_count": 51,
   "metadata": {},
   "outputs": [],
   "source": [
    "#drop NaN values\n",
    "df = df.dropna()\n",
    "#drop 'Unnamed' column which was pre-existing id\n",
    "df = df.drop(df.columns[df.columns.str.contains('unnamed',case = False)],axis = 1, inplace = False)"
   ]
  },
  {
   "cell_type": "code",
   "execution_count": 52,
   "metadata": {},
   "outputs": [
    {
     "output_type": "execute_result",
     "data": {
      "text/plain": "                                                   title  \\\n0        muslim bust they steal million in gov t benefit   \n1      re why do attorney general loretta lynch plead...   \n2      break weiner cooperate with fbi on hillary ema...   \n3      pin drop speech by father of daughter kidnap a...   \n4      fantastic trump s point plan to reform healthc...   \n...                                                  ...   \n27980  An eavesdropping Uber driver saved his 16-year...   \n27981  Plane carrying six people returning from a Cav...   \n27982  After helping a fraction of homeowners expecte...   \n27983  Yes, this is real: Michigan just banned bannin...   \n27984  What happened in Washington state after voters...   \n\n                                                 content      publication  \\\n0      print they should pay all the back all the mon...  100percentfedup   \n1      why do attorney general loretta lynch plead th...  100percentfedup   \n2      red state fox news sunday report this morning ...  100percentfedup   \n3      email kayla mueller be a prisoner and torture ...  100percentfedup   \n4      email healthcare reform to make america great ...  100percentfedup   \n...                                                  ...              ...   \n27980           Uber driver Keith Avila picked up a p...  Washington Post   \n27981           Crews on Friday continued to search L...  Washington Post   \n27982       When the Obama administration announced a...  Washington Post   \n27983       This story has been updated. A new law in...  Washington Post   \n27984       The nation’s first recreational marijuana...  Washington Post   \n\n      label  \n0      fake  \n1      fake  \n2      fake  \n3      fake  \n4      fake  \n...     ...  \n27980  real  \n27981  real  \n27982  real  \n27983  real  \n27984  real  \n\n[27984 rows x 4 columns]",
      "text/html": "<div>\n<style scoped>\n    .dataframe tbody tr th:only-of-type {\n        vertical-align: middle;\n    }\n\n    .dataframe tbody tr th {\n        vertical-align: top;\n    }\n\n    .dataframe thead th {\n        text-align: right;\n    }\n</style>\n<table border=\"1\" class=\"dataframe\">\n  <thead>\n    <tr style=\"text-align: right;\">\n      <th></th>\n      <th>title</th>\n      <th>content</th>\n      <th>publication</th>\n      <th>label</th>\n    </tr>\n  </thead>\n  <tbody>\n    <tr>\n      <th>0</th>\n      <td>muslim bust they steal million in gov t benefit</td>\n      <td>print they should pay all the back all the mon...</td>\n      <td>100percentfedup</td>\n      <td>fake</td>\n    </tr>\n    <tr>\n      <th>1</th>\n      <td>re why do attorney general loretta lynch plead...</td>\n      <td>why do attorney general loretta lynch plead th...</td>\n      <td>100percentfedup</td>\n      <td>fake</td>\n    </tr>\n    <tr>\n      <th>2</th>\n      <td>break weiner cooperate with fbi on hillary ema...</td>\n      <td>red state fox news sunday report this morning ...</td>\n      <td>100percentfedup</td>\n      <td>fake</td>\n    </tr>\n    <tr>\n      <th>3</th>\n      <td>pin drop speech by father of daughter kidnap a...</td>\n      <td>email kayla mueller be a prisoner and torture ...</td>\n      <td>100percentfedup</td>\n      <td>fake</td>\n    </tr>\n    <tr>\n      <th>4</th>\n      <td>fantastic trump s point plan to reform healthc...</td>\n      <td>email healthcare reform to make america great ...</td>\n      <td>100percentfedup</td>\n      <td>fake</td>\n    </tr>\n    <tr>\n      <th>...</th>\n      <td>...</td>\n      <td>...</td>\n      <td>...</td>\n      <td>...</td>\n    </tr>\n    <tr>\n      <th>27980</th>\n      <td>An eavesdropping Uber driver saved his 16-year...</td>\n      <td>Uber driver Keith Avila picked up a p...</td>\n      <td>Washington Post</td>\n      <td>real</td>\n    </tr>\n    <tr>\n      <th>27981</th>\n      <td>Plane carrying six people returning from a Cav...</td>\n      <td>Crews on Friday continued to search L...</td>\n      <td>Washington Post</td>\n      <td>real</td>\n    </tr>\n    <tr>\n      <th>27982</th>\n      <td>After helping a fraction of homeowners expecte...</td>\n      <td>When the Obama administration announced a...</td>\n      <td>Washington Post</td>\n      <td>real</td>\n    </tr>\n    <tr>\n      <th>27983</th>\n      <td>Yes, this is real: Michigan just banned bannin...</td>\n      <td>This story has been updated. A new law in...</td>\n      <td>Washington Post</td>\n      <td>real</td>\n    </tr>\n    <tr>\n      <th>27984</th>\n      <td>What happened in Washington state after voters...</td>\n      <td>The nation’s first recreational marijuana...</td>\n      <td>Washington Post</td>\n      <td>real</td>\n    </tr>\n  </tbody>\n</table>\n<p>27984 rows × 4 columns</p>\n</div>"
     },
     "metadata": {},
     "execution_count": 52
    }
   ],
   "source": [
    "df"
   ]
  },
  {
   "cell_type": "code",
   "execution_count": 62,
   "metadata": {},
   "outputs": [
    {
     "output_type": "execute_result",
     "data": {
      "text/plain": "                                                   title  \\\n0        muslim bust they steal million in gov t benefit   \n1      re why do attorney general loretta lynch plead...   \n2      break weiner cooperate with fbi on hillary ema...   \n3      pin drop speech by father of daughter kidnap a...   \n4      fantastic trump s point plan to reform healthc...   \n...                                                  ...   \n27980  An eavesdropping Uber driver saved his 16-year...   \n27981  Plane carrying six people returning from a Cav...   \n27982  After helping a fraction of homeowners expecte...   \n27983  Yes, this is real: Michigan just banned bannin...   \n27984  What happened in Washington state after voters...   \n\n                                                 content      publication  \\\n0      print they should pay all the back all the mon...  100percentfedup   \n1      why do attorney general loretta lynch plead th...  100percentfedup   \n2      red state fox news sunday report this morning ...  100percentfedup   \n3      email kayla mueller be a prisoner and torture ...  100percentfedup   \n4      email healthcare reform to make america great ...  100percentfedup   \n...                                                  ...              ...   \n27980           Uber driver Keith Avila picked up a p...  Washington Post   \n27981           Crews on Friday continued to search L...  Washington Post   \n27982       When the Obama administration announced a...  Washington Post   \n27983       This story has been updated. A new law in...  Washington Post   \n27984       The nation’s first recreational marijuana...  Washington Post   \n\n       label  \n0          1  \n1          1  \n2          1  \n3          1  \n4          1  \n...      ...  \n27980      0  \n27981      0  \n27982      0  \n27983      0  \n27984      0  \n\n[27984 rows x 4 columns]",
      "text/html": "<div>\n<style scoped>\n    .dataframe tbody tr th:only-of-type {\n        vertical-align: middle;\n    }\n\n    .dataframe tbody tr th {\n        vertical-align: top;\n    }\n\n    .dataframe thead th {\n        text-align: right;\n    }\n</style>\n<table border=\"1\" class=\"dataframe\">\n  <thead>\n    <tr style=\"text-align: right;\">\n      <th></th>\n      <th>title</th>\n      <th>content</th>\n      <th>publication</th>\n      <th>label</th>\n    </tr>\n  </thead>\n  <tbody>\n    <tr>\n      <th>0</th>\n      <td>muslim bust they steal million in gov t benefit</td>\n      <td>print they should pay all the back all the mon...</td>\n      <td>100percentfedup</td>\n      <td>1</td>\n    </tr>\n    <tr>\n      <th>1</th>\n      <td>re why do attorney general loretta lynch plead...</td>\n      <td>why do attorney general loretta lynch plead th...</td>\n      <td>100percentfedup</td>\n      <td>1</td>\n    </tr>\n    <tr>\n      <th>2</th>\n      <td>break weiner cooperate with fbi on hillary ema...</td>\n      <td>red state fox news sunday report this morning ...</td>\n      <td>100percentfedup</td>\n      <td>1</td>\n    </tr>\n    <tr>\n      <th>3</th>\n      <td>pin drop speech by father of daughter kidnap a...</td>\n      <td>email kayla mueller be a prisoner and torture ...</td>\n      <td>100percentfedup</td>\n      <td>1</td>\n    </tr>\n    <tr>\n      <th>4</th>\n      <td>fantastic trump s point plan to reform healthc...</td>\n      <td>email healthcare reform to make america great ...</td>\n      <td>100percentfedup</td>\n      <td>1</td>\n    </tr>\n    <tr>\n      <th>...</th>\n      <td>...</td>\n      <td>...</td>\n      <td>...</td>\n      <td>...</td>\n    </tr>\n    <tr>\n      <th>27980</th>\n      <td>An eavesdropping Uber driver saved his 16-year...</td>\n      <td>Uber driver Keith Avila picked up a p...</td>\n      <td>Washington Post</td>\n      <td>0</td>\n    </tr>\n    <tr>\n      <th>27981</th>\n      <td>Plane carrying six people returning from a Cav...</td>\n      <td>Crews on Friday continued to search L...</td>\n      <td>Washington Post</td>\n      <td>0</td>\n    </tr>\n    <tr>\n      <th>27982</th>\n      <td>After helping a fraction of homeowners expecte...</td>\n      <td>When the Obama administration announced a...</td>\n      <td>Washington Post</td>\n      <td>0</td>\n    </tr>\n    <tr>\n      <th>27983</th>\n      <td>Yes, this is real: Michigan just banned bannin...</td>\n      <td>This story has been updated. A new law in...</td>\n      <td>Washington Post</td>\n      <td>0</td>\n    </tr>\n    <tr>\n      <th>27984</th>\n      <td>What happened in Washington state after voters...</td>\n      <td>The nation’s first recreational marijuana...</td>\n      <td>Washington Post</td>\n      <td>0</td>\n    </tr>\n  </tbody>\n</table>\n<p>27984 rows × 4 columns</p>\n</div>"
     },
     "metadata": {},
     "execution_count": 62
    }
   ],
   "source": [
    "#change labels to numeric values fake = 1, real = 0\n",
    "df['label'] = df['label'].map({'fake': 1, 'real': 0})\n",
    "\n",
    "df"
   ]
  },
  {
   "cell_type": "code",
   "execution_count": 67,
   "metadata": {},
   "outputs": [],
   "source": [
    "X_content_text = df['content'].values\n",
    "X_title_text = df['title'].values\n",
    "y = df['label'].values\n",
    ""
   ]
  },
  {
   "cell_type": "code",
   "execution_count": 68,
   "metadata": {},
   "outputs": [],
   "source": [
    "tfidf = TfidfVectorizer(ngram_range=(1,2), max_df= 0.85, min_df= 0.01)"
   ]
  },
  {
   "cell_type": "code",
   "execution_count": 69,
   "metadata": {},
   "outputs": [],
   "source": [
    "X_content_tfidf = tfidf.fit_transform(X_content_text)\n",
    "X_title_tfidf = tfidf.fit_transform(X_title_text)"
   ]
  },
  {
   "cell_type": "code",
   "execution_count": 70,
   "metadata": {},
   "outputs": [],
   "source": [
    "indices = df.index.values"
   ]
  },
  {
   "cell_type": "code",
   "execution_count": 71,
   "metadata": {},
   "outputs": [],
   "source": [
    "X_content_tfidf_train, X_content_tfidf_test, y_content_train, y_content_test, indices_content_train, indices_content_test = train_test_split(X_content_tfidf, y, indices, test_size = 0.2, random_state = 51)"
   ]
  },
  {
   "cell_type": "code",
   "execution_count": 72,
   "metadata": {},
   "outputs": [
    {
     "output_type": "execute_result",
     "data": {
      "text/plain": "       title  content  publication\nlabel                             \n0      12588    12588        12588\n1       9799     9799         9799",
      "text/html": "<div>\n<style scoped>\n    .dataframe tbody tr th:only-of-type {\n        vertical-align: middle;\n    }\n\n    .dataframe tbody tr th {\n        vertical-align: top;\n    }\n\n    .dataframe thead th {\n        text-align: right;\n    }\n</style>\n<table border=\"1\" class=\"dataframe\">\n  <thead>\n    <tr style=\"text-align: right;\">\n      <th></th>\n      <th>title</th>\n      <th>content</th>\n      <th>publication</th>\n    </tr>\n    <tr>\n      <th>label</th>\n      <th></th>\n      <th></th>\n      <th></th>\n    </tr>\n  </thead>\n  <tbody>\n    <tr>\n      <th>0</th>\n      <td>12588</td>\n      <td>12588</td>\n      <td>12588</td>\n    </tr>\n    <tr>\n      <th>1</th>\n      <td>9799</td>\n      <td>9799</td>\n      <td>9799</td>\n    </tr>\n  </tbody>\n</table>\n</div>"
     },
     "metadata": {},
     "execution_count": 72
    }
   ],
   "source": [
    "df.loc[indices_content_train].groupby('label').agg('count')"
   ]
  },
  {
   "cell_type": "code",
   "execution_count": 73,
   "metadata": {},
   "outputs": [
    {
     "output_type": "execute_result",
     "data": {
      "text/plain": "       title  content  publication\nlabel                             \n0       3124     3124         3124\n1       2473     2473         2473",
      "text/html": "<div>\n<style scoped>\n    .dataframe tbody tr th:only-of-type {\n        vertical-align: middle;\n    }\n\n    .dataframe tbody tr th {\n        vertical-align: top;\n    }\n\n    .dataframe thead th {\n        text-align: right;\n    }\n</style>\n<table border=\"1\" class=\"dataframe\">\n  <thead>\n    <tr style=\"text-align: right;\">\n      <th></th>\n      <th>title</th>\n      <th>content</th>\n      <th>publication</th>\n    </tr>\n    <tr>\n      <th>label</th>\n      <th></th>\n      <th></th>\n      <th></th>\n    </tr>\n  </thead>\n  <tbody>\n    <tr>\n      <th>0</th>\n      <td>3124</td>\n      <td>3124</td>\n      <td>3124</td>\n    </tr>\n    <tr>\n      <th>1</th>\n      <td>2473</td>\n      <td>2473</td>\n      <td>2473</td>\n    </tr>\n  </tbody>\n</table>\n</div>"
     },
     "metadata": {},
     "execution_count": 73
    }
   ],
   "source": [
    "df.loc[indices_content_test].groupby('label').agg('count')"
   ]
  },
  {
   "cell_type": "code",
   "execution_count": 74,
   "metadata": {},
   "outputs": [],
   "source": [
    "from  sklearn.linear_model import LogisticRegression"
   ]
  },
  {
   "cell_type": "code",
   "execution_count": 81,
   "metadata": {},
   "outputs": [],
   "source": [
    "from sklearn.naive_bayes import MultinomialNB"
   ]
  },
  {
   "cell_type": "code",
   "execution_count": 82,
   "metadata": {},
   "outputs": [],
   "source": [
    "nb = MultinomialNB()"
   ]
  },
  {
   "cell_type": "code",
   "execution_count": 83,
   "metadata": {},
   "outputs": [
    {
     "output_type": "execute_result",
     "data": {
      "text/plain": "MultinomialNB(alpha=1.0, class_prior=None, fit_prior=True)"
     },
     "metadata": {},
     "execution_count": 83
    }
   ],
   "source": [
    "nb.fit(X_content_tfidf_train, y_content_train)"
   ]
  },
  {
   "cell_type": "code",
   "execution_count": 84,
   "metadata": {},
   "outputs": [],
   "source": [
    "y_content_train_pred_nb = nb.predict(X_content_tfidf_train)"
   ]
  },
  {
   "cell_type": "code",
   "execution_count": 86,
   "metadata": {},
   "outputs": [
    {
     "output_type": "stream",
     "name": "stdout",
     "text": "Naive Bayes In Sample F1 and Accuracy Scores:\nF1 score 87.42%\nAccuracy score 95.43%\n"
    }
   ],
   "source": [
    "print('Naive Bayes In Sample F1 and Accuracy Scores:')\n",
    "print('F1 score {:.4}%'.format(f1_score(y_content_train, y_content_train_pred_nb, average='macro')*100 ))\n",
    "print ('Accuracy score {:.4}%'.format(accuracy_score(y_content_train, y_content_train_pred)*100))"
   ]
  },
  {
   "cell_type": "code",
   "execution_count": 87,
   "metadata": {},
   "outputs": [],
   "source": [
    "\n",
    "y_content_pred_nb = nb.predict(X_content_tfidf_test)"
   ]
  },
  {
   "cell_type": "code",
   "execution_count": 90,
   "metadata": {},
   "outputs": [
    {
     "output_type": "stream",
     "name": "stdout",
     "text": "Naive Bayes In Sample F1 and Accuracy Scores:\nF1 score 86.02%\nAccuracy score 86.35%\n"
    }
   ],
   "source": [
    "# print metrics\n",
    "print('Naive Bayes In Sample F1 and Accuracy Scores:')\n",
    "print('F1 score {:.4}%'.format(f1_score(y_content_test, y_content_pred_nb, average='macro')*100 ))\n",
    "print ('Accuracy score {:.4}%'.format(accuracy_score(y_content_test, y_content_pred_nb)*100))"
   ]
  },
  {
   "cell_type": "code",
   "execution_count": 75,
   "metadata": {},
   "outputs": [],
   "source": [
    "lr = LogisticRegression()"
   ]
  },
  {
   "cell_type": "code",
   "execution_count": 76,
   "metadata": {},
   "outputs": [
    {
     "output_type": "execute_result",
     "data": {
      "text/plain": "LogisticRegression(C=1.0, class_weight=None, dual=False, fit_intercept=True,\n                   intercept_scaling=1, l1_ratio=None, max_iter=100,\n                   multi_class='auto', n_jobs=None, penalty='l2',\n                   random_state=None, solver='lbfgs', tol=0.0001, verbose=0,\n                   warm_start=False)"
     },
     "metadata": {},
     "execution_count": 76
    }
   ],
   "source": [
    "lr.fit(X_content_tfidf_train, y_content_train)"
   ]
  },
  {
   "cell_type": "code",
   "execution_count": 77,
   "metadata": {},
   "outputs": [],
   "source": [
    "y_content_train_pred = lr.predict(X_content_tfidf_train)"
   ]
  },
  {
   "cell_type": "code",
   "execution_count": 78,
   "metadata": {},
   "outputs": [
    {
     "output_type": "stream",
     "name": "stdout",
     "text": "Logistic Regression In Sample F1 and Accuracy Scores:\nF1 score 95.34%\nAccuracy score 95.43%\n"
    }
   ],
   "source": [
    "print('Logistic Regression In Sample F1 and Accuracy Scores:')\n",
    "print('F1 score {:.4}%'.format(f1_score(y_content_train, y_content_train_pred, average='macro')*100 ))\n",
    "print ('Accuracy score {:.4}%'.format(accuracy_score(y_content_train, y_content_train_pred)*100))"
   ]
  },
  {
   "cell_type": "code",
   "execution_count": 91,
   "metadata": {},
   "outputs": [],
   "source": [
    "y_content_pred_lr = lr.predict(X_content_tfidf_test)"
   ]
  },
  {
   "cell_type": "code",
   "execution_count": 92,
   "metadata": {},
   "outputs": [
    {
     "output_type": "stream",
     "name": "stdout",
     "text": "Logistic Regression In Sample F1 and Accuracy Scores:\nF1 score 93.62%\nAccuracy score 93.73%\n"
    }
   ],
   "source": [
    "print('Logistic Regression In Sample F1 and Accuracy Scores:')\n",
    "print('F1 score {:.4}%'.format(f1_score(y_content_test, y_content_pred_lr, average='macro')*100 ))\n",
    "print ('Accuracy score {:.4}%'.format(accuracy_score(y_content_test, y_content_pred_lr)*100))"
   ]
  },
  {
   "cell_type": "code",
   "execution_count": 79,
   "metadata": {},
   "outputs": [
    {
     "output_type": "execute_result",
     "data": {
      "text/plain": "(array([   23,    51,   132, ..., 22343, 22365, 22384], dtype=int64),)"
     },
     "metadata": {},
     "execution_count": 79
    }
   ],
   "source": [
    "np.where(y_content_train != y_content_train_pred)"
   ]
  },
  {
   "cell_type": "code",
   "execution_count": 80,
   "metadata": {},
   "outputs": [
    {
     "output_type": "execute_result",
     "data": {
      "text/plain": "                                                title  \\\n23  lol british wife of lib actor who say there wi...   \n51  episode sunday wire hail to the deplorables wi...   \n\n                                              content      publication  label  \n23  go to article political activist and hillary s...  100percentfedup      1  \n51  november by leave a comment episode of sunday ...  21stcenturywire      1  ",
      "text/html": "<div>\n<style scoped>\n    .dataframe tbody tr th:only-of-type {\n        vertical-align: middle;\n    }\n\n    .dataframe tbody tr th {\n        vertical-align: top;\n    }\n\n    .dataframe thead th {\n        text-align: right;\n    }\n</style>\n<table border=\"1\" class=\"dataframe\">\n  <thead>\n    <tr style=\"text-align: right;\">\n      <th></th>\n      <th>title</th>\n      <th>content</th>\n      <th>publication</th>\n      <th>label</th>\n    </tr>\n  </thead>\n  <tbody>\n    <tr>\n      <th>23</th>\n      <td>lol british wife of lib actor who say there wi...</td>\n      <td>go to article political activist and hillary s...</td>\n      <td>100percentfedup</td>\n      <td>1</td>\n    </tr>\n    <tr>\n      <th>51</th>\n      <td>episode sunday wire hail to the deplorables wi...</td>\n      <td>november by leave a comment episode of sunday ...</td>\n      <td>21stcenturywire</td>\n      <td>1</td>\n    </tr>\n  </tbody>\n</table>\n</div>"
     },
     "metadata": {},
     "execution_count": 80
    }
   ],
   "source": [
    "df.loc[[23, 51]]"
   ]
  },
  {
   "cell_type": "code",
   "execution_count": null,
   "metadata": {},
   "outputs": [],
   "source": [
    "#getting top words\n",
    "\n"
   ]
  }
 ]
}