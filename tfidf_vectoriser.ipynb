{
 "nbformat": 4,
 "nbformat_minor": 2,
 "metadata": {
  "language_info": {
   "name": "python",
   "codemirror_mode": {
    "name": "ipython",
    "version": 3
   },
   "version": "3.5.6-final"
  },
  "orig_nbformat": 2,
  "file_extension": ".py",
  "mimetype": "text/x-python",
  "name": "python",
  "npconvert_exporter": "python",
  "pygments_lexer": "ipython3",
  "version": 3,
  "kernelspec": {
   "name": "python35664bitmlcondaefee471b886e48b39ca448e167f3ceeb",
   "display_name": "Python 3.5.6 64-bit ('ML': conda)"
  }
 },
 "cells": [
  {
   "cell_type": "code",
   "execution_count": 105,
   "metadata": {},
   "outputs": [],
   "source": [
    "from sklearn.feature_extraction.text import CountVectorizer, TfidfTransformer, TfidfVectorizer\n",
    "import pandas as pd\n",
    "import numpy as np\n",
    "from nltk.corpus import stopwords\n",
    "stop_words = stopwords.words('english')"
   ]
  },
  {
   "cell_type": "code",
   "execution_count": 106,
   "metadata": {},
   "outputs": [
    {
     "output_type": "execute_result",
     "data": {
      "text/plain": "       Unnamed: 0                                              title  \\\n0               0    muslim bust they steal million in gov t benefit   \n1               1  re why do attorney general loretta lynch plead...   \n2               2  break weiner cooperate with fbi on hillary ema...   \n3               3  pin drop speech by father of daughter kidnap a...   \n4               4  fantastic trump s point plan to reform healthc...   \n...           ...                                                ...   \n27980       28706  An eavesdropping Uber driver saved his 16-year...   \n27981       28707  Plane carrying six people returning from a Cav...   \n27982       28708  After helping a fraction of homeowners expecte...   \n27983       28709  Yes, this is real: Michigan just banned bannin...   \n27984       28710  What happened in Washington state after voters...   \n\n                                                 content      publication  \\\n0      print they should pay all the back all the mon...  100percentfedup   \n1      why do attorney general loretta lynch plead th...  100percentfedup   \n2      red state fox news sunday report this morning ...  100percentfedup   \n3      email kayla mueller be a prisoner and torture ...  100percentfedup   \n4      email healthcare reform to make america great ...  100percentfedup   \n...                                                  ...              ...   \n27980           Uber driver Keith Avila picked up a p...  Washington Post   \n27981           Crews on Friday continued to search L...  Washington Post   \n27982       When the Obama administration announced a...  Washington Post   \n27983       This story has been updated. A new law in...  Washington Post   \n27984       The nation’s first recreational marijuana...  Washington Post   \n\n      label  \n0      fake  \n1      fake  \n2      fake  \n3      fake  \n4      fake  \n...     ...  \n27980  real  \n27981  real  \n27982  real  \n27983  real  \n27984  real  \n\n[27985 rows x 5 columns]",
      "text/html": "<div>\n<style scoped>\n    .dataframe tbody tr th:only-of-type {\n        vertical-align: middle;\n    }\n\n    .dataframe tbody tr th {\n        vertical-align: top;\n    }\n\n    .dataframe thead th {\n        text-align: right;\n    }\n</style>\n<table border=\"1\" class=\"dataframe\">\n  <thead>\n    <tr style=\"text-align: right;\">\n      <th></th>\n      <th>Unnamed: 0</th>\n      <th>title</th>\n      <th>content</th>\n      <th>publication</th>\n      <th>label</th>\n    </tr>\n  </thead>\n  <tbody>\n    <tr>\n      <th>0</th>\n      <td>0</td>\n      <td>muslim bust they steal million in gov t benefit</td>\n      <td>print they should pay all the back all the mon...</td>\n      <td>100percentfedup</td>\n      <td>fake</td>\n    </tr>\n    <tr>\n      <th>1</th>\n      <td>1</td>\n      <td>re why do attorney general loretta lynch plead...</td>\n      <td>why do attorney general loretta lynch plead th...</td>\n      <td>100percentfedup</td>\n      <td>fake</td>\n    </tr>\n    <tr>\n      <th>2</th>\n      <td>2</td>\n      <td>break weiner cooperate with fbi on hillary ema...</td>\n      <td>red state fox news sunday report this morning ...</td>\n      <td>100percentfedup</td>\n      <td>fake</td>\n    </tr>\n    <tr>\n      <th>3</th>\n      <td>3</td>\n      <td>pin drop speech by father of daughter kidnap a...</td>\n      <td>email kayla mueller be a prisoner and torture ...</td>\n      <td>100percentfedup</td>\n      <td>fake</td>\n    </tr>\n    <tr>\n      <th>4</th>\n      <td>4</td>\n      <td>fantastic trump s point plan to reform healthc...</td>\n      <td>email healthcare reform to make america great ...</td>\n      <td>100percentfedup</td>\n      <td>fake</td>\n    </tr>\n    <tr>\n      <th>...</th>\n      <td>...</td>\n      <td>...</td>\n      <td>...</td>\n      <td>...</td>\n      <td>...</td>\n    </tr>\n    <tr>\n      <th>27980</th>\n      <td>28706</td>\n      <td>An eavesdropping Uber driver saved his 16-year...</td>\n      <td>Uber driver Keith Avila picked up a p...</td>\n      <td>Washington Post</td>\n      <td>real</td>\n    </tr>\n    <tr>\n      <th>27981</th>\n      <td>28707</td>\n      <td>Plane carrying six people returning from a Cav...</td>\n      <td>Crews on Friday continued to search L...</td>\n      <td>Washington Post</td>\n      <td>real</td>\n    </tr>\n    <tr>\n      <th>27982</th>\n      <td>28708</td>\n      <td>After helping a fraction of homeowners expecte...</td>\n      <td>When the Obama administration announced a...</td>\n      <td>Washington Post</td>\n      <td>real</td>\n    </tr>\n    <tr>\n      <th>27983</th>\n      <td>28709</td>\n      <td>Yes, this is real: Michigan just banned bannin...</td>\n      <td>This story has been updated. A new law in...</td>\n      <td>Washington Post</td>\n      <td>real</td>\n    </tr>\n    <tr>\n      <th>27984</th>\n      <td>28710</td>\n      <td>What happened in Washington state after voters...</td>\n      <td>The nation’s first recreational marijuana...</td>\n      <td>Washington Post</td>\n      <td>real</td>\n    </tr>\n  </tbody>\n</table>\n<p>27985 rows × 5 columns</p>\n</div>"
     },
     "metadata": {},
     "execution_count": 106
    }
   ],
   "source": [
    "df = pd.read_csv(\"C:\\\\Users\\\\Eli\\\\Desktop\\\\news_dataset_processed.csv\")\n",
    "df"
   ]
  },
  {
   "cell_type": "code",
   "execution_count": 107,
   "metadata": {},
   "outputs": [],
   "source": [
    "# vectorizer = TfidfVectorizer(stop_words='english',ngram_range=(1,2))\n",
    "# tfidf = vectorizer.fit_transform(df['content'].values.astype('U'))\n",
    "tfidf = TfidfVectorizer(stop_words='english',ngram_range=(1,2))\n",
    "vectorizer = tfidf.fit(df.content.values.astype('U'))\n",
    "transformed_text = vectorizer.transform(df.content.values.astype('U'))\n",
    "transformed_title = vectorizer.transform(df.title.values.astype('U'))"
   ]
  },
  {
   "cell_type": "code",
   "execution_count": 108,
   "metadata": {},
   "outputs": [
    {
     "output_type": "stream",
     "name": "stdout",
     "text": "(0, 5879608)\t0.1622058883543838\n  (0, 5878599)\t0.029713310210586208\n  (0, 5726220)\t0.1284118238378406\n  (0, 5724926)\t0.030512431528905967\n  (0, 5599284)\t0.1622058883543838\n  (0, 5597476)\t0.03877070501395868\n  (0, 5227470)\t0.1622058883543838\n  (0, 5227415)\t0.08631199376961447\n  (0, 5025320)\t0.15154504795558352\n  (0, 5025265)\t0.1622058883543838\n  (0, 5025168)\t0.15500155943425506\n  (0, 4902420)\t0.1622058883543838\n  (0, 4902371)\t0.10842840773925667\n  (0, 4648413)\t0.1622058883543838\n  (0, 4648395)\t0.1275802515066895\n  (0, 4400763)\t0.15154504795558352\n  (0, 4399009)\t0.04331315956859385\n  (0, 4356341)\t0.08598357542156239\n  (0, 4333529)\t0.14811302391609954\n  (0, 4333389)\t0.07502772378584949\n  (0, 4075714)\t0.1622058883543838\n  (0, 4075457)\t0.06980719548572221\n  (0, 3932364)\t0.1559696964949125\n  (0, 3932112)\t0.06731516790352218\n  (0, 3806188)\t0.1210765687037241\n  :\t:\n  (27984, 215547)\t0.019334774782310608\n  (27984, 209088)\t0.03498920696853297\n  (27984, 208629)\t0.015650676563626502\n  (27984, 205610)\t0.03498920696853297\n  (27984, 205593)\t0.03498920696853297\n  (27984, 205564)\t0.03268957188773265\n  (27984, 205561)\t0.07354594399977915\n  (27984, 205546)\t0.03364400668092192\n  (27984, 205511)\t0.03498920696853297\n  (27984, 205469)\t0.044646578392176194\n  (27984, 174305)\t0.03268957188773265\n  (27984, 174156)\t0.013673598088778839\n  (27984, 140443)\t0.03498920696853297\n  (27984, 140421)\t0.02660966744513564\n  (27984, 132159)\t0.03498920696853297\n  (27984, 131851)\t0.014461983557326976\n  (27984, 61820)\t0.03364400668092192\n  (27984, 61472)\t0.02999917131251055\n  (27984, 60466)\t0.01972201793226965\n  (27984, 59360)\t0.03364400668092192\n  (27984, 58123)\t0.010449573988118254\n  (27984, 56507)\t0.026233680024711555\n  (27984, 56485)\t0.011752317197425205\n  (27984, 55332)\t0.03498920696853297\n  (27984, 54636)\t0.011142917137256667\n"
    }
   ],
   "source": [
    "print(transformed_text)\n",
    "#print values in tfidf form "
   ]
  },
  {
   "cell_type": "code",
   "execution_count": 109,
   "metadata": {},
   "outputs": [],
   "source": [
    "def get_tfidf_term_scores(feature_names):\n",
    "    '''Returns dictionary with term names and total tfidf scores for all terms in corpus'''\n",
    "    term_corpus_dict = {}\n",
    "    # iterate through term index and term \n",
    "    for term_ind, term in enumerate(feature_names):\n",
    "        term_name = feature_names[term_ind]\n",
    "        term_corpus_dict[term_name] = np.sum(transformed_title.T[term_ind].toarray())\n",
    "        \n",
    "    return term_corpus_dict"
   ]
  },
  {
   "cell_type": "code",
   "execution_count": null,
   "metadata": {},
   "outputs": [],
   "source": []
  },
  {
   "cell_type": "code",
   "execution_count": 110,
   "metadata": {},
   "outputs": [],
   "source": [
    "# transformer = TfidfTransformer(norm=None)\n",
    "# tfidf_scores_transformed = transformer.fit_transform(counts)\n",
    "# print(tfidf_scores_transformed)\n"
   ]
  },
  {
   "cell_type": "code",
   "execution_count": null,
   "metadata": {},
   "outputs": [],
   "source": []
  }
 ]
}