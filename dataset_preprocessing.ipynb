{
 "cells": [
  {
   "cell_type": "code",
   "execution_count": 61,
   "metadata": {},
   "outputs": [
    {
     "output_type": "execute_result",
     "data": {
      "text/plain": "       Unnamed: 0                                              title  \\\n0               0  Muslims BUSTED: They Stole Millions In Gov’t B...   \n1               1  Re: Why Did Attorney General Loretta Lynch Ple...   \n2               2  BREAKING: Weiner Cooperating With FBI On Hilla...   \n3               3  PIN DROP SPEECH BY FATHER OF DAUGHTER Kidnappe...   \n4               4  FANTASTIC! TRUMP'S 7 POINT PLAN To Reform Heal...   \n...           ...                                                ...   \n28706       15707  An eavesdropping Uber driver saved his 16-year...   \n28707       15708  Plane carrying six people returning from a Cav...   \n28708       15709  After helping a fraction of homeowners expecte...   \n28709       15710  Yes, this is real: Michigan just banned bannin...   \n28710       15711  What happened in Washington state after voters...   \n\n                                                 content      publication  \\\n0      Print They should pay all the back all the mon...  100percentfedup   \n1      Why Did Attorney General Loretta Lynch Plead T...  100percentfedup   \n2      Red State : \\nFox News Sunday reported this mo...  100percentfedup   \n3      Email Kayla Mueller was a prisoner and torture...  100percentfedup   \n4      Email HEALTHCARE REFORM TO MAKE AMERICA GREAT ...  100percentfedup   \n...                                                  ...              ...   \n28706           Uber driver Keith Avila picked up a p...  Washington Post   \n28707           Crews on Friday continued to search L...  Washington Post   \n28708       When the Obama administration announced a...  Washington Post   \n28709       This story has been updated. A new law in...  Washington Post   \n28710       The nation’s first recreational marijuana...  Washington Post   \n\n      label  \n0      fake  \n1      fake  \n2      fake  \n3      fake  \n4      fake  \n...     ...  \n28706  real  \n28707  real  \n28708  real  \n28709  real  \n28710  real  \n\n[28711 rows x 5 columns]",
      "text/html": "<div>\n<style scoped>\n    .dataframe tbody tr th:only-of-type {\n        vertical-align: middle;\n    }\n\n    .dataframe tbody tr th {\n        vertical-align: top;\n    }\n\n    .dataframe thead th {\n        text-align: right;\n    }\n</style>\n<table border=\"1\" class=\"dataframe\">\n  <thead>\n    <tr style=\"text-align: right;\">\n      <th></th>\n      <th>Unnamed: 0</th>\n      <th>title</th>\n      <th>content</th>\n      <th>publication</th>\n      <th>label</th>\n    </tr>\n  </thead>\n  <tbody>\n    <tr>\n      <th>0</th>\n      <td>0</td>\n      <td>Muslims BUSTED: They Stole Millions In Gov’t B...</td>\n      <td>Print They should pay all the back all the mon...</td>\n      <td>100percentfedup</td>\n      <td>fake</td>\n    </tr>\n    <tr>\n      <th>1</th>\n      <td>1</td>\n      <td>Re: Why Did Attorney General Loretta Lynch Ple...</td>\n      <td>Why Did Attorney General Loretta Lynch Plead T...</td>\n      <td>100percentfedup</td>\n      <td>fake</td>\n    </tr>\n    <tr>\n      <th>2</th>\n      <td>2</td>\n      <td>BREAKING: Weiner Cooperating With FBI On Hilla...</td>\n      <td>Red State : \\nFox News Sunday reported this mo...</td>\n      <td>100percentfedup</td>\n      <td>fake</td>\n    </tr>\n    <tr>\n      <th>3</th>\n      <td>3</td>\n      <td>PIN DROP SPEECH BY FATHER OF DAUGHTER Kidnappe...</td>\n      <td>Email Kayla Mueller was a prisoner and torture...</td>\n      <td>100percentfedup</td>\n      <td>fake</td>\n    </tr>\n    <tr>\n      <th>4</th>\n      <td>4</td>\n      <td>FANTASTIC! TRUMP'S 7 POINT PLAN To Reform Heal...</td>\n      <td>Email HEALTHCARE REFORM TO MAKE AMERICA GREAT ...</td>\n      <td>100percentfedup</td>\n      <td>fake</td>\n    </tr>\n    <tr>\n      <th>...</th>\n      <td>...</td>\n      <td>...</td>\n      <td>...</td>\n      <td>...</td>\n      <td>...</td>\n    </tr>\n    <tr>\n      <th>28706</th>\n      <td>15707</td>\n      <td>An eavesdropping Uber driver saved his 16-year...</td>\n      <td>Uber driver Keith Avila picked up a p...</td>\n      <td>Washington Post</td>\n      <td>real</td>\n    </tr>\n    <tr>\n      <th>28707</th>\n      <td>15708</td>\n      <td>Plane carrying six people returning from a Cav...</td>\n      <td>Crews on Friday continued to search L...</td>\n      <td>Washington Post</td>\n      <td>real</td>\n    </tr>\n    <tr>\n      <th>28708</th>\n      <td>15709</td>\n      <td>After helping a fraction of homeowners expecte...</td>\n      <td>When the Obama administration announced a...</td>\n      <td>Washington Post</td>\n      <td>real</td>\n    </tr>\n    <tr>\n      <th>28709</th>\n      <td>15710</td>\n      <td>Yes, this is real: Michigan just banned bannin...</td>\n      <td>This story has been updated. A new law in...</td>\n      <td>Washington Post</td>\n      <td>real</td>\n    </tr>\n    <tr>\n      <th>28710</th>\n      <td>15711</td>\n      <td>What happened in Washington state after voters...</td>\n      <td>The nation’s first recreational marijuana...</td>\n      <td>Washington Post</td>\n      <td>real</td>\n    </tr>\n  </tbody>\n</table>\n<p>28711 rows × 5 columns</p>\n</div>"
     },
     "metadata": {},
     "execution_count": 61
    }
   ],
   "source": [
    "import pandas as pd \n",
    "from collections import Counter\n",
    "import numpy as np \n",
    "from sklearn.feature_extraction.text import TfidfVectorizer\n",
    "\n",
    "#store dataset as df \n",
    "df = pd.read_csv(\"C:\\\\Users\\\\Eli\\\\Desktop\\\\news_dataset.csv\")\n",
    "df"
   ]
  },
  {
   "cell_type": "code",
   "execution_count": 62,
   "metadata": {},
   "outputs": [
    {
     "output_type": "execute_result",
     "data": {
      "text/plain": "   Unnamed: 0                                              title  \\\n0           0  Muslims BUSTED: They Stole Millions In Gov’t B...   \n1           1  Re: Why Did Attorney General Loretta Lynch Ple...   \n2           2  BREAKING: Weiner Cooperating With FBI On Hilla...   \n3           3  PIN DROP SPEECH BY FATHER OF DAUGHTER Kidnappe...   \n4           4  FANTASTIC! TRUMP'S 7 POINT PLAN To Reform Heal...   \n\n                                             content      publication label  \n0  Print They should pay all the back all the mon...  100percentfedup  fake  \n1  Why Did Attorney General Loretta Lynch Plead T...  100percentfedup  fake  \n2  Red State : \\nFox News Sunday reported this mo...  100percentfedup  fake  \n3  Email Kayla Mueller was a prisoner and torture...  100percentfedup  fake  \n4  Email HEALTHCARE REFORM TO MAKE AMERICA GREAT ...  100percentfedup  fake  ",
      "text/html": "<div>\n<style scoped>\n    .dataframe tbody tr th:only-of-type {\n        vertical-align: middle;\n    }\n\n    .dataframe tbody tr th {\n        vertical-align: top;\n    }\n\n    .dataframe thead th {\n        text-align: right;\n    }\n</style>\n<table border=\"1\" class=\"dataframe\">\n  <thead>\n    <tr style=\"text-align: right;\">\n      <th></th>\n      <th>Unnamed: 0</th>\n      <th>title</th>\n      <th>content</th>\n      <th>publication</th>\n      <th>label</th>\n    </tr>\n  </thead>\n  <tbody>\n    <tr>\n      <th>0</th>\n      <td>0</td>\n      <td>Muslims BUSTED: They Stole Millions In Gov’t B...</td>\n      <td>Print They should pay all the back all the mon...</td>\n      <td>100percentfedup</td>\n      <td>fake</td>\n    </tr>\n    <tr>\n      <th>1</th>\n      <td>1</td>\n      <td>Re: Why Did Attorney General Loretta Lynch Ple...</td>\n      <td>Why Did Attorney General Loretta Lynch Plead T...</td>\n      <td>100percentfedup</td>\n      <td>fake</td>\n    </tr>\n    <tr>\n      <th>2</th>\n      <td>2</td>\n      <td>BREAKING: Weiner Cooperating With FBI On Hilla...</td>\n      <td>Red State : \\nFox News Sunday reported this mo...</td>\n      <td>100percentfedup</td>\n      <td>fake</td>\n    </tr>\n    <tr>\n      <th>3</th>\n      <td>3</td>\n      <td>PIN DROP SPEECH BY FATHER OF DAUGHTER Kidnappe...</td>\n      <td>Email Kayla Mueller was a prisoner and torture...</td>\n      <td>100percentfedup</td>\n      <td>fake</td>\n    </tr>\n    <tr>\n      <th>4</th>\n      <td>4</td>\n      <td>FANTASTIC! TRUMP'S 7 POINT PLAN To Reform Heal...</td>\n      <td>Email HEALTHCARE REFORM TO MAKE AMERICA GREAT ...</td>\n      <td>100percentfedup</td>\n      <td>fake</td>\n    </tr>\n  </tbody>\n</table>\n</div>"
     },
     "metadata": {},
     "execution_count": 62
    }
   ],
   "source": [
    "df.head()"
   ]
  },
  {
   "cell_type": "code",
   "execution_count": 63,
   "metadata": {},
   "outputs": [],
   "source": [
    "#drop NaN values\n",
    "df = df.dropna()\n",
    "#drop 'Unnamed' column which was pre-existing id\n",
    "df = df.drop(df.columns[df.columns.str.contains('unnamed',case = False)],axis = 1, inplace = False)"
   ]
  },
  {
   "cell_type": "code",
   "execution_count": 64,
   "metadata": {},
   "outputs": [
    {
     "output_type": "execute_result",
     "data": {
      "text/plain": "                                                   title  \\\n0      Muslims BUSTED: They Stole Millions In Gov’t B...   \n1      Re: Why Did Attorney General Loretta Lynch Ple...   \n2      BREAKING: Weiner Cooperating With FBI On Hilla...   \n3      PIN DROP SPEECH BY FATHER OF DAUGHTER Kidnappe...   \n4      FANTASTIC! TRUMP'S 7 POINT PLAN To Reform Heal...   \n...                                                  ...   \n28706  An eavesdropping Uber driver saved his 16-year...   \n28707  Plane carrying six people returning from a Cav...   \n28708  After helping a fraction of homeowners expecte...   \n28709  Yes, this is real: Michigan just banned bannin...   \n28710  What happened in Washington state after voters...   \n\n                                                 content      publication  \\\n0      Print They should pay all the back all the mon...  100percentfedup   \n1      Why Did Attorney General Loretta Lynch Plead T...  100percentfedup   \n2      Red State : \\nFox News Sunday reported this mo...  100percentfedup   \n3      Email Kayla Mueller was a prisoner and torture...  100percentfedup   \n4      Email HEALTHCARE REFORM TO MAKE AMERICA GREAT ...  100percentfedup   \n...                                                  ...              ...   \n28706           Uber driver Keith Avila picked up a p...  Washington Post   \n28707           Crews on Friday continued to search L...  Washington Post   \n28708       When the Obama administration announced a...  Washington Post   \n28709       This story has been updated. A new law in...  Washington Post   \n28710       The nation’s first recreational marijuana...  Washington Post   \n\n      label  \n0      fake  \n1      fake  \n2      fake  \n3      fake  \n4      fake  \n...     ...  \n28706  real  \n28707  real  \n28708  real  \n28709  real  \n28710  real  \n\n[27985 rows x 4 columns]",
      "text/html": "<div>\n<style scoped>\n    .dataframe tbody tr th:only-of-type {\n        vertical-align: middle;\n    }\n\n    .dataframe tbody tr th {\n        vertical-align: top;\n    }\n\n    .dataframe thead th {\n        text-align: right;\n    }\n</style>\n<table border=\"1\" class=\"dataframe\">\n  <thead>\n    <tr style=\"text-align: right;\">\n      <th></th>\n      <th>title</th>\n      <th>content</th>\n      <th>publication</th>\n      <th>label</th>\n    </tr>\n  </thead>\n  <tbody>\n    <tr>\n      <th>0</th>\n      <td>Muslims BUSTED: They Stole Millions In Gov’t B...</td>\n      <td>Print They should pay all the back all the mon...</td>\n      <td>100percentfedup</td>\n      <td>fake</td>\n    </tr>\n    <tr>\n      <th>1</th>\n      <td>Re: Why Did Attorney General Loretta Lynch Ple...</td>\n      <td>Why Did Attorney General Loretta Lynch Plead T...</td>\n      <td>100percentfedup</td>\n      <td>fake</td>\n    </tr>\n    <tr>\n      <th>2</th>\n      <td>BREAKING: Weiner Cooperating With FBI On Hilla...</td>\n      <td>Red State : \\nFox News Sunday reported this mo...</td>\n      <td>100percentfedup</td>\n      <td>fake</td>\n    </tr>\n    <tr>\n      <th>3</th>\n      <td>PIN DROP SPEECH BY FATHER OF DAUGHTER Kidnappe...</td>\n      <td>Email Kayla Mueller was a prisoner and torture...</td>\n      <td>100percentfedup</td>\n      <td>fake</td>\n    </tr>\n    <tr>\n      <th>4</th>\n      <td>FANTASTIC! TRUMP'S 7 POINT PLAN To Reform Heal...</td>\n      <td>Email HEALTHCARE REFORM TO MAKE AMERICA GREAT ...</td>\n      <td>100percentfedup</td>\n      <td>fake</td>\n    </tr>\n    <tr>\n      <th>...</th>\n      <td>...</td>\n      <td>...</td>\n      <td>...</td>\n      <td>...</td>\n    </tr>\n    <tr>\n      <th>28706</th>\n      <td>An eavesdropping Uber driver saved his 16-year...</td>\n      <td>Uber driver Keith Avila picked up a p...</td>\n      <td>Washington Post</td>\n      <td>real</td>\n    </tr>\n    <tr>\n      <th>28707</th>\n      <td>Plane carrying six people returning from a Cav...</td>\n      <td>Crews on Friday continued to search L...</td>\n      <td>Washington Post</td>\n      <td>real</td>\n    </tr>\n    <tr>\n      <th>28708</th>\n      <td>After helping a fraction of homeowners expecte...</td>\n      <td>When the Obama administration announced a...</td>\n      <td>Washington Post</td>\n      <td>real</td>\n    </tr>\n    <tr>\n      <th>28709</th>\n      <td>Yes, this is real: Michigan just banned bannin...</td>\n      <td>This story has been updated. A new law in...</td>\n      <td>Washington Post</td>\n      <td>real</td>\n    </tr>\n    <tr>\n      <th>28710</th>\n      <td>What happened in Washington state after voters...</td>\n      <td>The nation’s first recreational marijuana...</td>\n      <td>Washington Post</td>\n      <td>real</td>\n    </tr>\n  </tbody>\n</table>\n<p>27985 rows × 4 columns</p>\n</div>"
     },
     "metadata": {},
     "execution_count": 64
    }
   ],
   "source": [
    "#head of the dataset now without the 'Unnamed' column\n",
    "df"
   ]
  },
  {
   "cell_type": "code",
   "execution_count": 65,
   "metadata": {},
   "outputs": [],
   "source": [
    "#article preprocessing \n",
    "\n",
    "import nltk, re\n",
    "from nltk.corpus import wordnet\n",
    "from nltk.corpus import stopwords\n",
    "from nltk.tokenize import word_tokenize\n",
    "from nltk.stem import WordNetLemmatizer\n",
    "from collections import Counter\n",
    "#nltk.download('punkt')\n",
    "#nltk.download('stopwords')\n",
    "#nltk.download('wordnet')\n",
    "stop_words = stopwords.words('english')\n",
    "normalizer = WordNetLemmatizer()\n",
    "\n",
    "def get_part_of_speech(word):\n",
    "  probable_part_of_speech = wordnet.synsets(word)\n",
    "  pos_counts = Counter()\n",
    "  pos_counts[\"n\"] = len(  [ item for item in probable_part_of_speech if item.pos()==\"n\"]  )\n",
    "  pos_counts[\"v\"] = len(  [ item for item in probable_part_of_speech if item.pos()==\"v\"]  )\n",
    "  pos_counts[\"a\"] = len(  [ item for item in probable_part_of_speech if item.pos()==\"a\"]  )\n",
    "  pos_counts[\"r\"] = len(  [ item for item in probable_part_of_speech if item.pos()==\"r\"]  )\n",
    "  most_likely_part_of_speech = pos_counts.most_common(1)[0][0]\n",
    "  return most_likely_part_of_speech\n",
    "\n",
    "def preprocess_text(text):\n",
    "  cleaned = re.sub(r'\\W+', ' ', text).lower()\n",
    "  tokenized = word_tokenize(cleaned)\n",
    "  normalized = \" \".join([normalizer.lemmatize(token, get_part_of_speech(token)) for token in tokenized if not re.match(r'\\d+',token)])\n",
    "  return normalized"
   ]
  },
  {
   "cell_type": "code",
   "execution_count": 66,
   "metadata": {
    "tags": [
     "outputPrepend"
    ]
   },
   "outputs": [],
   "source": [
    "#call preprocess_text() on the content column\n",
    "counter = 0\n",
    "for item in (df.content):\n",
    "    #if counter < 50:\n",
    "    df['content'][counter] = preprocess_text(item)\n",
    "    #df['title'][counter] = preprocess_text(item)\n",
    "    counter += 1\n",
    "    #counter += 1\n",
    "    # if type(item) != str:\n",
    "    #     print(item, '\\n')\n",
    "\n",
    "#print(df.content[45])"
   ]
  },
  {
   "cell_type": "code",
   "execution_count": 67,
   "metadata": {},
   "outputs": [],
   "source": [
    "#call preprocess_text() on the title column\n",
    "counter = 0\n",
    "for item in (df.title):\n",
    "    #if counter < 50:\n",
    "    df['title'][counter] = preprocess_text(item)\n",
    "    counter += 1\n",
    ""
   ]
  },
  {
   "cell_type": "code",
   "execution_count": 69,
   "metadata": {},
   "outputs": [
    {
     "output_type": "stream",
     "name": "stdout",
     "text": "email healthcare reform to make america great again since march of the american people have have to suffer under the incredible economic burden of the affordable care act obamacare this legislation pass by totally partisan vote in the house and senate and sign into law by the most divisive and partisan president in american history have tragically but predictably result in runaway cost website that don t work great ration of care high premium less competition and few choice obamacare have raise the economic uncertainty of every single person reside in this country a it appear obamacare be certain to collapse of it own weight the damage do by the democrat and president obama and abet by the supreme court will be difficult to repair unless the next president and a republican congress lead the effort to bring much need free market reform to the healthcare industry congress must act our elect representative in the house and senate must completely repeal obamacare our elect representative must eliminate the individual mandate no person should be require to buy insurance unless he or she want to modify exist law that inhibit the sale of health insurance across state line a long a the plan purchase comply with state requirement any vendor ought to be able to offer insurance in any state by allow full competition in this market insurance cost will go down and consumer satisfaction will go up allow individual to fully deduct health insurance premium payment from their tax return under the current tax system business be allow to take these deduction so why wouldn t congress allow individual the same exemption a we allow the free market to provide insurance coverage opportunity to company and individual we must also make sure that no one slip through the crack simply because they can not afford insurance we must review basic option for medicaid and work with state to ensure that those who want healthcare coverage can have it trend on feed up \n\nfantastic trump s point plan to reform healthcare begin with a bombshell com\n"
    }
   ],
   "source": [
    "\n",
    "# check if both match\n",
    "print(df.content[4], '\\n')\n",
    "print(df.title[4])"
   ]
  },
  {
   "cell_type": "code",
   "execution_count": 70,
   "metadata": {},
   "outputs": [],
   "source": [
    "#save the processed dataset for later use\n",
    "df.to_csv(\"C:\\\\Users\\\\Eli\\\\Desktop\\\\news_dataset_processed.csv\")"
   ]
  }
 ],
 "metadata": {
  "file_extension": ".py",
  "kernelspec": {
   "display_name": "Python 3.5.6 64-bit ('ML': conda)",
   "language": "python",
   "name": "python35664bitmlcondaefee471b886e48b39ca448e167f3ceeb"
  },
  "language_info": {
   "codemirror_mode": {
    "name": "ipython",
    "version": 3
   },
   "file_extension": ".py",
   "mimetype": "text/x-python",
   "name": "python",
   "nbconvert_exporter": "python",
   "pygments_lexer": "ipython3",
   "version": "3.8.1-final"
  },
  "mimetype": "text/x-python",
  "name": "python",
  "npconvert_exporter": "python",
  "pygments_lexer": "ipython3",
  "version": 3
 },
 "nbformat": 4,
 "nbformat_minor": 2
}