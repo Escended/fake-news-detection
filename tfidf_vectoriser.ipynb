{
 "nbformat": 4,
 "nbformat_minor": 2,
 "metadata": {
  "language_info": {
   "name": "python",
   "codemirror_mode": {
    "name": "ipython",
    "version": 3
   },
   "version": "3.5.6-final"
  },
  "orig_nbformat": 2,
  "file_extension": ".py",
  "mimetype": "text/x-python",
  "name": "python",
  "npconvert_exporter": "python",
  "pygments_lexer": "ipython3",
  "version": 3,
  "kernelspec": {
   "name": "python35664bitmlcondaefee471b886e48b39ca448e167f3ceeb",
   "display_name": "Python 3.5.6 64-bit ('ML': conda)"
  }
 },
 "cells": [
  {
   "cell_type": "code",
   "execution_count": 13,
   "metadata": {},
   "outputs": [],
   "source": [
    "from sklearn.feature_extraction.text import CountVectorizer, TfidfTransformer, TfidfVectorizer\n",
    "import pandas as pd\n",
    "import numpy as np\n",
    "from nltk.corpus import stopwords\n",
    "stop_words = stopwords.words('english')"
   ]
  },
  {
   "cell_type": "code",
   "execution_count": 14,
   "metadata": {},
   "outputs": [
    {
     "output_type": "execute_result",
     "data": {
      "text/plain": "       Unnamed: 0                                              title  \\\n0               0  Muslims BUSTED: They Stole Millions In Gov’t B...   \n1               1  Re: Why Did Attorney General Loretta Lynch Ple...   \n2               2  BREAKING: Weiner Cooperating With FBI On Hilla...   \n3               3  PIN DROP SPEECH BY FATHER OF DAUGHTER Kidnappe...   \n4               4  FANTASTIC! TRUMP'S 7 POINT PLAN To Reform Heal...   \n...           ...                                                ...   \n27980       28706  An eavesdropping Uber driver saved his 16-year...   \n27981       28707  Plane carrying six people returning from a Cav...   \n27982       28708  After helping a fraction of homeowners expecte...   \n27983       28709  Yes, this is real: Michigan just banned bannin...   \n27984       28710  What happened in Washington state after voters...   \n\n                                                 content      publication  \\\n0      print they should pay all the back all the mon...  100percentfedup   \n1      why do attorney general loretta lynch plead th...  100percentfedup   \n2      red state fox news sunday report this morning ...  100percentfedup   \n3      email kayla mueller be a prisoner and torture ...  100percentfedup   \n4      email healthcare reform to make america great ...  100percentfedup   \n...                                                  ...              ...   \n27980           Uber driver Keith Avila picked up a p...  Washington Post   \n27981           Crews on Friday continued to search L...  Washington Post   \n27982       When the Obama administration announced a...  Washington Post   \n27983       This story has been updated. A new law in...  Washington Post   \n27984       The nation’s first recreational marijuana...  Washington Post   \n\n      label  \n0      fake  \n1      fake  \n2      fake  \n3      fake  \n4      fake  \n...     ...  \n27980  real  \n27981  real  \n27982  real  \n27983  real  \n27984  real  \n\n[27985 rows x 5 columns]",
      "text/html": "<div>\n<style scoped>\n    .dataframe tbody tr th:only-of-type {\n        vertical-align: middle;\n    }\n\n    .dataframe tbody tr th {\n        vertical-align: top;\n    }\n\n    .dataframe thead th {\n        text-align: right;\n    }\n</style>\n<table border=\"1\" class=\"dataframe\">\n  <thead>\n    <tr style=\"text-align: right;\">\n      <th></th>\n      <th>Unnamed: 0</th>\n      <th>title</th>\n      <th>content</th>\n      <th>publication</th>\n      <th>label</th>\n    </tr>\n  </thead>\n  <tbody>\n    <tr>\n      <th>0</th>\n      <td>0</td>\n      <td>Muslims BUSTED: They Stole Millions In Gov’t B...</td>\n      <td>print they should pay all the back all the mon...</td>\n      <td>100percentfedup</td>\n      <td>fake</td>\n    </tr>\n    <tr>\n      <th>1</th>\n      <td>1</td>\n      <td>Re: Why Did Attorney General Loretta Lynch Ple...</td>\n      <td>why do attorney general loretta lynch plead th...</td>\n      <td>100percentfedup</td>\n      <td>fake</td>\n    </tr>\n    <tr>\n      <th>2</th>\n      <td>2</td>\n      <td>BREAKING: Weiner Cooperating With FBI On Hilla...</td>\n      <td>red state fox news sunday report this morning ...</td>\n      <td>100percentfedup</td>\n      <td>fake</td>\n    </tr>\n    <tr>\n      <th>3</th>\n      <td>3</td>\n      <td>PIN DROP SPEECH BY FATHER OF DAUGHTER Kidnappe...</td>\n      <td>email kayla mueller be a prisoner and torture ...</td>\n      <td>100percentfedup</td>\n      <td>fake</td>\n    </tr>\n    <tr>\n      <th>4</th>\n      <td>4</td>\n      <td>FANTASTIC! TRUMP'S 7 POINT PLAN To Reform Heal...</td>\n      <td>email healthcare reform to make america great ...</td>\n      <td>100percentfedup</td>\n      <td>fake</td>\n    </tr>\n    <tr>\n      <th>...</th>\n      <td>...</td>\n      <td>...</td>\n      <td>...</td>\n      <td>...</td>\n      <td>...</td>\n    </tr>\n    <tr>\n      <th>27980</th>\n      <td>28706</td>\n      <td>An eavesdropping Uber driver saved his 16-year...</td>\n      <td>Uber driver Keith Avila picked up a p...</td>\n      <td>Washington Post</td>\n      <td>real</td>\n    </tr>\n    <tr>\n      <th>27981</th>\n      <td>28707</td>\n      <td>Plane carrying six people returning from a Cav...</td>\n      <td>Crews on Friday continued to search L...</td>\n      <td>Washington Post</td>\n      <td>real</td>\n    </tr>\n    <tr>\n      <th>27982</th>\n      <td>28708</td>\n      <td>After helping a fraction of homeowners expecte...</td>\n      <td>When the Obama administration announced a...</td>\n      <td>Washington Post</td>\n      <td>real</td>\n    </tr>\n    <tr>\n      <th>27983</th>\n      <td>28709</td>\n      <td>Yes, this is real: Michigan just banned bannin...</td>\n      <td>This story has been updated. A new law in...</td>\n      <td>Washington Post</td>\n      <td>real</td>\n    </tr>\n    <tr>\n      <th>27984</th>\n      <td>28710</td>\n      <td>What happened in Washington state after voters...</td>\n      <td>The nation’s first recreational marijuana...</td>\n      <td>Washington Post</td>\n      <td>real</td>\n    </tr>\n  </tbody>\n</table>\n<p>27985 rows × 5 columns</p>\n</div>"
     },
     "metadata": {},
     "execution_count": 14
    }
   ],
   "source": [
    "df = pd.read_csv(\"C:\\\\Users\\\\Eli\\\\Desktop\\\\news_dataset_processed.csv\")\n",
    "df"
   ]
  },
  {
   "cell_type": "code",
   "execution_count": 28,
   "metadata": {},
   "outputs": [],
   "source": [
    "# vectorizer = TfidfVectorizer(stop_words='english',ngram_range=(1,2))\n",
    "# tfidf = vectorizer.fit_transform(df['content'].values.astype('U'))\n",
    "tfidf = TfidfVectorizer(stop_words='english',ngram_range=(1,2))\n",
    "vectorizer = tfidf.fit(df.content.values.astype('U'))\n",
    "transformed_text = vectorizer.transform(df.content.values.astype('U'))\n",
    "transformed_title = vectorizer.transform(df.title.values.astype('U'))"
   ]
  },
  {
   "cell_type": "code",
   "execution_count": 32,
   "metadata": {},
   "outputs": [
    {
     "output_type": "stream",
     "name": "stdout",
     "text": "(0, 5879608)\t0.1622058883543838\n  (0, 5878599)\t0.029713310210586208\n  (0, 5726220)\t0.1284118238378406\n  (0, 5724926)\t0.030512431528905967\n  (0, 5599284)\t0.1622058883543838\n  (0, 5597476)\t0.03877070501395868\n  (0, 5227470)\t0.1622058883543838\n  (0, 5227415)\t0.08631199376961447\n  (0, 5025320)\t0.15154504795558352\n  (0, 5025265)\t0.1622058883543838\n  (0, 5025168)\t0.15500155943425506\n  (0, 4902420)\t0.1622058883543838\n  (0, 4902371)\t0.10842840773925667\n  (0, 4648413)\t0.1622058883543838\n  (0, 4648395)\t0.1275802515066895\n  (0, 4400763)\t0.15154504795558352\n  (0, 4399009)\t0.04331315956859385\n  (0, 4356341)\t0.08598357542156239\n  (0, 4333529)\t0.14811302391609954\n  (0, 4333389)\t0.07502772378584949\n  (0, 4075714)\t0.1622058883543838\n  (0, 4075457)\t0.06980719548572221\n  (0, 3932364)\t0.1559696964949125\n  (0, 3932112)\t0.06731516790352218\n  (0, 3806188)\t0.1210765687037241\n  :\t:\n  (27984, 215547)\t0.019334774782310608\n  (27984, 209088)\t0.03498920696853297\n  (27984, 208629)\t0.015650676563626502\n  (27984, 205610)\t0.03498920696853297\n  (27984, 205593)\t0.03498920696853297\n  (27984, 205564)\t0.03268957188773265\n  (27984, 205561)\t0.07354594399977915\n  (27984, 205546)\t0.03364400668092192\n  (27984, 205511)\t0.03498920696853297\n  (27984, 205469)\t0.044646578392176194\n  (27984, 174305)\t0.03268957188773265\n  (27984, 174156)\t0.013673598088778839\n  (27984, 140443)\t0.03498920696853297\n  (27984, 140421)\t0.02660966744513564\n  (27984, 132159)\t0.03498920696853297\n  (27984, 131851)\t0.014461983557326976\n  (27984, 61820)\t0.03364400668092192\n  (27984, 61472)\t0.02999917131251055\n  (27984, 60466)\t0.01972201793226965\n  (27984, 59360)\t0.03364400668092192\n  (27984, 58123)\t0.010449573988118254\n  (27984, 56507)\t0.026233680024711555\n  (27984, 56485)\t0.011752317197425205\n  (27984, 55332)\t0.03498920696853297\n  (27984, 54636)\t0.011142917137256667\n"
    }
   ],
   "source": [
    "print(transformed_text)"
   ]
  },
  {
   "cell_type": "code",
   "execution_count": 33,
   "metadata": {},
   "outputs": [],
   "source": [
    "def get_tfidf_term_scores(feature_names):\n",
    "    '''Returns dictionary with term names and total tfidf scores for all terms in corpus'''\n",
    "    term_corpus_dict = {}\n",
    "    # iterate through term index and term \n",
    "    for term_ind, term in enumerate(feature_names):\n",
    "        term_name = feature_names[term_ind]\n",
    "        term_corpus_dict[term_name] = np.sum(transformed_title.T[term_ind].toarray())\n",
    "        \n",
    "    return term_corpus_dict"
   ]
  },
  {
   "cell_type": "code",
   "execution_count": 34,
   "metadata": {},
   "outputs": [],
   "source": [
    "feature_names = vectorizer.get_feature_names()"
   ]
  },
  {
   "cell_type": "code",
   "execution_count": 35,
   "metadata": {},
   "outputs": [
    {
     "output_type": "error",
     "ename": "KeyboardInterrupt",
     "evalue": "",
     "traceback": [
      "\u001b[1;31m---------------------------------------------------------------------------\u001b[0m",
      "\u001b[1;31mKeyboardInterrupt\u001b[0m                         Traceback (most recent call last)",
      "\u001b[1;32m<ipython-input-35-596445643ac6>\u001b[0m in \u001b[0;36m<module>\u001b[1;34m\u001b[0m\n\u001b[1;32m----> 1\u001b[1;33m \u001b[0mterm_corpus_dict\u001b[0m \u001b[1;33m=\u001b[0m \u001b[0mget_tfidf_term_scores\u001b[0m\u001b[1;33m(\u001b[0m\u001b[0mfeature_names\u001b[0m\u001b[1;33m)\u001b[0m\u001b[1;33m\u001b[0m\u001b[0m\n\u001b[0m",
      "\u001b[1;32m<ipython-input-33-e88c1afb120e>\u001b[0m in \u001b[0;36mget_tfidf_term_scores\u001b[1;34m(feature_names)\u001b[0m\n\u001b[0;32m      5\u001b[0m     \u001b[1;32mfor\u001b[0m \u001b[0mterm_ind\u001b[0m\u001b[1;33m,\u001b[0m \u001b[0mterm\u001b[0m \u001b[1;32min\u001b[0m \u001b[0menumerate\u001b[0m\u001b[1;33m(\u001b[0m\u001b[0mfeature_names\u001b[0m\u001b[1;33m)\u001b[0m\u001b[1;33m:\u001b[0m\u001b[1;33m\u001b[0m\u001b[0m\n\u001b[0;32m      6\u001b[0m         \u001b[0mterm_name\u001b[0m \u001b[1;33m=\u001b[0m \u001b[0mfeature_names\u001b[0m\u001b[1;33m[\u001b[0m\u001b[0mterm_ind\u001b[0m\u001b[1;33m]\u001b[0m\u001b[1;33m\u001b[0m\u001b[0m\n\u001b[1;32m----> 7\u001b[1;33m         \u001b[0mterm_corpus_dict\u001b[0m\u001b[1;33m[\u001b[0m\u001b[0mterm_name\u001b[0m\u001b[1;33m]\u001b[0m \u001b[1;33m=\u001b[0m \u001b[0mnp\u001b[0m\u001b[1;33m.\u001b[0m\u001b[0msum\u001b[0m\u001b[1;33m(\u001b[0m\u001b[0mtransformed_title\u001b[0m\u001b[1;33m.\u001b[0m\u001b[0mT\u001b[0m\u001b[1;33m[\u001b[0m\u001b[0mterm_ind\u001b[0m\u001b[1;33m]\u001b[0m\u001b[1;33m.\u001b[0m\u001b[0mtoarray\u001b[0m\u001b[1;33m(\u001b[0m\u001b[1;33m)\u001b[0m\u001b[1;33m)\u001b[0m\u001b[1;33m\u001b[0m\u001b[0m\n\u001b[0m\u001b[0;32m      8\u001b[0m \u001b[1;33m\u001b[0m\u001b[0m\n\u001b[0;32m      9\u001b[0m     \u001b[1;32mreturn\u001b[0m \u001b[0mterm_corpus_dict\u001b[0m\u001b[1;33m\u001b[0m\u001b[0m\n",
      "\u001b[1;32m~\\anaconda3\\envs\\ML\\lib\\site-packages\\scipy\\sparse\\_index.py\u001b[0m in \u001b[0;36m__getitem__\u001b[1;34m(self, key)\u001b[0m\n\u001b[0;32m     39\u001b[0m                 \u001b[1;32mreturn\u001b[0m \u001b[0mself\u001b[0m\u001b[1;33m.\u001b[0m\u001b[0m_get_intXint\u001b[0m\u001b[1;33m(\u001b[0m\u001b[0mrow\u001b[0m\u001b[1;33m,\u001b[0m \u001b[0mcol\u001b[0m\u001b[1;33m)\u001b[0m\u001b[1;33m\u001b[0m\u001b[0m\n\u001b[0;32m     40\u001b[0m             \u001b[1;32melif\u001b[0m \u001b[0misinstance\u001b[0m\u001b[1;33m(\u001b[0m\u001b[0mcol\u001b[0m\u001b[1;33m,\u001b[0m \u001b[0mslice\u001b[0m\u001b[1;33m)\u001b[0m\u001b[1;33m:\u001b[0m\u001b[1;33m\u001b[0m\u001b[0m\n\u001b[1;32m---> 41\u001b[1;33m                 \u001b[1;32mreturn\u001b[0m \u001b[0mself\u001b[0m\u001b[1;33m.\u001b[0m\u001b[0m_get_intXslice\u001b[0m\u001b[1;33m(\u001b[0m\u001b[0mrow\u001b[0m\u001b[1;33m,\u001b[0m \u001b[0mcol\u001b[0m\u001b[1;33m)\u001b[0m\u001b[1;33m\u001b[0m\u001b[0m\n\u001b[0m\u001b[0;32m     42\u001b[0m             \u001b[1;32melif\u001b[0m \u001b[0mcol\u001b[0m\u001b[1;33m.\u001b[0m\u001b[0mndim\u001b[0m \u001b[1;33m==\u001b[0m \u001b[1;36m1\u001b[0m\u001b[1;33m:\u001b[0m\u001b[1;33m\u001b[0m\u001b[0m\n\u001b[0;32m     43\u001b[0m                 \u001b[1;32mreturn\u001b[0m \u001b[0mself\u001b[0m\u001b[1;33m.\u001b[0m\u001b[0m_get_intXarray\u001b[0m\u001b[1;33m(\u001b[0m\u001b[0mrow\u001b[0m\u001b[1;33m,\u001b[0m \u001b[0mcol\u001b[0m\u001b[1;33m)\u001b[0m\u001b[1;33m\u001b[0m\u001b[0m\n",
      "\u001b[1;32m~\\anaconda3\\envs\\ML\\lib\\site-packages\\scipy\\sparse\\csc.py\u001b[0m in \u001b[0;36m_get_intXslice\u001b[1;34m(self, row, col)\u001b[0m\n\u001b[0;32m    211\u001b[0m     \u001b[1;32mdef\u001b[0m \u001b[0m_get_intXslice\u001b[0m\u001b[1;33m(\u001b[0m\u001b[0mself\u001b[0m\u001b[1;33m,\u001b[0m \u001b[0mrow\u001b[0m\u001b[1;33m,\u001b[0m \u001b[0mcol\u001b[0m\u001b[1;33m)\u001b[0m\u001b[1;33m:\u001b[0m\u001b[1;33m\u001b[0m\u001b[0m\n\u001b[0;32m    212\u001b[0m         \u001b[1;32mif\u001b[0m \u001b[0mcol\u001b[0m\u001b[1;33m.\u001b[0m\u001b[0mstep\u001b[0m \u001b[1;32min\u001b[0m \u001b[1;33m(\u001b[0m\u001b[1;36m1\u001b[0m\u001b[1;33m,\u001b[0m \u001b[1;32mNone\u001b[0m\u001b[1;33m)\u001b[0m\u001b[1;33m:\u001b[0m\u001b[1;33m\u001b[0m\u001b[0m\n\u001b[1;32m--> 213\u001b[1;33m             \u001b[1;32mreturn\u001b[0m \u001b[0mself\u001b[0m\u001b[1;33m.\u001b[0m\u001b[0m_get_submatrix\u001b[0m\u001b[1;33m(\u001b[0m\u001b[0mmajor\u001b[0m\u001b[1;33m=\u001b[0m\u001b[0mcol\u001b[0m\u001b[1;33m,\u001b[0m \u001b[0mminor\u001b[0m\u001b[1;33m=\u001b[0m\u001b[0mrow\u001b[0m\u001b[1;33m,\u001b[0m \u001b[0mcopy\u001b[0m\u001b[1;33m=\u001b[0m\u001b[1;32mTrue\u001b[0m\u001b[1;33m)\u001b[0m\u001b[1;33m\u001b[0m\u001b[0m\n\u001b[0m\u001b[0;32m    214\u001b[0m         \u001b[1;32mreturn\u001b[0m \u001b[0mself\u001b[0m\u001b[1;33m.\u001b[0m\u001b[0m_major_slice\u001b[0m\u001b[1;33m(\u001b[0m\u001b[0mcol\u001b[0m\u001b[1;33m)\u001b[0m\u001b[1;33m.\u001b[0m\u001b[0m_get_submatrix\u001b[0m\u001b[1;33m(\u001b[0m\u001b[0mminor\u001b[0m\u001b[1;33m=\u001b[0m\u001b[0mrow\u001b[0m\u001b[1;33m)\u001b[0m\u001b[1;33m\u001b[0m\u001b[0m\n\u001b[0;32m    215\u001b[0m \u001b[1;33m\u001b[0m\u001b[0m\n",
      "\u001b[1;32m~\\anaconda3\\envs\\ML\\lib\\site-packages\\scipy\\sparse\\compressed.py\u001b[0m in \u001b[0;36m_get_submatrix\u001b[1;34m(self, major, minor, copy)\u001b[0m\n\u001b[0;32m    788\u001b[0m \u001b[1;33m\u001b[0m\u001b[0m\n\u001b[0;32m    789\u001b[0m         indptr, indices, data = get_csr_submatrix(\n\u001b[1;32m--> 790\u001b[1;33m             M, N, self.indptr, self.indices, self.data, i0, i1, j0, j1)\n\u001b[0m\u001b[0;32m    791\u001b[0m \u001b[1;33m\u001b[0m\u001b[0m\n\u001b[0;32m    792\u001b[0m         \u001b[0mshape\u001b[0m \u001b[1;33m=\u001b[0m \u001b[0mself\u001b[0m\u001b[1;33m.\u001b[0m\u001b[0m_swap\u001b[0m\u001b[1;33m(\u001b[0m\u001b[1;33m(\u001b[0m\u001b[0mi1\u001b[0m \u001b[1;33m-\u001b[0m \u001b[0mi0\u001b[0m\u001b[1;33m,\u001b[0m \u001b[0mj1\u001b[0m \u001b[1;33m-\u001b[0m \u001b[0mj0\u001b[0m\u001b[1;33m)\u001b[0m\u001b[1;33m)\u001b[0m\u001b[1;33m\u001b[0m\u001b[0m\n",
      "\u001b[1;31mKeyboardInterrupt\u001b[0m: "
     ]
    }
   ],
   "source": [
    "term_corpus_dict = get_tfidf_term_scores(feature_names)"
   ]
  },
  {
   "cell_type": "code",
   "execution_count": null,
   "metadata": {},
   "outputs": [],
   "source": [
    "def get_sorted_tfidf_scores(term_corpus_dict):\n",
    "    '''Returns sort words from highest score to lowest score'''\n",
    "    # sort indices from words wit highest score to lowest score\n",
    "    sortedIndices = np.argsort( list(term_corpus_dict.values()))[::-1]\n",
    "    # move words and score out of dicts and into arrays\n",
    "    termNames = np.array(list(term_corpus_dict.keys()))\n",
    "    scores = np.array(list(term_corpus_dict.values()))\n",
    "    # sort words and scores\n",
    "    termNames = termNames[sortedIndices]\n",
    "    scores = scores[sortedIndices]\n",
    "    \n",
    "    return termNames, scores"
   ]
  },
  {
   "cell_type": "code",
   "execution_count": null,
   "metadata": {},
   "outputs": [],
   "source": []
  },
  {
   "cell_type": "code",
   "execution_count": 11,
   "metadata": {},
   "outputs": [
    {
     "output_type": "stream",
     "name": "stdout",
     "text": "(0, 174233)\t1.9319018414241167\n  (0, 172214)\t1.1518604912390793\n  (0, 171425)\t2.357484479866792\n  (0, 171347)\t1.3644744720522428\n  (0, 171089)\t1.9531772885643186\n  (0, 170175)\t2.89470139912584\n  (0, 170067)\t1.9838591607346114\n  (0, 166256)\t2.5207960970667056\n  (0, 161724)\t1.7993576885236906\n  (0, 157999)\t2.0955803281721974\n  (0, 156872)\t1.2241177268053884\n  (0, 156738)\t1.3541360822072017\n  (0, 156478)\t3.465450558171347\n  (0, 156329)\t5.176745674974745\n  (0, 154793)\t5.611838550425022\n  (0, 153884)\t2.1052446825289675\n  (0, 153340)\t2.718075268080953\n  (0, 149231)\t10.077900980145937\n  (0, 146525)\t7.049804922089233\n  (0, 143082)\t2.113370844587067\n  (0, 138648)\t8.295020684949218\n  (0, 132111)\t2.8161376883094915\n  (0, 131410)\t5.590485425954452\n  (0, 130747)\t4.878157186542664\n  (0, 124259)\t4.538728554567848\n  :\t:\n  (27984, 12099)\t3.7202725995694035\n  (27984, 10879)\t17.91661192257222\n  (27984, 10658)\t5.015541362325685\n  (27984, 10452)\t23.21909308271249\n  (27984, 9758)\t4.669108311677146\n  (27984, 9739)\t2.529499658043928\n  (27984, 9362)\t2.978712836957775\n  (27984, 8704)\t3.800488071719797\n  (27984, 8056)\t3.8685994975789426\n  (27984, 7991)\t2.703052253775617\n  (27984, 7841)\t3.4348003670595566\n  (27984, 7761)\t6.308100333749234\n  (27984, 7558)\t4.460674766430482\n  (27984, 7381)\t5.827813612260619\n  (27984, 7293)\t4.717366865945506\n  (27984, 7160)\t22.1679361872168\n  (27984, 7157)\t13.457200315197618\n  (27984, 6598)\t4.121443459650326\n  (27984, 6056)\t8.020583839247458\n  (27984, 5902)\t4.359075581929654\n  (27984, 5668)\t6.948974591385186\n  (27984, 1819)\t5.944534956367027\n  (27984, 1816)\t3.14967048832634\n  (27984, 1812)\t3.5423383468330334\n  (27984, 1807)\t3.3586553194407576\n"
    }
   ],
   "source": [
    "# transformer = TfidfTransformer(norm=None)\n",
    "# tfidf_scores_transformed = transformer.fit_transform(counts)\n",
    "# print(tfidf_scores_transformed)"
   ]
  },
  {
   "cell_type": "code",
   "execution_count": null,
   "metadata": {},
   "outputs": [],
   "source": []
  }
 ]
}