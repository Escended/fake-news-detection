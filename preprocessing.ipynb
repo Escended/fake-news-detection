{
 "nbformat": 4,
 "nbformat_minor": 2,
 "metadata": {
  "language_info": {
   "name": "python",
   "codemirror_mode": {
    "name": "ipython",
    "version": 3
   },
   "version": "3.7.6-final"
  },
  "orig_nbformat": 2,
  "file_extension": ".py",
  "mimetype": "text/x-python",
  "name": "python",
  "npconvert_exporter": "python",
  "pygments_lexer": "ipython3",
  "version": 3,
  "kernelspec": {
   "name": "python37664bitbasecondad7e1c8a1a4144f60ae6d1eeb25c035c1",
   "display_name": "Python 3.7.6 64-bit ('base': conda)"
  }
 },
 "cells": [
  {
   "cell_type": "code",
   "execution_count": 110,
   "metadata": {},
   "outputs": [],
   "source": [
    "import pandas as pd \n",
    "import nltk\n",
    "import string\n",
    "\n",
    "from bs4 import BeautifulSoup\n",
    "from nltk.corpus import stopwords\n",
    "from nltk.tokenize import RegexpTokenizer\n",
    "from nltk.stem import WordNetLemmatizer\n",
    "from nltk.stem.porter import PorterStemmer"
   ]
  },
  {
   "cell_type": "code",
   "execution_count": 111,
   "metadata": {},
   "outputs": [],
   "source": [
    "df = pd.read_csv(\"C:\\\\Users\\\\Eli\\\\Desktop\\\\train.csv\", index_col=0) #index_col=0)"
   ]
  },
  {
   "cell_type": "code",
   "execution_count": 112,
   "metadata": {},
   "outputs": [
    {
     "output_type": "execute_result",
     "data": {
      "text/html": "<div>\n<style scoped>\n    .dataframe tbody tr th:only-of-type {\n        vertical-align: middle;\n    }\n\n    .dataframe tbody tr th {\n        vertical-align: top;\n    }\n\n    .dataframe thead th {\n        text-align: right;\n    }\n</style>\n<table border=\"1\" class=\"dataframe\">\n  <thead>\n    <tr style=\"text-align: right;\">\n      <th></th>\n      <th>title</th>\n      <th>author</th>\n      <th>text</th>\n      <th>label</th>\n    </tr>\n    <tr>\n      <th>id</th>\n      <th></th>\n      <th></th>\n      <th></th>\n      <th></th>\n    </tr>\n  </thead>\n  <tbody>\n    <tr>\n      <th>0</th>\n      <td>House Dem Aide: We Didn’t Even See Comey’s Let...</td>\n      <td>Darrell Lucus</td>\n      <td>House Dem Aide: We Didn’t Even See Comey’s Let...</td>\n      <td>1</td>\n    </tr>\n    <tr>\n      <th>1</th>\n      <td>FLYNN: Hillary Clinton, Big Woman on Campus - ...</td>\n      <td>Daniel J. Flynn</td>\n      <td>Ever get the feeling your life circles the rou...</td>\n      <td>0</td>\n    </tr>\n    <tr>\n      <th>2</th>\n      <td>Why the Truth Might Get You Fired</td>\n      <td>Consortiumnews.com</td>\n      <td>Why the Truth Might Get You Fired October 29, ...</td>\n      <td>1</td>\n    </tr>\n    <tr>\n      <th>3</th>\n      <td>15 Civilians Killed In Single US Airstrike Hav...</td>\n      <td>Jessica Purkiss</td>\n      <td>Videos 15 Civilians Killed In Single US Airstr...</td>\n      <td>1</td>\n    </tr>\n    <tr>\n      <th>4</th>\n      <td>Iranian woman jailed for fictional unpublished...</td>\n      <td>Howard Portnoy</td>\n      <td>Print \\nAn Iranian woman has been sentenced to...</td>\n      <td>1</td>\n    </tr>\n    <tr>\n      <th>...</th>\n      <td>...</td>\n      <td>...</td>\n      <td>...</td>\n      <td>...</td>\n    </tr>\n    <tr>\n      <th>20795</th>\n      <td>Rapper T.I.: Trump a ’Poster Child For White S...</td>\n      <td>Jerome Hudson</td>\n      <td>Rapper T. I. unloaded on black celebrities who...</td>\n      <td>0</td>\n    </tr>\n    <tr>\n      <th>20796</th>\n      <td>N.F.L. Playoffs: Schedule, Matchups and Odds -...</td>\n      <td>Benjamin Hoffman</td>\n      <td>When the Green Bay Packers lost to the Washing...</td>\n      <td>0</td>\n    </tr>\n    <tr>\n      <th>20797</th>\n      <td>Macy’s Is Said to Receive Takeover Approach by...</td>\n      <td>Michael J. de la Merced and Rachel Abrams</td>\n      <td>The Macy’s of today grew from the union of sev...</td>\n      <td>0</td>\n    </tr>\n    <tr>\n      <th>20798</th>\n      <td>NATO, Russia To Hold Parallel Exercises In Bal...</td>\n      <td>Alex Ansary</td>\n      <td>NATO, Russia To Hold Parallel Exercises In Bal...</td>\n      <td>1</td>\n    </tr>\n    <tr>\n      <th>20799</th>\n      <td>What Keeps the F-35 Alive</td>\n      <td>David Swanson</td>\n      <td>David Swanson is an author, activist, journa...</td>\n      <td>1</td>\n    </tr>\n  </tbody>\n</table>\n<p>20800 rows × 4 columns</p>\n</div>",
      "text/plain": "                                                   title  \\\nid                                                         \n0      House Dem Aide: We Didn’t Even See Comey’s Let...   \n1      FLYNN: Hillary Clinton, Big Woman on Campus - ...   \n2                      Why the Truth Might Get You Fired   \n3      15 Civilians Killed In Single US Airstrike Hav...   \n4      Iranian woman jailed for fictional unpublished...   \n...                                                  ...   \n20795  Rapper T.I.: Trump a ’Poster Child For White S...   \n20796  N.F.L. Playoffs: Schedule, Matchups and Odds -...   \n20797  Macy’s Is Said to Receive Takeover Approach by...   \n20798  NATO, Russia To Hold Parallel Exercises In Bal...   \n20799                          What Keeps the F-35 Alive   \n\n                                          author  \\\nid                                                 \n0                                  Darrell Lucus   \n1                                Daniel J. Flynn   \n2                             Consortiumnews.com   \n3                                Jessica Purkiss   \n4                                 Howard Portnoy   \n...                                          ...   \n20795                              Jerome Hudson   \n20796                           Benjamin Hoffman   \n20797  Michael J. de la Merced and Rachel Abrams   \n20798                                Alex Ansary   \n20799                              David Swanson   \n\n                                                    text  label  \nid                                                               \n0      House Dem Aide: We Didn’t Even See Comey’s Let...      1  \n1      Ever get the feeling your life circles the rou...      0  \n2      Why the Truth Might Get You Fired October 29, ...      1  \n3      Videos 15 Civilians Killed In Single US Airstr...      1  \n4      Print \\nAn Iranian woman has been sentenced to...      1  \n...                                                  ...    ...  \n20795  Rapper T. I. unloaded on black celebrities who...      0  \n20796  When the Green Bay Packers lost to the Washing...      0  \n20797  The Macy’s of today grew from the union of sev...      0  \n20798  NATO, Russia To Hold Parallel Exercises In Bal...      1  \n20799    David Swanson is an author, activist, journa...      1  \n\n[20800 rows x 4 columns]"
     },
     "metadata": {},
     "execution_count": 112
    }
   ],
   "source": [
    "df"
   ]
  },
  {
   "cell_type": "code",
   "execution_count": 113,
   "metadata": {},
   "outputs": [
    {
     "output_type": "execute_result",
     "data": {
      "text/plain": "'In these trying times, Jackie Mason is the Voice of Reason. [In this week’s exclusive clip for Breitbart News, Jackie discusses the looming threat of North Korea, and explains how President Donald Trump could win the support of the Hollywood left if the U. S. needs to strike first.  “If he decides to bomb them, the whole country will be behind him, because everybody will realize he had no choice and that was the only thing to do,” Jackie says. “Except the Hollywood left. They’ll get nauseous. ” “[Trump] could win the left over, they’ll fall in love with him in a minute. If he bombed them for a better reason,” Jackie explains. “Like if they have no transgender toilets. ” Jackie also says it’s no surprise that Hollywood celebrities didn’t support Trump’s strike on a Syrian airfield this month. “They were infuriated,” he says. “Because it might only save lives. That doesn’t mean anything to them. If it only saved the environment, or climate change! They’d be the happiest people in the world. ” Still, Jackie says he’s got nothing against Hollywood celebs. They’ve got a tough life in this country. Watch Jackie’s latest clip above.   Follow Daniel Nussbaum on Twitter: @dznussbaum'"
     },
     "metadata": {},
     "execution_count": 113
    }
   ],
   "source": [
    "df['text'][5]"
   ]
  },
  {
   "cell_type": "code",
   "execution_count": 114,
   "metadata": {},
   "outputs": [
    {
     "output_type": "stream",
     "name": "stdout",
     "text": "<class 'pandas.core.frame.DataFrame'>\nInt64Index: 20800 entries, 0 to 20799\nData columns (total 4 columns):\n #   Column  Non-Null Count  Dtype \n---  ------  --------------  ----- \n 0   title   20242 non-null  object\n 1   author  18843 non-null  object\n 2   text    20761 non-null  object\n 3   label   20800 non-null  int64 \ndtypes: int64(1), object(3)\nmemory usage: 1.4+ MB\n"
    }
   ],
   "source": [
    "#df = df.drop(df.columns[df.columns.str.contains('unnamed',case = False)],axis = 1, inplace = False)\n",
    "df.info()"
   ]
  },
  {
   "cell_type": "code",
   "execution_count": 120,
   "metadata": {},
   "outputs": [],
   "source": [
    "df = df.dropna()"
   ]
  },
  {
   "cell_type": "code",
   "execution_count": 121,
   "metadata": {},
   "outputs": [
    {
     "output_type": "stream",
     "name": "stdout",
     "text": "<class 'pandas.core.frame.DataFrame'>\nInt64Index: 18285 entries, 0 to 20799\nData columns (total 4 columns):\n #   Column  Non-Null Count  Dtype \n---  ------  --------------  ----- \n 0   title   18285 non-null  object\n 1   author  18285 non-null  object\n 2   text    18285 non-null  object\n 3   label   18285 non-null  object\ndtypes: object(4)\nmemory usage: 1.3+ MB\n"
    }
   ],
   "source": [
    "df.info()"
   ]
  },
  {
   "cell_type": "code",
   "execution_count": 115,
   "metadata": {},
   "outputs": [],
   "source": [
    "df['label'] = df['label'].replace({1:'Unreliable', 0:'reliable'}) "
   ]
  },
  {
   "cell_type": "code",
   "execution_count": 122,
   "metadata": {},
   "outputs": [],
   "source": [
    "#removing HTML data\n",
    "def remove_html(text):\n",
    "    soup = BeautifulSoup(text)\n",
    "    html_free = soup.get_text()\n",
    "    return html_free"
   ]
  },
  {
   "cell_type": "code",
   "execution_count": 123,
   "metadata": {},
   "outputs": [
    {
     "output_type": "execute_result",
     "data": {
      "text/html": "<div>\n<style scoped>\n    .dataframe tbody tr th:only-of-type {\n        vertical-align: middle;\n    }\n\n    .dataframe tbody tr th {\n        vertical-align: top;\n    }\n\n    .dataframe thead th {\n        text-align: right;\n    }\n</style>\n<table border=\"1\" class=\"dataframe\">\n  <thead>\n    <tr style=\"text-align: right;\">\n      <th></th>\n      <th>title</th>\n      <th>author</th>\n      <th>text</th>\n      <th>label</th>\n    </tr>\n    <tr>\n      <th>id</th>\n      <th></th>\n      <th></th>\n      <th></th>\n      <th></th>\n    </tr>\n  </thead>\n  <tbody>\n    <tr>\n      <th>0</th>\n      <td>House Dem Aide: We Didn’t Even See Comey’s Let...</td>\n      <td>Darrell Lucus</td>\n      <td>House Dem Aide: We Didn’t Even See Comey’s Let...</td>\n      <td>Unreliable</td>\n    </tr>\n    <tr>\n      <th>1</th>\n      <td>FLYNN: Hillary Clinton, Big Woman on Campus - ...</td>\n      <td>Daniel J. Flynn</td>\n      <td>Ever get the feeling your life circles the rou...</td>\n      <td>reliable</td>\n    </tr>\n    <tr>\n      <th>2</th>\n      <td>Why the Truth Might Get You Fired</td>\n      <td>Consortiumnews.com</td>\n      <td>Why the Truth Might Get You Fired October 29, ...</td>\n      <td>Unreliable</td>\n    </tr>\n    <tr>\n      <th>3</th>\n      <td>15 Civilians Killed In Single US Airstrike Hav...</td>\n      <td>Jessica Purkiss</td>\n      <td>Videos 15 Civilians Killed In Single US Airstr...</td>\n      <td>Unreliable</td>\n    </tr>\n    <tr>\n      <th>4</th>\n      <td>Iranian woman jailed for fictional unpublished...</td>\n      <td>Howard Portnoy</td>\n      <td>Print \\nAn Iranian woman has been sentenced to...</td>\n      <td>Unreliable</td>\n    </tr>\n  </tbody>\n</table>\n</div>",
      "text/plain": "                                                title              author  \\\nid                                                                          \n0   House Dem Aide: We Didn’t Even See Comey’s Let...       Darrell Lucus   \n1   FLYNN: Hillary Clinton, Big Woman on Campus - ...     Daniel J. Flynn   \n2                   Why the Truth Might Get You Fired  Consortiumnews.com   \n3   15 Civilians Killed In Single US Airstrike Hav...     Jessica Purkiss   \n4   Iranian woman jailed for fictional unpublished...      Howard Portnoy   \n\n                                                 text       label  \nid                                                                 \n0   House Dem Aide: We Didn’t Even See Comey’s Let...  Unreliable  \n1   Ever get the feeling your life circles the rou...    reliable  \n2   Why the Truth Might Get You Fired October 29, ...  Unreliable  \n3   Videos 15 Civilians Killed In Single US Airstr...  Unreliable  \n4   Print \\nAn Iranian woman has been sentenced to...  Unreliable  "
     },
     "metadata": {},
     "execution_count": 123
    }
   ],
   "source": [
    "df['text'] = df['text'].apply(lambda x: remove_html(x))\n",
    "df.head()"
   ]
  },
  {
   "cell_type": "code",
   "execution_count": 124,
   "metadata": {},
   "outputs": [],
   "source": [
    "def remove_punctuation(text):\n",
    "    no_punctuation = \"\".join([c for c in text if c not in string.punctuation])\n",
    "    return no_punctuation"
   ]
  },
  {
   "cell_type": "code",
   "execution_count": 126,
   "metadata": {},
   "outputs": [
    {
     "output_type": "execute_result",
     "data": {
      "text/plain": "id\n0        House Dem Aide We Didn’t Even See Comey’s Lett...\n1        Ever get the feeling your life circles the rou...\n2        Why the Truth Might Get You Fired October 29 2...\n3        Videos 15 Civilians Killed In Single US Airstr...\n4        Print \\nAn Iranian woman has been sentenced to...\n                               ...                        \n20795    Rapper T I unloaded on black celebrities who m...\n20796    When the Green Bay Packers lost to the Washing...\n20797    The Macy’s of today grew from the union of sev...\n20798    NATO Russia To Hold Parallel Exercises In Balk...\n20799    David Swanson is an author activist journalist...\nName: text, Length: 18285, dtype: object"
     },
     "metadata": {},
     "execution_count": 126
    }
   ],
   "source": [
    "df['text'] = df['text'].apply(lambda x: remove_punctuation(x))\n",
    "df['text']"
   ]
  },
  {
   "cell_type": "code",
   "execution_count": 127,
   "metadata": {},
   "outputs": [],
   "source": [
    "tokenizer = RegexpTokenizer(r'\\w+')"
   ]
  },
  {
   "cell_type": "code",
   "execution_count": 128,
   "metadata": {},
   "outputs": [
    {
     "output_type": "execute_result",
     "data": {
      "text/plain": "id\n0     [house, dem, aide, we, didn, t, even, see, com...\n1     [ever, get, the, feeling, your, life, circles,...\n2     [why, the, truth, might, get, you, fired, octo...\n3     [videos, 15, civilians, killed, in, single, us...\n4     [print, an, iranian, woman, has, been, sentenc...\n5     [in, these, trying, times, jackie, mason, is, ...\n7     [paris, france, chose, an, idealistic, traditi...\n9     [a, week, before, michael, t, flynn, resigned,...\n10    [organizing, for, action, the, activist, group...\n11    [the, bbc, produced, spoof, on, the, real, hou...\n12    [the, mystery, surrounding, the, third, reich,...\n13    [clinton, campaign, demands, fbi, affirm, trum...\n14    [yes, there, are, paid, government, trolls, on...\n15    [guillermo, barros, schelotto, was, not, the, ...\n16    [the, scandal, engulfing, wells, fargo, topple...\n17    [a, caddo, nation, tribal, leader, has, just, ...\n18    [fbi, closes, in, on, hillary, posted, on, hom...\n19    [wednesday, after, donald, trump, s, press, co...\n21    [screenwriter, ryan, murphy, who, has, produce...\n22    [sunday, on, msnbc, s, am, joy, actor, and, di...\nName: text, dtype: object"
     },
     "metadata": {},
     "execution_count": 128
    }
   ],
   "source": [
    "df['text'] = df['text'].apply(lambda x: tokenizer.tokenize(x.lower()))\n",
    "df['text'].head(20)"
   ]
  },
  {
   "cell_type": "code",
   "execution_count": 129,
   "metadata": {},
   "outputs": [],
   "source": [
    "def remove_stopwords(text):\n",
    "    words = [w for w in text if w not in stopwords.words('english')]\n",
    "    return words"
   ]
  },
  {
   "cell_type": "code",
   "execution_count": 131,
   "metadata": {},
   "outputs": [
    {
     "output_type": "execute_result",
     "data": {
      "text/plain": "id\n0     [house, dem, aide, even, see, comey, letter, j...\n1     [ever, get, feeling, life, circles, roundabout...\n2     [truth, might, get, fired, october, 29, 2016, ...\n3     [videos, 15, civilians, killed, single, us, ai...\n4     [print, iranian, woman, sentenced, six, years,...\n5     [trying, times, jackie, mason, voice, reason, ...\n7     [paris, france, chose, idealistic, traditional...\n9     [week, michael, flynn, resigned, national, sec...\n10    [organizing, action, activist, group, morphed,...\n11    [bbc, produced, spoof, real, housewives, tv, p...\n12    [mystery, surrounding, third, reich, nazi, ger...\n13    [clinton, campaign, demands, fbi, affirm, trum...\n14    [yes, paid, government, trolls, social, media,...\n15    [guillermo, barros, schelotto, first, argentin...\n16    [scandal, engulfing, wells, fargo, toppled, ch...\n17    [caddo, nation, tribal, leader, freed, spendin...\n18    [fbi, closes, hillary, posted, home, headlines...\n19    [wednesday, donald, trump, press, conference, ...\n21    [screenwriter, ryan, murphy, produced, fx, ser...\n22    [sunday, msnbc, joy, actor, director, rob, rei...\nName: text, dtype: object"
     },
     "metadata": {},
     "execution_count": 131
    }
   ],
   "source": [
    "df['text'] = df['text'].apply(lambda x: remove_stopwords(x))\n",
    "df['text'].head(20)"
   ]
  },
  {
   "cell_type": "code",
   "execution_count": 132,
   "metadata": {},
   "outputs": [],
   "source": [
    "stemmer = PorterStemmer()"
   ]
  },
  {
   "cell_type": "code",
   "execution_count": 133,
   "metadata": {},
   "outputs": [],
   "source": [
    "def word_stemmer(text):\n",
    "    stem_text = \" \".join([stemmer.stem(i) for i in text])\n",
    "    return stem_text"
   ]
  },
  {
   "cell_type": "code",
   "execution_count": 134,
   "metadata": {},
   "outputs": [
    {
     "output_type": "execute_result",
     "data": {
      "text/plain": "id\n20779    mani part world christian gather celebr christ...\n20780    earli oct 6 erin awaken sound babi cri later t...\n20781    brandon turbevil dea announc back f decis go e...\n20782    home headlin world news fix nbc affili acciden...\n20783    good morn need know south korean court announc...\n20784    finian cunningham written extens intern affair...\n20785    first sentenc congress obamacar repeal read sh...\n20787    former deputi attorney gener salli yate declin...\n20788    googl pinterest digg linkedin reddit stumbleup...\n20789    senat major leader mitch mcconnel r ky recent ...\n20790    u ambassador unit nation nikki haley blast new...\n20791    lawyer kept hillari campaign chief jail doj hi...\n20792    two suicid bomber attack bu station jakarta we...\n20793    share although vandal thought cool destroy don...\n20794    donald trump took twitter friday prais vladimi...\n20795    rapper unload black celebr met donald trump el...\n20796    green bay packer lost washington redskin week ...\n20797    maci today grew union sever great name america...\n20798    nato russia hold parallel exercis balkan 11022...\n20799    david swanson author activist journalist radio...\nName: text, dtype: object"
     },
     "metadata": {},
     "execution_count": 134
    }
   ],
   "source": [
    "df['text'] = df['text'].apply(lambda x: word_stemmer(x))\n",
    "df['text'].tail(20)"
   ]
  },
  {
   "cell_type": "code",
   "execution_count": 135,
   "metadata": {},
   "outputs": [],
   "source": [
    "df.to_csv(\"C:\\\\Users\\\\Eli\\\\Desktop\\\\news_processed.csv\")"
   ]
  }
 ]
}