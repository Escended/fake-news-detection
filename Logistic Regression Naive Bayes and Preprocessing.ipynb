{
 "cells": [
  {
   "cell_type": "code",
<<<<<<< Updated upstream
   "execution_count": 1,
=======
   "execution_count": 37,
>>>>>>> Stashed changes
   "metadata": {
    "pycharm": {
     "is_executing": false
    }
   },
   "outputs": [
    {
     "data": {
      "text/html": [
       "<div>\n",
       "<style scoped>\n",
       "    .dataframe tbody tr th:only-of-type {\n",
       "        vertical-align: middle;\n",
       "    }\n",
       "\n",
       "    .dataframe tbody tr th {\n",
       "        vertical-align: top;\n",
       "    }\n",
       "\n",
       "    .dataframe thead th {\n",
       "        text-align: right;\n",
       "    }\n",
       "</style>\n",
       "<table border=\"1\" class=\"dataframe\">\n",
       "  <thead>\n",
       "    <tr style=\"text-align: right;\">\n",
       "      <th></th>\n",
       "      <th>title</th>\n",
       "      <th>content</th>\n",
       "      <th>publication</th>\n",
       "      <th>label</th>\n",
       "    </tr>\n",
       "  </thead>\n",
       "  <tbody>\n",
       "    <tr>\n",
       "      <th>0</th>\n",
       "      <td>Muslims BUSTED: They Stole Millions In Gov’t B...</td>\n",
       "      <td>Print They should pay all the back all the mon...</td>\n",
       "      <td>100percentfedup</td>\n",
       "      <td>fake</td>\n",
       "    </tr>\n",
       "    <tr>\n",
       "      <th>1</th>\n",
       "      <td>Re: Why Did Attorney General Loretta Lynch Ple...</td>\n",
       "      <td>Why Did Attorney General Loretta Lynch Plead T...</td>\n",
       "      <td>100percentfedup</td>\n",
       "      <td>fake</td>\n",
       "    </tr>\n",
       "    <tr>\n",
       "      <th>2</th>\n",
       "      <td>BREAKING: Weiner Cooperating With FBI On Hilla...</td>\n",
       "      <td>Red State : \\nFox News Sunday reported this mo...</td>\n",
       "      <td>100percentfedup</td>\n",
       "      <td>fake</td>\n",
       "    </tr>\n",
       "    <tr>\n",
       "      <th>3</th>\n",
       "      <td>PIN DROP SPEECH BY FATHER OF DAUGHTER Kidnappe...</td>\n",
       "      <td>Email Kayla Mueller was a prisoner and torture...</td>\n",
       "      <td>100percentfedup</td>\n",
       "      <td>fake</td>\n",
       "    </tr>\n",
       "    <tr>\n",
       "      <th>4</th>\n",
       "      <td>FANTASTIC! TRUMP'S 7 POINT PLAN To Reform Heal...</td>\n",
       "      <td>Email HEALTHCARE REFORM TO MAKE AMERICA GREAT ...</td>\n",
       "      <td>100percentfedup</td>\n",
       "      <td>fake</td>\n",
       "    </tr>\n",
       "    <tr>\n",
       "      <th>...</th>\n",
       "      <td>...</td>\n",
       "      <td>...</td>\n",
       "      <td>...</td>\n",
       "      <td>...</td>\n",
       "    </tr>\n",
       "    <tr>\n",
       "      <th>15707</th>\n",
       "      <td>An eavesdropping Uber driver saved his 16-year...</td>\n",
       "      <td>Uber driver Keith Avila picked up a p...</td>\n",
       "      <td>Washington Post</td>\n",
       "      <td>real</td>\n",
       "    </tr>\n",
       "    <tr>\n",
       "      <th>15708</th>\n",
       "      <td>Plane carrying six people returning from a Cav...</td>\n",
       "      <td>Crews on Friday continued to search L...</td>\n",
       "      <td>Washington Post</td>\n",
       "      <td>real</td>\n",
       "    </tr>\n",
       "    <tr>\n",
       "      <th>15709</th>\n",
       "      <td>After helping a fraction of homeowners expecte...</td>\n",
       "      <td>When the Obama administration announced a...</td>\n",
       "      <td>Washington Post</td>\n",
       "      <td>real</td>\n",
       "    </tr>\n",
       "    <tr>\n",
       "      <th>15710</th>\n",
       "      <td>Yes, this is real: Michigan just banned bannin...</td>\n",
       "      <td>This story has been updated. A new law in...</td>\n",
       "      <td>Washington Post</td>\n",
       "      <td>real</td>\n",
       "    </tr>\n",
       "    <tr>\n",
       "      <th>15711</th>\n",
       "      <td>What happened in Washington state after voters...</td>\n",
       "      <td>The nation’s first recreational marijuana...</td>\n",
       "      <td>Washington Post</td>\n",
       "      <td>real</td>\n",
       "    </tr>\n",
       "  </tbody>\n",
       "</table>\n",
       "<p>28711 rows × 4 columns</p>\n",
       "</div>"
      ],
      "text/plain": [
       "                                                   title  \\\n",
       "0      Muslims BUSTED: They Stole Millions In Gov’t B...   \n",
       "1      Re: Why Did Attorney General Loretta Lynch Ple...   \n",
       "2      BREAKING: Weiner Cooperating With FBI On Hilla...   \n",
       "3      PIN DROP SPEECH BY FATHER OF DAUGHTER Kidnappe...   \n",
       "4      FANTASTIC! TRUMP'S 7 POINT PLAN To Reform Heal...   \n",
       "...                                                  ...   \n",
       "15707  An eavesdropping Uber driver saved his 16-year...   \n",
       "15708  Plane carrying six people returning from a Cav...   \n",
       "15709  After helping a fraction of homeowners expecte...   \n",
       "15710  Yes, this is real: Michigan just banned bannin...   \n",
       "15711  What happened in Washington state after voters...   \n",
       "\n",
       "                                                 content      publication  \\\n",
       "0      Print They should pay all the back all the mon...  100percentfedup   \n",
       "1      Why Did Attorney General Loretta Lynch Plead T...  100percentfedup   \n",
       "2      Red State : \\nFox News Sunday reported this mo...  100percentfedup   \n",
       "3      Email Kayla Mueller was a prisoner and torture...  100percentfedup   \n",
       "4      Email HEALTHCARE REFORM TO MAKE AMERICA GREAT ...  100percentfedup   \n",
       "...                                                  ...              ...   \n",
       "15707           Uber driver Keith Avila picked up a p...  Washington Post   \n",
       "15708           Crews on Friday continued to search L...  Washington Post   \n",
       "15709       When the Obama administration announced a...  Washington Post   \n",
       "15710       This story has been updated. A new law in...  Washington Post   \n",
       "15711       The nation’s first recreational marijuana...  Washington Post   \n",
       "\n",
       "      label  \n",
       "0      fake  \n",
       "1      fake  \n",
       "2      fake  \n",
       "3      fake  \n",
       "4      fake  \n",
       "...     ...  \n",
       "15707  real  \n",
       "15708  real  \n",
       "15709  real  \n",
       "15710  real  \n",
       "15711  real  \n",
       "\n",
       "[28711 rows x 4 columns]"
      ]
     },
<<<<<<< Updated upstream
     "execution_count": 1,
=======
     "execution_count": 37,
>>>>>>> Stashed changes
     "metadata": {},
     "output_type": "execute_result"
    }
   ],
   "source": [
    "import pandas as pd \n",
<<<<<<< Updated upstream
=======
    "from wordcloud import WordCloud, ImageColorGenerator, STOPWORDS\n",
    "import matplotlib.pyplot as plt\n",
    "import logging\n",
>>>>>>> Stashed changes
    "\n",
    "df = pd.read_csv(\"C:\\\\Users\\\\Eli\\\\Desktop\\\\news_dataset.csv\", index_col=0)\n",
    "df"
   ]
  },
  {
   "cell_type": "code",
<<<<<<< Updated upstream
   "execution_count": 64,
=======
   "execution_count": 30,
   "metadata": {},
   "outputs": [
    {
     "data": {
      "text/plain": [
       "12999"
      ]
     },
     "execution_count": 30,
     "metadata": {},
     "output_type": "execute_result"
    }
   ],
   "source": [
    "len(df[df['label'].str.contains('fake')])"
   ]
  },
  {
   "cell_type": "code",
   "execution_count": 31,
   "metadata": {},
   "outputs": [
    {
     "data": {
      "text/plain": [
       "15712"
      ]
     },
     "execution_count": 31,
     "metadata": {},
     "output_type": "execute_result"
    }
   ],
   "source": [
    "len(df[df['label'].str.contains('real')])"
   ]
  },
  {
   "cell_type": "code",
   "execution_count": 32,
   "metadata": {},
   "outputs": [
    {
     "name": "stdout",
     "output_type": "stream",
     "text": [
      "0        Print They should pay all the back all the mon...\n",
      "1        Why Did Attorney General Loretta Lynch Plead T...\n",
      "2        Red State : \\nFox News Sunday reported this mo...\n",
      "3        Email Kayla Mueller was a prisoner and torture...\n",
      "4        Email HEALTHCARE REFORM TO MAKE AMERICA GREAT ...\n",
      "                               ...                        \n",
      "15707             Uber driver Keith Avila picked up a p...\n",
      "15708             Crews on Friday continued to search L...\n",
      "15709         When the Obama administration announced a...\n",
      "15710         This story has been updated. A new law in...\n",
      "15711         The nation’s first recreational marijuana...\n",
      "Name: content, Length: 28711, dtype: object\n"
     ]
    }
   ],
   "source": [
    "print(df['content'])"
   ]
  },
  {
   "cell_type": "code",
   "execution_count": 38,
>>>>>>> Stashed changes
   "metadata": {
    "pycharm": {
     "is_executing": false
    }
   },
   "outputs": [
    {
     "data": {
      "text/html": [
       "<div>\n",
       "<style scoped>\n",
       "    .dataframe tbody tr th:only-of-type {\n",
       "        vertical-align: middle;\n",
       "    }\n",
       "\n",
       "    .dataframe tbody tr th {\n",
       "        vertical-align: top;\n",
       "    }\n",
       "\n",
       "    .dataframe thead th {\n",
       "        text-align: right;\n",
       "    }\n",
       "</style>\n",
       "<table border=\"1\" class=\"dataframe\">\n",
       "  <thead>\n",
       "    <tr style=\"text-align: right;\">\n",
       "      <th></th>\n",
       "      <th>title</th>\n",
       "      <th>content</th>\n",
       "      <th>publication</th>\n",
       "      <th>label</th>\n",
       "    </tr>\n",
       "  </thead>\n",
       "  <tbody>\n",
       "    <tr>\n",
       "      <th>0</th>\n",
       "      <td>Muslims BUSTED: They Stole Millions In Gov’t B...</td>\n",
       "      <td>Print They should pay all the back all the mon...</td>\n",
       "      <td>100percentfedup</td>\n",
       "      <td>fake</td>\n",
       "    </tr>\n",
       "    <tr>\n",
       "      <th>1</th>\n",
       "      <td>Re: Why Did Attorney General Loretta Lynch Ple...</td>\n",
       "      <td>Why Did Attorney General Loretta Lynch Plead T...</td>\n",
       "      <td>100percentfedup</td>\n",
       "      <td>fake</td>\n",
       "    </tr>\n",
       "    <tr>\n",
       "      <th>2</th>\n",
       "      <td>BREAKING: Weiner Cooperating With FBI On Hilla...</td>\n",
       "      <td>Red State : \\nFox News Sunday reported this mo...</td>\n",
       "      <td>100percentfedup</td>\n",
       "      <td>fake</td>\n",
       "    </tr>\n",
       "    <tr>\n",
       "      <th>3</th>\n",
       "      <td>PIN DROP SPEECH BY FATHER OF DAUGHTER Kidnappe...</td>\n",
       "      <td>Email Kayla Mueller was a prisoner and torture...</td>\n",
       "      <td>100percentfedup</td>\n",
       "      <td>fake</td>\n",
       "    </tr>\n",
       "    <tr>\n",
       "      <th>4</th>\n",
       "      <td>FANTASTIC! TRUMP'S 7 POINT PLAN To Reform Heal...</td>\n",
       "      <td>Email HEALTHCARE REFORM TO MAKE AMERICA GREAT ...</td>\n",
       "      <td>100percentfedup</td>\n",
       "      <td>fake</td>\n",
       "    </tr>\n",
       "    <tr>\n",
       "      <th>...</th>\n",
       "      <td>...</td>\n",
       "      <td>...</td>\n",
       "      <td>...</td>\n",
       "      <td>...</td>\n",
       "    </tr>\n",
       "    <tr>\n",
       "      <th>27980</th>\n",
       "      <td>An eavesdropping Uber driver saved his 16-year...</td>\n",
       "      <td>Uber driver Keith Avila picked up a p...</td>\n",
       "      <td>Washington Post</td>\n",
       "      <td>real</td>\n",
       "    </tr>\n",
       "    <tr>\n",
       "      <th>27981</th>\n",
       "      <td>Plane carrying six people returning from a Cav...</td>\n",
       "      <td>Crews on Friday continued to search L...</td>\n",
       "      <td>Washington Post</td>\n",
       "      <td>real</td>\n",
       "    </tr>\n",
       "    <tr>\n",
       "      <th>27982</th>\n",
       "      <td>After helping a fraction of homeowners expecte...</td>\n",
       "      <td>When the Obama administration announced a...</td>\n",
       "      <td>Washington Post</td>\n",
       "      <td>real</td>\n",
       "    </tr>\n",
       "    <tr>\n",
       "      <th>27983</th>\n",
       "      <td>Yes, this is real: Michigan just banned bannin...</td>\n",
       "      <td>This story has been updated. A new law in...</td>\n",
       "      <td>Washington Post</td>\n",
       "      <td>real</td>\n",
       "    </tr>\n",
       "    <tr>\n",
       "      <th>27984</th>\n",
       "      <td>What happened in Washington state after voters...</td>\n",
       "      <td>The nation’s first recreational marijuana...</td>\n",
       "      <td>Washington Post</td>\n",
       "      <td>real</td>\n",
       "    </tr>\n",
       "  </tbody>\n",
       "</table>\n",
       "<p>27985 rows × 4 columns</p>\n",
       "</div>"
      ],
      "text/plain": [
       "                                                   title  \\\n",
       "0      Muslims BUSTED: They Stole Millions In Gov’t B...   \n",
       "1      Re: Why Did Attorney General Loretta Lynch Ple...   \n",
       "2      BREAKING: Weiner Cooperating With FBI On Hilla...   \n",
       "3      PIN DROP SPEECH BY FATHER OF DAUGHTER Kidnappe...   \n",
       "4      FANTASTIC! TRUMP'S 7 POINT PLAN To Reform Heal...   \n",
       "...                                                  ...   \n",
       "27980  An eavesdropping Uber driver saved his 16-year...   \n",
       "27981  Plane carrying six people returning from a Cav...   \n",
       "27982  After helping a fraction of homeowners expecte...   \n",
       "27983  Yes, this is real: Michigan just banned bannin...   \n",
       "27984  What happened in Washington state after voters...   \n",
       "\n",
       "                                                 content      publication  \\\n",
       "0      Print They should pay all the back all the mon...  100percentfedup   \n",
       "1      Why Did Attorney General Loretta Lynch Plead T...  100percentfedup   \n",
       "2      Red State : \\nFox News Sunday reported this mo...  100percentfedup   \n",
       "3      Email Kayla Mueller was a prisoner and torture...  100percentfedup   \n",
       "4      Email HEALTHCARE REFORM TO MAKE AMERICA GREAT ...  100percentfedup   \n",
       "...                                                  ...              ...   \n",
       "27980           Uber driver Keith Avila picked up a p...  Washington Post   \n",
       "27981           Crews on Friday continued to search L...  Washington Post   \n",
       "27982       When the Obama administration announced a...  Washington Post   \n",
       "27983       This story has been updated. A new law in...  Washington Post   \n",
       "27984       The nation’s first recreational marijuana...  Washington Post   \n",
       "\n",
       "      label  \n",
       "0      fake  \n",
       "1      fake  \n",
       "2      fake  \n",
       "3      fake  \n",
       "4      fake  \n",
       "...     ...  \n",
       "27980  real  \n",
       "27981  real  \n",
       "27982  real  \n",
       "27983  real  \n",
       "27984  real  \n",
       "\n",
       "[27985 rows x 4 columns]"
      ]
     },
<<<<<<< Updated upstream
     "execution_count": 64,
=======
     "execution_count": 38,
>>>>>>> Stashed changes
     "metadata": {},
     "output_type": "execute_result"
    }
   ],
   "source": [
    "#drop NaN values\n",
    "df = df.dropna()\n",
    "#reset index column after removing NaN values\n",
    "df.reset_index(drop=True, inplace= True)\n",
    "df "
   ]
  },
  {
   "cell_type": "code",
<<<<<<< Updated upstream
   "execution_count": 1,
=======
   "execution_count": 39,
   "metadata": {},
   "outputs": [
    {
     "data": {
      "text/plain": [
       "12273"
      ]
     },
     "execution_count": 39,
     "metadata": {},
     "output_type": "execute_result"
    }
   ],
   "source": [
    "len(df[df['label'].str.contains('fake')])"
   ]
  },
  {
   "cell_type": "code",
   "execution_count": 53,
   "metadata": {},
   "outputs": [
    {
     "name": "stdout",
     "output_type": "stream",
     "text": [
      "There are 50023065 words in the combination of all fake articles.\n"
     ]
    },
    {
     "data": {
      "image/png": "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\n",
      "text/plain": [
       "<Figure size 432x288 with 1 Axes>"
      ]
     },
     "metadata": {
      "needs_background": "light"
     },
     "output_type": "display_data"
    },
    {
     "data": {
      "text/plain": [
       "<wordcloud.wordcloud.WordCloud at 0x1b41de76a88>"
      ]
     },
     "execution_count": 53,
     "metadata": {},
     "output_type": "execute_result"
    }
   ],
   "source": [
    "stopwords = set(STOPWORDS)\n",
    "stopwords.add(\"wa\")\n",
    "stopwords.add(\"hi\")\n",
    "stopwords.add(\"ha\")\n",
    "text = \" \".join(content for content in df['content'][:12273])\n",
    "text = text.lower()\n",
    "print (\"There are {} words in the combination of all fake articles.\".format(len(text)))\n",
    "wordcloud = WordCloud(stopwords = stopwords,max_words=60, background_color=\"white\").generate(text)\n",
    "plt.imshow(wordcloud, interpolation='bilinear')\n",
    "plt.axis(\"off\")\n",
    "plt.show()\n",
    "wordcloud.to_file(\"wordClouds/first_fake.png\")"
   ]
  },
  {
   "cell_type": "code",
   "execution_count": 54,
   "metadata": {},
   "outputs": [
    {
     "name": "stdout",
     "output_type": "stream",
     "text": [
      "There are 50023065 words in the combination of all fake articles.\n"
     ]
    },
    {
     "data": {
      "image/png": "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\n",
      "text/plain": [
       "<Figure size 432x288 with 1 Axes>"
      ]
     },
     "metadata": {
      "needs_background": "light"
     },
     "output_type": "display_data"
    },
    {
     "data": {
      "text/plain": [
       "<wordcloud.wordcloud.WordCloud at 0x1b48253d2c8>"
      ]
     },
     "execution_count": 54,
     "metadata": {},
     "output_type": "execute_result"
    }
   ],
   "source": [
    "text2 = \" \".join(content for content in df['content'][12273:])\n",
    "text2 = text.lower()\n",
    "print (\"There are {} words in the combination of all fake articles.\".format(len(text)))\n",
    "wordcloud = WordCloud(stopwords = stopwords,max_words=60, background_color=\"white\").generate(text2)\n",
    "plt.imshow(wordcloud, interpolation='bilinear')\n",
    "plt.axis(\"off\")\n",
    "plt.show()\n",
    "wordcloud.to_file(\"wordClouds/first_real.png\")"
   ]
  },
  {
   "cell_type": "code",
   "execution_count": 7,
>>>>>>> Stashed changes
   "metadata": {
    "pycharm": {
     "is_executing": false
    }
   },
   "outputs": [],
   "source": [
    "#df['label'].value_counts().plot(kind='bar')"
   ]
  },
  {
   "cell_type": "code",
<<<<<<< Updated upstream
   "execution_count": 66,
=======
   "execution_count": 7,
   "metadata": {},
   "outputs": [
    {
     "data": {
      "text/plain": [
       "0        Print They should pay all the back all the mon...\n",
       "1        Why Did Attorney General Loretta Lynch Plead T...\n",
       "2        Red State : \\nFox News Sunday reported this mo...\n",
       "3        Email Kayla Mueller was a prisoner and torture...\n",
       "4        Email HEALTHCARE REFORM TO MAKE AMERICA GREAT ...\n",
       "                               ...                        \n",
       "27980             Uber driver Keith Avila picked up a p...\n",
       "27981             Crews on Friday continued to search L...\n",
       "27982         When the Obama administration announced a...\n",
       "27983         This story has been updated. A new law in...\n",
       "27984         The nation’s first recreational marijuana...\n",
       "Name: content, Length: 27985, dtype: object"
      ]
     },
     "execution_count": 7,
     "metadata": {},
     "output_type": "execute_result"
    }
   ],
   "source": [
    "df['content']"
   ]
  },
  {
   "cell_type": "code",
   "execution_count": 8,
>>>>>>> Stashed changes
   "metadata": {
    "pycharm": {
     "is_executing": false
    }
   },
   "outputs": [],
   "source": [
    "#text preprocessing imports\n",
    "import nltk\n",
    "import string\n",
    "\n",
    "from bs4 import BeautifulSoup\n",
    "from nltk.corpus import stopwords\n",
    "from nltk.tokenize import RegexpTokenizer\n",
    "from nltk.stem import WordNetLemmatizer\n",
    "from nltk.stem.porter import PorterStemmer\n",
    "from nltk.tokenize import word_tokenize"
   ]
  },
  {
   "cell_type": "code",
<<<<<<< Updated upstream
   "execution_count": 67,
=======
   "execution_count": 9,
>>>>>>> Stashed changes
   "metadata": {
    "pycharm": {
     "is_executing": false
    }
   },
   "outputs": [],
   "source": [
    "#Remove HTML data after the text was scraped \n",
    "def remove_html(text):\n",
    "    soup = BeautifulSoup(text)\n",
    "    html_free = soup.get_text()\n",
    "    return html_free"
   ]
  },
  {
   "cell_type": "code",
<<<<<<< Updated upstream
   "execution_count": 68,
=======
   "execution_count": 10,
>>>>>>> Stashed changes
   "metadata": {
    "pycharm": {
     "is_executing": false
    }
   },
   "outputs": [],
   "source": [
    "#remove punctuation that we dont want to have tokenized\n",
    "def remove_punctuation(text):\n",
    "    no_punctuation = \"\".join([c for c in text if c not in string.punctuation])\n",
    "    return no_punctuation"
   ]
  },
  {
   "cell_type": "code",
<<<<<<< Updated upstream
   "execution_count": 69,
=======
   "execution_count": 11,
>>>>>>> Stashed changes
   "metadata": {
    "pycharm": {
     "is_executing": false
    }
   },
   "outputs": [],
   "source": [
    "#tokenize each row using regex tokenizer, creating a list of words at every white space '\\w' \n",
    "tokenizer = RegexpTokenizer(r'\\w+')"
   ]
  },
  {
   "cell_type": "code",
<<<<<<< Updated upstream
   "execution_count": 70,
=======
   "execution_count": 12,
>>>>>>> Stashed changes
   "metadata": {
    "pycharm": {
     "is_executing": false
    }
   },
   "outputs": [],
   "source": [
    "#remove stopwords such as 'this' and 'in' as these would be the most common words when extracting features \n",
    "def remove_stopwords(text):\n",
    "    words = [w for w in text if w not in stopwords.words('english')]\n",
    "    return words"
   ]
  },
  {
   "cell_type": "code",
<<<<<<< Updated upstream
   "execution_count": 71,
=======
   "execution_count": 13,
>>>>>>> Stashed changes
   "metadata": {
    "pycharm": {
     "is_executing": false
    }
   },
   "outputs": [],
   "source": [
    "stemmer = PorterStemmer()"
   ]
  },
  {
   "cell_type": "code",
<<<<<<< Updated upstream
   "execution_count": 72,
=======
   "execution_count": 14,
>>>>>>> Stashed changes
   "metadata": {
    "pycharm": {
     "is_executing": false
    }
   },
   "outputs": [],
   "source": [
    "#normalize each word by removing the commoner morphological and inflexional endings\n",
    "def word_stemmer(text):\n",
    "    stem_text = \" \".join([stemmer.stem(i) for i in text])\n",
    "    return stem_text "
   ]
  },
  {
   "cell_type": "code",
<<<<<<< Updated upstream
   "execution_count": 73,
=======
   "execution_count": 15,
>>>>>>> Stashed changes
   "metadata": {
    "pycharm": {
     "is_executing": false
    }
   },
   "outputs": [],
   "source": [
    "#group all the functions into one function call that we can use on individual paragraphs later and to preprocess the dataset\n",
    "def preprocess_text(x):\n",
    "    x = remove_html(x)\n",
    "    x = remove_punctuation(x)\n",
    "    x = tokenizer.tokenize(x.lower())\n",
    "    x = remove_stopwords(x)\n",
    "    x = word_stemmer(x)\n",
    "    return x"
   ]
  },
  {
   "cell_type": "code",
   "execution_count": 74,
   "metadata": {
    "pycharm": {
     "is_executing": true
    }
   },
   "outputs": [],
   "source": [
    "#preprocess the entire 'content' column\n",
    "df['content'] = df['content'].apply(lambda x: preprocess_text(x))"
   ]
  },
  {
   "cell_type": "code",
<<<<<<< Updated upstream
   "execution_count": 75,
=======
   "execution_count": 16,
>>>>>>> Stashed changes
   "metadata": {
    "pycharm": {
     "is_executing": true
    }
   },
   "outputs": [
    {
     "data": {
      "text/plain": [
       "0        Print They should pay all the back all the mon...\n",
       "1        Why Did Attorney General Loretta Lynch Plead T...\n",
       "2        Red State : \\nFox News Sunday reported this mo...\n",
       "3        Email Kayla Mueller was a prisoner and torture...\n",
       "4        Email HEALTHCARE REFORM TO MAKE AMERICA GREAT ...\n",
       "                               ...                        \n",
       "27980             Uber driver Keith Avila picked up a p...\n",
       "27981             Crews on Friday continued to search L...\n",
       "27982         When the Obama administration announced a...\n",
       "27983         This story has been updated. A new law in...\n",
       "27984         The nation’s first recreational marijuana...\n",
       "Name: content, Length: 27985, dtype: object"
      ]
     },
<<<<<<< Updated upstream
     "execution_count": 75,
=======
     "execution_count": 16,
>>>>>>> Stashed changes
     "metadata": {},
     "output_type": "execute_result"
    }
   ],
   "source": [
    "#checking to see if it worked on the entire dataframe\n",
    "df['content']"
   ]
  },
  {
   "cell_type": "code",
   "execution_count": 77,
   "metadata": {
    "pycharm": {
     "is_executing": true
    }
   },
   "outputs": [],
   "source": [
    "#save the processed dataset onto a new file for later use.\n",
    "df.to_csv(\"C:\\\\Users\\\\Eli\\\\Desktop\\\\processed_news_dataset.csv\")"
   ]
  },
  {
   "cell_type": "code",
<<<<<<< Updated upstream
   "execution_count": 21,
=======
   "execution_count": 17,
>>>>>>> Stashed changes
   "metadata": {
    "pycharm": {
     "is_executing": false,
     "name": "#%%\n"
    }
   },
   "outputs": [
    {
     "data": {
      "text/html": [
       "<div>\n",
       "<style scoped>\n",
       "    .dataframe tbody tr th:only-of-type {\n",
       "        vertical-align: middle;\n",
       "    }\n",
       "\n",
       "    .dataframe tbody tr th {\n",
       "        vertical-align: top;\n",
       "    }\n",
       "\n",
       "    .dataframe thead th {\n",
       "        text-align: right;\n",
       "    }\n",
       "</style>\n",
       "<table border=\"1\" class=\"dataframe\">\n",
       "  <thead>\n",
       "    <tr style=\"text-align: right;\">\n",
       "      <th></th>\n",
       "      <th>title</th>\n",
       "      <th>content</th>\n",
       "      <th>publication</th>\n",
       "      <th>label</th>\n",
       "    </tr>\n",
       "  </thead>\n",
       "  <tbody>\n",
       "    <tr>\n",
       "      <th>0</th>\n",
       "      <td>Muslims BUSTED: They Stole Millions In Gov’t B...</td>\n",
       "      <td>Print They should pay all the back all the mon...</td>\n",
       "      <td>100percentfedup</td>\n",
       "      <td>fake</td>\n",
       "    </tr>\n",
       "    <tr>\n",
       "      <th>1</th>\n",
       "      <td>Re: Why Did Attorney General Loretta Lynch Ple...</td>\n",
       "      <td>Why Did Attorney General Loretta Lynch Plead T...</td>\n",
       "      <td>100percentfedup</td>\n",
       "      <td>fake</td>\n",
       "    </tr>\n",
       "    <tr>\n",
       "      <th>2</th>\n",
       "      <td>BREAKING: Weiner Cooperating With FBI On Hilla...</td>\n",
       "      <td>Red State : \\nFox News Sunday reported this mo...</td>\n",
       "      <td>100percentfedup</td>\n",
       "      <td>fake</td>\n",
       "    </tr>\n",
       "    <tr>\n",
       "      <th>3</th>\n",
       "      <td>PIN DROP SPEECH BY FATHER OF DAUGHTER Kidnappe...</td>\n",
       "      <td>Email Kayla Mueller was a prisoner and torture...</td>\n",
       "      <td>100percentfedup</td>\n",
       "      <td>fake</td>\n",
       "    </tr>\n",
       "    <tr>\n",
       "      <th>4</th>\n",
       "      <td>FANTASTIC! TRUMP'S 7 POINT PLAN To Reform Heal...</td>\n",
       "      <td>Email HEALTHCARE REFORM TO MAKE AMERICA GREAT ...</td>\n",
       "      <td>100percentfedup</td>\n",
       "      <td>fake</td>\n",
       "    </tr>\n",
       "    <tr>\n",
       "      <th>...</th>\n",
       "      <td>...</td>\n",
       "      <td>...</td>\n",
       "      <td>...</td>\n",
       "      <td>...</td>\n",
       "    </tr>\n",
       "    <tr>\n",
       "      <th>27980</th>\n",
       "      <td>An eavesdropping Uber driver saved his 16-year...</td>\n",
       "      <td>Uber driver Keith Avila picked up a p...</td>\n",
       "      <td>Washington Post</td>\n",
       "      <td>real</td>\n",
       "    </tr>\n",
       "    <tr>\n",
       "      <th>27981</th>\n",
       "      <td>Plane carrying six people returning from a Cav...</td>\n",
       "      <td>Crews on Friday continued to search L...</td>\n",
       "      <td>Washington Post</td>\n",
       "      <td>real</td>\n",
       "    </tr>\n",
       "    <tr>\n",
       "      <th>27982</th>\n",
       "      <td>After helping a fraction of homeowners expecte...</td>\n",
       "      <td>When the Obama administration announced a...</td>\n",
       "      <td>Washington Post</td>\n",
       "      <td>real</td>\n",
       "    </tr>\n",
       "    <tr>\n",
       "      <th>27983</th>\n",
       "      <td>Yes, this is real: Michigan just banned bannin...</td>\n",
       "      <td>This story has been updated. A new law in...</td>\n",
       "      <td>Washington Post</td>\n",
       "      <td>real</td>\n",
       "    </tr>\n",
       "    <tr>\n",
       "      <th>27984</th>\n",
       "      <td>What happened in Washington state after voters...</td>\n",
       "      <td>The nation’s first recreational marijuana...</td>\n",
       "      <td>Washington Post</td>\n",
       "      <td>real</td>\n",
       "    </tr>\n",
       "  </tbody>\n",
       "</table>\n",
       "<p>27985 rows × 4 columns</p>\n",
       "</div>"
      ],
      "text/plain": [
       "                                                   title  \\\n",
       "0      Muslims BUSTED: They Stole Millions In Gov’t B...   \n",
       "1      Re: Why Did Attorney General Loretta Lynch Ple...   \n",
       "2      BREAKING: Weiner Cooperating With FBI On Hilla...   \n",
       "3      PIN DROP SPEECH BY FATHER OF DAUGHTER Kidnappe...   \n",
       "4      FANTASTIC! TRUMP'S 7 POINT PLAN To Reform Heal...   \n",
       "...                                                  ...   \n",
       "27980  An eavesdropping Uber driver saved his 16-year...   \n",
       "27981  Plane carrying six people returning from a Cav...   \n",
       "27982  After helping a fraction of homeowners expecte...   \n",
       "27983  Yes, this is real: Michigan just banned bannin...   \n",
       "27984  What happened in Washington state after voters...   \n",
       "\n",
       "                                                 content      publication  \\\n",
       "0      Print They should pay all the back all the mon...  100percentfedup   \n",
       "1      Why Did Attorney General Loretta Lynch Plead T...  100percentfedup   \n",
       "2      Red State : \\nFox News Sunday reported this mo...  100percentfedup   \n",
       "3      Email Kayla Mueller was a prisoner and torture...  100percentfedup   \n",
       "4      Email HEALTHCARE REFORM TO MAKE AMERICA GREAT ...  100percentfedup   \n",
       "...                                                  ...              ...   \n",
       "27980           Uber driver Keith Avila picked up a p...  Washington Post   \n",
       "27981           Crews on Friday continued to search L...  Washington Post   \n",
       "27982       When the Obama administration announced a...  Washington Post   \n",
       "27983       This story has been updated. A new law in...  Washington Post   \n",
       "27984       The nation’s first recreational marijuana...  Washington Post   \n",
       "\n",
       "      label  \n",
       "0      fake  \n",
       "1      fake  \n",
       "2      fake  \n",
       "3      fake  \n",
       "4      fake  \n",
       "...     ...  \n",
       "27980  real  \n",
       "27981  real  \n",
       "27982  real  \n",
       "27983  real  \n",
       "27984  real  \n",
       "\n",
       "[27985 rows x 4 columns]"
      ]
     },
<<<<<<< Updated upstream
     "execution_count": 21,
=======
     "execution_count": 17,
>>>>>>> Stashed changes
     "metadata": {},
     "output_type": "execute_result"
    }
   ],
   "source": [
    "df = pd.read_csv(\"C:\\\\Users\\\\Eli\\\\Desktop\\\\processed_news_dataset.csv\", index_col=0)\n",
    "df = df.dropna()\n",
    "#reset index column after removing NaN values\n",
    "df.reset_index(drop=True, inplace= True)\n",
    "df "
   ]
  },
  {
   "cell_type": "code",
<<<<<<< Updated upstream
   "execution_count": 22,
=======
   "execution_count": 19,
   "metadata": {},
   "outputs": [
    {
     "data": {
      "text/plain": [
       "12165"
      ]
     },
     "execution_count": 19,
     "metadata": {},
     "output_type": "execute_result"
    }
   ],
   "source": [
    "len(df[df['label'].str.contains('fake')])"
   ]
  },
  {
   "cell_type": "code",
   "execution_count": 28,
   "metadata": {},
   "outputs": [
    {
     "ename": "TypeError",
     "evalue": "expected string or bytes-like object",
     "output_type": "error",
     "traceback": [
      "\u001b[1;31m---------------------------------------------------------------------------\u001b[0m",
      "\u001b[1;31mTypeError\u001b[0m                                 Traceback (most recent call last)",
      "\u001b[1;32m<ipython-input-28-b7fa679931da>\u001b[0m in \u001b[0;36m<module>\u001b[1;34m\u001b[0m\n\u001b[0;32m      1\u001b[0m \u001b[0mtext\u001b[0m \u001b[1;33m=\u001b[0m \u001b[0mdf\u001b[0m\u001b[1;33m[\u001b[0m\u001b[1;34m'content'\u001b[0m\u001b[1;33m]\u001b[0m\u001b[1;33m[\u001b[0m\u001b[1;33m:\u001b[0m\u001b[1;36m12165\u001b[0m\u001b[1;33m]\u001b[0m\u001b[1;33m\u001b[0m\u001b[1;33m\u001b[0m\u001b[0m\n\u001b[1;32m----> 2\u001b[1;33m \u001b[0mwordcloud\u001b[0m \u001b[1;33m=\u001b[0m \u001b[0mWordCloud\u001b[0m\u001b[1;33m(\u001b[0m\u001b[0mmax_words\u001b[0m\u001b[1;33m=\u001b[0m\u001b[1;36m50\u001b[0m\u001b[1;33m,\u001b[0m \u001b[0mbackground_color\u001b[0m\u001b[1;33m=\u001b[0m\u001b[1;34m\"white\"\u001b[0m\u001b[1;33m)\u001b[0m\u001b[1;33m.\u001b[0m\u001b[0mgenerate\u001b[0m\u001b[1;33m(\u001b[0m\u001b[0mtext\u001b[0m\u001b[1;33m)\u001b[0m\u001b[1;33m\u001b[0m\u001b[1;33m\u001b[0m\u001b[0m\n\u001b[0m\u001b[0;32m      3\u001b[0m \u001b[0mplt\u001b[0m\u001b[1;33m.\u001b[0m\u001b[0mimshow\u001b[0m\u001b[1;33m(\u001b[0m\u001b[0mwordcloud\u001b[0m\u001b[1;33m,\u001b[0m \u001b[0minterpolation\u001b[0m\u001b[1;33m=\u001b[0m\u001b[1;34m'bilinear'\u001b[0m\u001b[1;33m)\u001b[0m\u001b[1;33m\u001b[0m\u001b[1;33m\u001b[0m\u001b[0m\n\u001b[0;32m      4\u001b[0m \u001b[0mplt\u001b[0m\u001b[1;33m.\u001b[0m\u001b[0maxis\u001b[0m\u001b[1;33m(\u001b[0m\u001b[1;34m\"off\"\u001b[0m\u001b[1;33m)\u001b[0m\u001b[1;33m\u001b[0m\u001b[1;33m\u001b[0m\u001b[0m\n\u001b[0;32m      5\u001b[0m \u001b[0mplt\u001b[0m\u001b[1;33m.\u001b[0m\u001b[0mshow\u001b[0m\u001b[1;33m(\u001b[0m\u001b[1;33m)\u001b[0m\u001b[1;33m\u001b[0m\u001b[1;33m\u001b[0m\u001b[0m\n",
      "\u001b[1;32m~\\anaconda3\\lib\\site-packages\\wordcloud\\wordcloud.py\u001b[0m in \u001b[0;36mgenerate\u001b[1;34m(self, text)\u001b[0m\n\u001b[0;32m    629\u001b[0m         \u001b[0mself\u001b[0m\u001b[1;33m\u001b[0m\u001b[1;33m\u001b[0m\u001b[0m\n\u001b[0;32m    630\u001b[0m         \"\"\"\n\u001b[1;32m--> 631\u001b[1;33m         \u001b[1;32mreturn\u001b[0m \u001b[0mself\u001b[0m\u001b[1;33m.\u001b[0m\u001b[0mgenerate_from_text\u001b[0m\u001b[1;33m(\u001b[0m\u001b[0mtext\u001b[0m\u001b[1;33m)\u001b[0m\u001b[1;33m\u001b[0m\u001b[1;33m\u001b[0m\u001b[0m\n\u001b[0m\u001b[0;32m    632\u001b[0m \u001b[1;33m\u001b[0m\u001b[0m\n\u001b[0;32m    633\u001b[0m     \u001b[1;32mdef\u001b[0m \u001b[0m_check_generated\u001b[0m\u001b[1;33m(\u001b[0m\u001b[0mself\u001b[0m\u001b[1;33m)\u001b[0m\u001b[1;33m:\u001b[0m\u001b[1;33m\u001b[0m\u001b[1;33m\u001b[0m\u001b[0m\n",
      "\u001b[1;32m~\\anaconda3\\lib\\site-packages\\wordcloud\\wordcloud.py\u001b[0m in \u001b[0;36mgenerate_from_text\u001b[1;34m(self, text)\u001b[0m\n\u001b[0;32m    610\u001b[0m         \u001b[0mself\u001b[0m\u001b[1;33m\u001b[0m\u001b[1;33m\u001b[0m\u001b[0m\n\u001b[0;32m    611\u001b[0m         \"\"\"\n\u001b[1;32m--> 612\u001b[1;33m         \u001b[0mwords\u001b[0m \u001b[1;33m=\u001b[0m \u001b[0mself\u001b[0m\u001b[1;33m.\u001b[0m\u001b[0mprocess_text\u001b[0m\u001b[1;33m(\u001b[0m\u001b[0mtext\u001b[0m\u001b[1;33m)\u001b[0m\u001b[1;33m\u001b[0m\u001b[1;33m\u001b[0m\u001b[0m\n\u001b[0m\u001b[0;32m    613\u001b[0m         \u001b[0mself\u001b[0m\u001b[1;33m.\u001b[0m\u001b[0mgenerate_from_frequencies\u001b[0m\u001b[1;33m(\u001b[0m\u001b[0mwords\u001b[0m\u001b[1;33m)\u001b[0m\u001b[1;33m\u001b[0m\u001b[1;33m\u001b[0m\u001b[0m\n\u001b[0;32m    614\u001b[0m         \u001b[1;32mreturn\u001b[0m \u001b[0mself\u001b[0m\u001b[1;33m\u001b[0m\u001b[1;33m\u001b[0m\u001b[0m\n",
      "\u001b[1;32m~\\anaconda3\\lib\\site-packages\\wordcloud\\wordcloud.py\u001b[0m in \u001b[0;36mprocess_text\u001b[1;34m(self, text)\u001b[0m\n\u001b[0;32m    572\u001b[0m         \u001b[0mregexp\u001b[0m \u001b[1;33m=\u001b[0m \u001b[0mself\u001b[0m\u001b[1;33m.\u001b[0m\u001b[0mregexp\u001b[0m \u001b[1;32mif\u001b[0m \u001b[0mself\u001b[0m\u001b[1;33m.\u001b[0m\u001b[0mregexp\u001b[0m \u001b[1;32mis\u001b[0m \u001b[1;32mnot\u001b[0m \u001b[1;32mNone\u001b[0m \u001b[1;32melse\u001b[0m \u001b[1;34mr\"\\w[\\w']+\"\u001b[0m\u001b[1;33m\u001b[0m\u001b[1;33m\u001b[0m\u001b[0m\n\u001b[0;32m    573\u001b[0m \u001b[1;33m\u001b[0m\u001b[0m\n\u001b[1;32m--> 574\u001b[1;33m         \u001b[0mwords\u001b[0m \u001b[1;33m=\u001b[0m \u001b[0mre\u001b[0m\u001b[1;33m.\u001b[0m\u001b[0mfindall\u001b[0m\u001b[1;33m(\u001b[0m\u001b[0mregexp\u001b[0m\u001b[1;33m,\u001b[0m \u001b[0mtext\u001b[0m\u001b[1;33m,\u001b[0m \u001b[0mflags\u001b[0m\u001b[1;33m)\u001b[0m\u001b[1;33m\u001b[0m\u001b[1;33m\u001b[0m\u001b[0m\n\u001b[0m\u001b[0;32m    575\u001b[0m         \u001b[1;31m# remove 's\u001b[0m\u001b[1;33m\u001b[0m\u001b[1;33m\u001b[0m\u001b[1;33m\u001b[0m\u001b[0m\n\u001b[0;32m    576\u001b[0m         words = [word[:-2] if word.lower().endswith(\"'s\") else word\n",
      "\u001b[1;32m~\\anaconda3\\lib\\re.py\u001b[0m in \u001b[0;36mfindall\u001b[1;34m(pattern, string, flags)\u001b[0m\n\u001b[0;32m    221\u001b[0m \u001b[1;33m\u001b[0m\u001b[0m\n\u001b[0;32m    222\u001b[0m     Empty matches are included in the result.\"\"\"\n\u001b[1;32m--> 223\u001b[1;33m     \u001b[1;32mreturn\u001b[0m \u001b[0m_compile\u001b[0m\u001b[1;33m(\u001b[0m\u001b[0mpattern\u001b[0m\u001b[1;33m,\u001b[0m \u001b[0mflags\u001b[0m\u001b[1;33m)\u001b[0m\u001b[1;33m.\u001b[0m\u001b[0mfindall\u001b[0m\u001b[1;33m(\u001b[0m\u001b[0mstring\u001b[0m\u001b[1;33m)\u001b[0m\u001b[1;33m\u001b[0m\u001b[1;33m\u001b[0m\u001b[0m\n\u001b[0m\u001b[0;32m    224\u001b[0m \u001b[1;33m\u001b[0m\u001b[0m\n\u001b[0;32m    225\u001b[0m \u001b[1;32mdef\u001b[0m \u001b[0mfinditer\u001b[0m\u001b[1;33m(\u001b[0m\u001b[0mpattern\u001b[0m\u001b[1;33m,\u001b[0m \u001b[0mstring\u001b[0m\u001b[1;33m,\u001b[0m \u001b[0mflags\u001b[0m\u001b[1;33m=\u001b[0m\u001b[1;36m0\u001b[0m\u001b[1;33m)\u001b[0m\u001b[1;33m:\u001b[0m\u001b[1;33m\u001b[0m\u001b[1;33m\u001b[0m\u001b[0m\n",
      "\u001b[1;31mTypeError\u001b[0m: expected string or bytes-like object"
     ]
    }
   ],
   "source": [
    "text = \" \".join(content for content in df['content'][:12165])\n",
    "wordcloud = WordCloud(max_words=50, background_color=\"white\").generate(text)\n",
    "plt.imshow(wordcloud, interpolation='bilinear')\n",
    "plt.axis(\"off\")\n",
    "plt.show()\n",
    "wordcloud.to_file(\"wordClouds/first_fake.png\")"
   ]
  },
  {
   "cell_type": "code",
   "execution_count": 26,
   "metadata": {},
   "outputs": [
    {
     "name": "stdout",
     "output_type": "stream",
     "text": [
      "There are 52822072 words in the combination of all fake articles.\n"
     ]
    },
    {
     "data": {
      "image/png": "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\n",
      "text/plain": [
       "<Figure size 432x288 with 1 Axes>"
      ]
     },
     "metadata": {
      "needs_background": "light"
     },
     "output_type": "display_data"
    },
    {
     "data": {
      "text/plain": [
       "<wordcloud.wordcloud.WordCloud at 0x1b44b889248>"
      ]
     },
     "execution_count": 26,
     "metadata": {},
     "output_type": "execute_result"
    }
   ],
   "source": [
    "text = \" \".join(content for content in df['content'][12165:])\n",
    "wordcloud = WordCloud(max_words=50, background_color=\"white\").generate(text)\n",
    "plt.imshow(wordcloud, interpolation='bilinear')\n",
    "plt.axis(\"off\")\n",
    "plt.show()\n",
    "wordcloud.to_file(\"wordClouds/first_fake.png\")"
   ]
  },
  {
   "cell_type": "code",
   "execution_count": 111,
>>>>>>> Stashed changes
   "metadata": {
    "pycharm": {
     "is_executing": false
    }
   },
   "outputs": [],
   "source": [
    "def collect_predictions(y_test,y_preds):\n",
    "    \"\"\"Collect all predictions and ground truth\"\"\"\n",
    "    \n",
    "    pred_gold_list=[[[y_test[idx]],pred] for idx,pred in enumerate(y_preds)]\n",
    "    return pred_gold_list\n",
    "    \n",
    "def compute_accuracy(eval_items:list):\n",
    "    correct=0\n",
    "    total=0\n",
    "    \n",
    "    for item in eval_items:\n",
    "        true_vals=item[0]\n",
    "        pred_vals=set(item[1])\n",
    "        \n",
    "        for label in true_vals:\n",
    "            if label in pred_vals:\n",
    "                correct+=1\n",
    "                break\n",
    "\n",
    "    accuracy=correct/float(len(eval_items))\n",
    "    #print(correct, total)\n",
    "    return accuracy"
   ]
  },
  {
   "cell_type": "code",
   "execution_count": 23,
   "metadata": {
    "pycharm": {
     "is_executing": false
    }
   },
   "outputs": [],
   "source": [
    "from sklearn.metrics import precision_recall_fscore_support\n",
    "from sklearn.model_selection import train_test_split\n",
    "from sklearn.linear_model import LogisticRegression\n",
    "from sklearn.naive_bayes import MultinomialNB\n",
    "from sklearn.feature_extraction.text import CountVectorizer,TfidfVectorizer\n",
    "from xgboost import XGBClassifier\n",
    "\n",
    "import numpy as np\n",
    "import logging\n",
    "\n",
    "logging.basicConfig(format='%(asctime)s : %(levelname)s : %(message)s', level=logging.INFO)\n",
    "\n",
    "def extract_features(df,field,training_data,testing_data,type=\"binary\"):\n",
    "    \"\"\"Extract features using different methods\"\"\"\n",
    "    \n",
    "    logging.info(\"Extracting features and vectorizing...\")\n",
    "    \n",
    "    if \"counts\" in type:\n",
    "        \n",
    "        # count vectorizer\n",
    "        cv= CountVectorizer(binary=False, max_df=0.90, min_df=0.01)\n",
    "        cv.fit_transform(training_data[field].values)\n",
    "        \n",
    "        train_feature_set=cv.transform(training_data[field].values)\n",
    "        test_feature_set=cv.transform(testing_data[field].values)\n",
    "        \n",
    "        return train_feature_set,test_feature_set,cv\n",
    "    \n",
    "    else:    \n",
    "        \n",
    "        # TF-IDF vectorizer\n",
    "        tfidf_vectorizer=TfidfVectorizer(use_idf=True, max_df=0.95)\n",
    "        tfidf_vectorizer.fit_transform(training_data[field].values)\n",
    "        \n",
    "        train_feature_set=tfidf_vectorizer.transform(training_data[field].values)\n",
    "        test_feature_set=tfidf_vectorizer.transform(testing_data[field].values)\n",
    "        \n",
    "        return train_feature_set,test_feature_set,tfidf_vectorizer\n",
    "\n",
    "def get_label_prediction(model,X_test):\n",
    "    \n",
    "    # get probabilities instead of predicted labels, since we want to collect top 3\n",
    "    probabilities = model.predict_proba(X_test)\n",
    "\n",
    "    # get best fitting label\n",
    "    best_n = np.argsort(probabilities, axis=1)[:,-1:]\n",
    "    \n",
    "    # get label prediction\n",
    "    predictions=[[model.classes_[predicted_cat] for predicted_cat in prediction] for prediction in best_n]\n",
    "    \n",
    "    predictions=[ item[::-1] for item in predictions]\n",
    "    \n",
    "    return predictions\n",
    "   \n",
    "# train/test split\n",
    "training_data, testing_data = train_test_split(df,random_state = 42,)\n",
    "\n",
    "# get labels from the 'label' column\n",
    "y_train=training_data['label'].values\n",
    "y_test=testing_data['label'].values\n",
    "     \n",
    "\n",
    "def train_model_lr(df,field=\"content\",feature_rep=\"counts\"):\n",
    "    \n",
    "    logging.info(\"Initiating...\")\n",
    "    \n",
    "\n",
    "    # get features\n",
    "    X_train,X_test,feature_transformer=extract_features(df,field,training_data,testing_data,type=feature_rep)\n",
    "    # start linear regression\n",
    "    logging.info(\"Fitting Logistical Regression Model...\")\n",
    "    lr = LogisticRegression(solver='saga',random_state=42, C=5, penalty='l2',max_iter=5000)\n",
    "    model=lr.fit(X_train,y_train)\n",
    "\n",
    "    # get prediction\n",
    "    prediction=get_label_prediction(model,X_test)\n",
    "    \n",
    "    # GET PREDICTED VALUES AND GROUND TRUTH INTO A LIST OF LISTS - for ease of evaluation\n",
    "    eval_items=collect_predictions(y_test,prediction)\n",
    "    \n",
    "    # get accuracy values\n",
    "    logging.info(\"Starting evaluation...\")\n",
    "    accuracy=compute_accuracy(eval_items)\n",
    "    \n",
    "    logging.info(\"Done training and evaluation.\")\n",
    "    \n",
    "    return model,feature_transformer,accuracy\n",
    "\n",
    "def train_model_nb(df,field, feature_rep):\n",
    "    \"\"\"Train a naive bayes model\"\"\"\n",
    "    logging.info(\"Initiating...\")\n",
    "    \n",
    "    # extract features \n",
    "    X_train,X_test,feature_transformer=extract_features(df,field,training_data,testing_data,type=feature_rep)\n",
    "\n",
    "    # start naive bayes model\n",
    "    logging.info(\"Fitting Naive Bayes Model...\")\n",
    "    nb = MultinomialNB()\n",
    "    model_nb=nb.fit(X_train,y_train)\n",
    "\n",
    "    # get prediction\n",
    "    prediction=get_label_prediction(model_nb,X_test)\n",
    "    \n",
    "    # turn predicted items and ground truths into a list\n",
    "    eval_items=collect_predictions(y_test,prediction)\n",
    "    \n",
    "    # get accuracy values\n",
    "    logging.info(\"Starting evaluation...\")\n",
    "    accuracy=compute_accuracy(eval_items)\n",
    "    \n",
    "    logging.info(\"Done training and evaluation.\")\n",
    "    \n",
    "    return model_nb,feature_transformer,accuracy\n",
    "\n",
    "def train_model_xgb(df,field, feature_rep):\n",
    "    \"\"\"Train a naive bayes model\"\"\"\n",
    "    logging.info(\"Initiating...\")\n",
    "\n",
    "    # extract features \n",
    "    X_train,X_test,feature_transformer=extract_features(df,field,training_data,testing_data,type=feature_rep)\n",
    "\n",
    "    # start naive bayes model\n",
    "    logging.info(\"Fitting Naive Bayes Model...\")\n",
    "    nb = MultinomialNB()\n",
    "    model_nb=nb.fit(X_train,y_train)\n",
    "\n",
    "    # get prediction\n",
    "    prediction=get_label_prediction(model_nb,X_test)\n",
    "    \n",
    "    # turn predicted items and ground truths into a list\n",
    "    eval_items=collect_predictions(y_test,prediction)\n",
    "    \n",
    "    # get accuracy values\n",
    "    logging.info(\"Starting evaluation...\")\n",
    "    accuracy=compute_accuracy(eval_items)\n",
    "    \n",
    "    logging.info(\"Done training and evaluation.\")\n",
    "    \n",
    "    return model_nb,feature_transformer,accuracy"
   ]
  },
  {
   "cell_type": "code",
   "execution_count": 37,
   "metadata": {
    "pycharm": {
     "is_executing": false
    }
   },
   "outputs": [
    {
     "name": "stderr",
     "output_type": "stream",
     "text": [
      "2020-03-31 20:15:01,525 : INFO : Initiating...\n",
      "2020-03-31 20:15:01,526 : INFO : Extracting features and vectorizing...\n",
      "2020-03-31 20:15:26,170 : INFO : Fitting Logistical Regression Model...\n",
      "2020-03-31 20:15:29,577 : INFO : Starting evaluation...\n",
      "2020-03-31 20:15:29,579 : INFO : Done training and evaluation.\n",
      "\n",
      "Accuracy=0.9441189081034729\n"
     ]
    }
   ],
   "source": [
    "#Training Logistic regression model using tfidf vectorizer\n",
    "model_tfidf_lr,transformer_tfidf_lr,accuracy_tfidf_lr=train_model_lr(df,'content','tfidf')\n",
    "print(\"\\nAccuracy={0}\".format(accuracy_tfidf_lr))"
   ]
  },
  {
   "cell_type": "code",
   "execution_count": 81,
   "metadata": {
    "pycharm": {
     "is_executing": false,
     "name": "#%%\n"
    }
   },
   "outputs": [
    {
     "name": "stderr",
     "output_type": "stream",
     "text": [
      "2020-03-31 01:31:29,152 : INFO : Initiating...\n",
      "2020-03-31 01:31:29,152 : INFO : Extracting features and vectorizing...\n",
      "2020-03-31 01:31:42,794 : INFO : Fitting Logistical Regression Model...\n",
      "2020-03-31 01:34:44,515 : INFO : Starting evaluation...\n",
      "2020-03-31 01:34:44,518 : INFO : Done training and evaluation.\n"
     ]
    },
    {
     "name": "stdout",
     "output_type": "stream",
     "text": [
      "6388 0\n",
      "\n",
      "Accuracy=0.916630793514134\n"
     ]
    }
   ],
   "source": [
    "#Training Logistic regression model using counts vectorizer\n",
    "model_counts_lr,transformer_counts_lr,accuracy_counts_lr=train_model_lr(df,'content','counts')\n",
    "print(\"\\nAccuracy={0}\".format(accuracy_counts_lr))"
   ]
  },
  {
   "cell_type": "code",
   "execution_count": 78,
   "metadata": {
    "pycharm": {
     "is_executing": false
    }
   },
   "outputs": [
    {
     "name": "stderr",
     "output_type": "stream",
     "text": [
      "2020-03-31 01:30:05,531 : INFO : Initiating...\n",
      "2020-03-31 01:30:05,532 : INFO : Extracting features and vectorizing...\n",
      "2020-03-31 01:30:20,102 : INFO : Fitting Naive Bayes Model...\n",
      "2020-03-31 01:30:20,304 : INFO : Starting evaluation...\n",
      "2020-03-31 01:30:20,307 : INFO : Done training and evaluation.\n"
     ]
    },
    {
     "name": "stdout",
     "output_type": "stream",
     "text": [
      "4694 0\n",
      "\n",
      "Accuracy=0.6735543119529345\n"
     ]
    }
   ],
   "source": [
    "#Training Naive Bayes model using tfidf vectorizer\n",
    "model_tfidf_nb,transformer_tfidf_nb,accuracy_tfidf_nb=train_model_nb(df,'content','tfidf')\n",
    "print(\"\\nAccuracy={0}\".format(accuracy_tfidf_nb))"
   ]
  },
  {
   "cell_type": "code",
   "execution_count": 79,
   "metadata": {
    "pycharm": {
     "is_executing": false,
     "name": "#%%\n"
    }
   },
   "outputs": [
    {
     "name": "stderr",
     "output_type": "stream",
     "text": [
      "2020-03-31 01:30:20,332 : INFO : Initiating...\n",
      "2020-03-31 01:30:20,333 : INFO : Extracting features and vectorizing...\n",
      "2020-03-31 01:30:33,800 : INFO : Fitting Naive Bayes Model...\n",
      "2020-03-31 01:30:33,866 : INFO : Starting evaluation...\n",
      "2020-03-31 01:30:33,869 : INFO : Done training and evaluation.\n"
     ]
    },
    {
     "name": "stdout",
     "output_type": "stream",
     "text": [
      "5840 0\n",
      "\n",
      "Accuracy=0.8379968431625772\n"
     ]
    }
   ],
   "source": [
    "#Training Naive Bayes model using counts vectorizer\n",
    "model_counts_nb,transformer_counts_nb,accuracy_counts_nb=train_model_nb(df,'content','counts')\n",
    "print(\"\\nAccuracy={0}\".format(accuracy_counts_nb))\n"
   ]
  },
  {
   "cell_type": "code",
   "execution_count": 38,
   "metadata": {
    "pycharm": {
     "is_executing": false
    }
   },
   "outputs": [
    {
     "data": {
      "text/plain": [
       "[['fake']]"
      ]
     },
     "execution_count": 38,
     "metadata": {},
     "output_type": "execute_result"
    }
   ],
   "source": [
    "test_features=transformer_tfidf_lr.transform([preprocess_text('''Donald Trump said Monday that US officials expect the number of coronavirus cases in the United States to \"spike\" around Easter Sunday, a reversal from his talk of opening much of the country by 12 April.\n",
    "\n",
    "The president, during a morning call-in interview with Fox News, continued his focus on the American death toll, saying this: \"By a little short of June, maybe June 1m, we think ... the death will be ... brought down to a very low number.\"\n",
    "\n",
    "Despite revising his own timeline for the virus spread subsiding on US soil, Mr Trump claimed the country is \"getting close\" to \"winning\" what he again called a \"war\" against the COVID-19 disease outbreak.\n",
    "\n",
    "That came as his top infectious disease expert, Anthony Fauci, was back on television saying there could be up to 100,000 deaths from the virus inside the United States.\n",
    "\n",
    "\"We have a very low morality rate,\" Mr Trump said. \"And there are reasons for that.\"\n",
    "\n",
    "He contended that had his administration not taken certain steps, like banning travellers from China, 2.2m Americans could have died. (The US death toll now is over 2,000.) \n",
    "\n",
    "Read more\n",
    "\n",
    "Dr Fauci warns ‘100,000 to 200,000’ people could die from coronavirus\n",
    "\n",
    "'Be prepared for another cycle': Fauci warns coronavirus will return\n",
    "\n",
    "The fascinating dynamic between Trump, Anthony Fauci and Deborah Birx\n",
    "\n",
    "Coronavirus: Fauci emerges to defend relationship with Trump\n",
    "\n",
    "Meet the man leading America’s fight against coronavirus\n",
    "Two days after he floated a quarantine and strict travel restrictions for New York City, and parts of New Jersey and Connecticut, the president knocked down a question about closing airports to help stop the virus's spread. \"We're looking at opening things up before closing\" down more public gathering spaces. Without explaining, he said closing things like airports would be too difficult, suggesting the economic hit would be too high.\n",
    "\n",
    "A day after Speaker Nancy Pelosi called Mr Trump's early response to warnings the virus was headed to the United States \"deadly,\" the president called the California Democrat a \"sick puppy.\"\n",
    "\n",
    "\"She's got a lot of problems, in my opinion,\" he said without providing details of those alleged issues. \"There's something wrong with the woman.\"\n",
    "\n",
    "The president then slammed San Francisco, where Ms Pelosi lives, calling it a \"slum\" and saying the federal government might take control of the region to address its alleged problems.\n",
    "\n",
    "Trump calls Pelosi a 'sick puppy' for attacking him\n",
    "The president appeared in full campaign mode as he cannot hold his signature rallies, contending \"Sleepy Joe wouldn't even know what was going on.\" That was a dig at former Vice President Joe Biden, the presumptive Democratic presidential nominee whom Mr Trump contends is mentally feeble.\n",
    "\n",
    "The \"Fox & Friends\" co-hosts were in campaign mode, as well, asking Mr Trump about high approval ratings for New York Governor Andrew Cuomo over his handling of the virus outbreak there. The president responded that Mr Cuomo has only been able to respond to the outbreak in the manner he has because of federal help that he green-lit. He also said he would \"love\" to run against the New York governor in a presidential general election.\n",
    "\n",
    "In yet another stunning moment of his term, Mr Trump appeared to claim the United States should have a more confrontational relationship with Germany and a closer one with Russia because the then-Soviet Union lost \"50 million people\" fighting on the side of the United States – against then-Nazi Germany. \"No one talks about that,\" he said, leaving out the US-Soviet Cold War that followed that world war.\n",
    "\n",
    "He told the conservative news network's morning show he would be speaking to Russian President Vladimir Putin following the \"Fox & Friends\" interview. Mr Trump has been criticised for at times appearing to carry out Mr Putin's whims, even though his administration has put sanctions on Russians over its 2016 election meddling.''')])\n",
    "get_label_prediction(model_tfidf_lr,test_features)\n"
   ]
  },
  {
   "cell_type": "code",
   "execution_count": 39,
   "metadata": {
    "pycharm": {
     "is_executing": true
    }
   },
   "outputs": [
    {
     "ename": "NameError",
     "evalue": "name 'transformer_counts_lr' is not defined",
     "output_type": "error",
     "traceback": [
      "\u001b[1;31m---------------------------------------------------------------------------\u001b[0m",
      "\u001b[1;31mNameError\u001b[0m                                 Traceback (most recent call last)",
      "\u001b[1;32m<ipython-input-39-f79c211582a1>\u001b[0m in \u001b[0;36m<module>\u001b[1;34m\u001b[0m\n\u001b[1;32m----> 1\u001b[1;33m test_features=transformer_counts_lr.transform([preprocess_text('''Writing in the Mail today, he warmed up by blasting Wonder Woman star Gal Gadot for her much-criticised, \"tone deaf\" version of Imagine that was supposed to lift people's spirits but left many cringing.\n\u001b[0m\u001b[0;32m      2\u001b[0m \u001b[1;33m\u001b[0m\u001b[0m\n\u001b[0;32m      3\u001b[0m \u001b[0mBut\u001b[0m \u001b[0mhe\u001b[0m \u001b[0msoon\u001b[0m \u001b[0mmoved\u001b[0m \u001b[0mon\u001b[0m \u001b[0mto\u001b[0m \u001b[0mweightier\u001b[0m \u001b[0mtargets\u001b[0m\u001b[1;33m,\u001b[0m \u001b[0msaying\u001b[0m \u001b[1;36m47\u001b[0m\u001b[1;33m-\u001b[0m\u001b[0myear\u001b[0m\u001b[1;33m-\u001b[0m\u001b[0mold\u001b[0m \u001b[0mIdris\u001b[0m \u001b[0mhad\u001b[0m \u001b[0ma\u001b[0m \u001b[0mplace\u001b[0m \u001b[0mon\u001b[0m \u001b[0mhis\u001b[0m \u001b[1;34m\"idiot\"\u001b[0m \u001b[0mlist\u001b[0m \u001b[0mdespite\u001b[0m \u001b[0mhaving\u001b[0m \u001b[0mcontracted\u001b[0m \u001b[0mcoronavirus\u001b[0m \u001b[0mhimself\u001b[0m \u001b[1;33m-\u001b[0m \u001b[0mbecause\u001b[0m \u001b[0mhe\u001b[0m \u001b[0mexposed\u001b[0m \u001b[0mthe\u001b[0m \u001b[0mfact\u001b[0m \u001b[0mthat\u001b[0m \u001b[0mA\u001b[0m\u001b[1;33m-\u001b[0m\u001b[0mlisters\u001b[0m \u001b[0mwere\u001b[0m \u001b[0mgetting\u001b[0m \u001b[0mtested\u001b[0m \u001b[1;32mwhile\u001b[0m \u001b[0mNHS\u001b[0m \u001b[0mstaff\u001b[0m \u001b[0mcouldn\u001b[0m\u001b[0;31m'\u001b[0m\u001b[0mt\u001b[0m\u001b[1;33m.\u001b[0m\u001b[1;33m\u001b[0m\u001b[1;33m\u001b[0m\u001b[0m\n\u001b[0;32m      4\u001b[0m \u001b[1;33m\u001b[0m\u001b[0m\n\u001b[0;32m      5\u001b[0m \u001b[0mPiers\u001b[0m \u001b[0mlater\u001b[0m \u001b[0mattacked\u001b[0m \u001b[0mHigh\u001b[0m \u001b[0mSchool\u001b[0m \u001b[0mMusical\u001b[0m\u001b[0;31m'\u001b[0m\u001b[0ms\u001b[0m \u001b[0mVanessa\u001b[0m \u001b[0mHudgens\u001b[0m\u001b[1;33m,\u001b[0m \u001b[0mwho\u001b[0m \u001b[0mcalled\u001b[0m \u001b[0mthe\u001b[0m \u001b[0mvirus\u001b[0m \u001b[0ma\u001b[0m \u001b[1;34m\"bunch of bulls**t\"\u001b[0m\u001b[1;33m,\u001b[0m \u001b[0msaying\u001b[0m \u001b[0mshe\u001b[0m \u001b[0mwas\u001b[0m \u001b[1;32min\u001b[0m \u001b[1;34m\"urgent need of shutting the f*** up\"\u001b[0m\u001b[1;33m.\u001b[0m\u001b[1;33m\u001b[0m\u001b[1;33m\u001b[0m\u001b[0m\n",
      "\u001b[1;31mNameError\u001b[0m: name 'transformer_counts_lr' is not defined"
     ]
    }
   ],
   "source": [
    "test_features=transformer_counts_lr.transform([preprocess_text('''Writing in the Mail today, he warmed up by blasting Wonder Woman star Gal Gadot for her much-criticised, \"tone deaf\" version of Imagine that was supposed to lift people's spirits but left many cringing.\n",
    "\n",
    "But he soon moved on to weightier targets, saying 47-year-old Idris had a place on his \"idiot\" list despite having contracted coronavirus himself - because he exposed the fact that A-listers were getting tested while NHS staff couldn't.\n",
    "\n",
    "Piers later attacked High School Musical's Vanessa Hudgens, who called the virus a \"bunch of bulls**t\", saying she was in \"urgent need of shutting the f*** up\".\n",
    "\n",
    "His ire then turned on singer Sam Smith, who earned a place on Piers' list thanks to a series of pictures they shared of a \"meltdown\" in self-isolation .''')])\n",
    "get_label_prediction(model_counts_lr,test_features)"
   ]
  },
  {
   "cell_type": "code",
   "execution_count": null,
   "metadata": {
    "pycharm": {
     "is_executing": true,
     "name": "#%%\n"
    }
   },
   "outputs": [],
   "source": [
    "test_features=transformer_tfidf_nb.transform([preprocess_text('''Writing in the Mail today, he warmed up by blasting Wonder Woman star Gal Gadot for her much-criticised, \"tone deaf\" version of Imagine that was supposed to lift people's spirits but left many cringing.\n",
    "\n",
    "But he soon moved on to weightier targets, saying 47-year-old Idris had a place on his \"idiot\" list despite having contracted coronavirus himself - because he exposed the fact that A-listers were getting tested while NHS staff couldn't.\n",
    "\n",
    "Piers later attacked High School Musical's Vanessa Hudgens, who called the virus a \"bunch of bulls**t\", saying she was in \"urgent need of shutting the f*** up\".\n",
    "\n",
    "His ire then turned on singer Sam Smith, who earned a place on Piers' list thanks to a series of pictures they shared of a \"meltdown\" in self-isolation .''')])\n",
    "get_label_prediction(model_tfidf_nb,test_features)\n"
   ]
  },
  {
   "cell_type": "code",
   "execution_count": 44,
   "metadata": {
    "pycharm": {
     "is_executing": false,
     "name": "#%%\n"
    }
   },
   "outputs": [],
   "source": [
    "import pickle\n",
    "from sklearn.preprocessing import FunctionTransformer\n",
    "model_path=\"C:\\\\Users\\\\Eli\\\\Documents\\\\GitHub\\\\fake-news-detection\\\\models\\\\model_tfidf_nb.pkl\"\n",
    "transformer_path=\"C:\\\\Users\\\\Eli\\\\Documents\\\\GitHub\\\\fake-news-detection\\\\models\\\\transformer_tfidf_nb.pkl\"\n",
    "\n",
    "# we need to save both the transformer -> to encode a document and the model itself to make predictions based on the weight vectors \n",
    "pickle.dump(model_tfidf_lr,open(model_path, 'wb'))\n",
    "pickle.dump(transformer_tfidf_lr,open(transformer_path,'wb'))\n"
   ]
  },
  {
   "cell_type": "code",
   "execution_count": 61,
   "metadata": {},
   "outputs": [
    {
     "data": {
      "text/plain": [
       "[['fake']]"
      ]
     },
     "execution_count": 61,
     "metadata": {},
     "output_type": "execute_result"
    }
   ],
   "source": [
    "loaded_model = pickle.load(open('C:\\\\Users\\\\Eli\\\\Documents\\\\GitHub\\\\fake-news-detection\\\\models\\\\model_tfidf_nb.pkl', 'rb'))\n",
    "loaded_transformer = pickle.load(open('C:\\\\Users\\\\Eli\\\\Documents\\\\GitHub\\\\fake-news-detection\\\\models\\\\transformer_tfidf_nb.pkl', 'rb'))\n",
    "\n",
    "test_features=loaded_transformer.transform([\"President Trump AND THE impeachment story !!!\"])\n",
    "get_label_prediction(loaded_model,test_features)"
   ]
  },
  {
   "cell_type": "code",
   "execution_count": 59,
   "metadata": {},
   "outputs": [
    {
     "name": "stdout",
     "output_type": "stream",
     "text": [
      "LogisticRegression(C=5, class_weight=None, dual=False, fit_intercept=True,\n",
      "                   intercept_scaling=1, l1_ratio=None, max_iter=5000,\n",
      "                   multi_class='auto', n_jobs=None, penalty='l2',\n",
      "                   random_state=42, solver='saga', tol=0.0001, verbose=0,\n",
      "                   warm_start=False)\n"
     ]
    }
   ],
   "source": [
    "print(loaded_model)"
   ]
  }
 ],
 "metadata": {
  "file_extension": ".py",
  "kernelspec": {
   "display_name": "Python 3.7.6 64-bit ('base': conda)",
   "language": "python",
   "name": "python37664bitbasecondad7e1c8a1a4144f60ae6d1eeb25c035c1"
  },
  "language_info": {
   "codemirror_mode": {
    "name": "ipython",
    "version": 3
   },
   "file_extension": ".py",
   "mimetype": "text/x-python",
   "name": "python",
   "nbconvert_exporter": "python",
   "pygments_lexer": "ipython3",
   "version": "3.7.6"
  },
  "mimetype": "text/x-python",
  "name": "python",
  "npconvert_exporter": "python",
  "pycharm": {
   "stem_cell": {
    "cell_type": "raw",
    "metadata": {
     "collapsed": false
    },
    "source": []
   }
  },
  "pygments_lexer": "ipython3",
  "version": 3
 },
 "nbformat": 4,
 "nbformat_minor": 2
}
